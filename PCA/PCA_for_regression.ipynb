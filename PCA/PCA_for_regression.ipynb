{
  "nbformat": 4,
  "nbformat_minor": 0,
  "metadata": {
    "colab": {
      "provenance": [],
      "toc_visible": true,
      "authorship_tag": "ABX9TyM72oh7EjMXKUD3suyszsem",
      "include_colab_link": true
    },
    "kernelspec": {
      "name": "python3",
      "display_name": "Python 3"
    },
    "language_info": {
      "name": "python"
    }
  },
  "cells": [
    {
      "cell_type": "markdown",
      "metadata": {
        "id": "view-in-github",
        "colab_type": "text"
      },
      "source": [
        "<a href=\"https://colab.research.google.com/github/mcnica89/DATA6100_F23/blob/main/PCA/PCA_for_regression.ipynb\" target=\"_parent\"><img src=\"https://colab.research.google.com/assets/colab-badge.svg\" alt=\"Open In Colab\"/></a>"
      ]
    },
    {
      "cell_type": "code",
      "source": [
        "import warnings\n",
        "warnings.filterwarnings(\"ignore\")\n",
        "\n",
        "import numpy as np\n",
        "import pandas as pd\n",
        "import seaborn as sns\n",
        "import matplotlib.pyplot as plt\n",
        "import statsmodels.formula.api as smf # R-style formula api\n",
        "\n",
        "from sklearn.model_selection import train_test_split\n",
        "from sklearn.metrics import mean_squared_error\n",
        "\n",
        "import statsmodels.api as sm\n",
        "np.random.seed(42)"
      ],
      "metadata": {
        "id": "tdU6lSDGo2my"
      },
      "execution_count": null,
      "outputs": []
    },
    {
      "cell_type": "markdown",
      "source": [
        "# Make some highly correlated data"
      ],
      "metadata": {
        "id": "QfkOr_EwRxd5"
      }
    },
    {
      "cell_type": "code",
      "execution_count": null,
      "metadata": {
        "id": "HsvreZH1owWe"
      },
      "outputs": [],
      "source": [
        "#Secret data generation!!\n",
        "def secret_data(N):\n",
        "  X_1 = np.random.randn(N)\n",
        "  a = 0.9\n",
        "  X_2 = a*X_1 + np.sqrt(1-a**2)*np.random.randn(N)\n",
        "  X_3 = a*X_2 + np.sqrt(1-a**2)*np.random.randn(N)\n",
        "  X_4 = a*X_3 + np.sqrt(1-a**2)*np.random.randn(N)\n",
        "  X_5 = a*X_4 + np.sqrt(1-a**2)*np.random.randn(N)\n",
        "\n",
        "  b = 2\n",
        "  ep = 1\n",
        "  Y_1 = b*X_1 + ep*np.random.randn(N)\n",
        "  Y_2 = b*(X_2+X_3+X_4+X_5)/np.sqrt(4) + ep*np.random.randn(N)\n",
        "  return X_1,X_2,X_3,X_4,X_5,Y_1,Y_2\n",
        "\n",
        "N = 150\n",
        "X_1,X_2,X_3,X_4,X_5,Y_1,Y_2 = secret_data(N)"
      ]
    },
    {
      "cell_type": "code",
      "source": [
        "df = pd.DataFrame({'X_1':X_1,'X_2':X_2,'X_3':X_3,'X_4':X_4, 'X_5':X_5, 'Y_1':Y_1, 'Y_2':Y_2})\n",
        "df.head()"
      ],
      "metadata": {
        "colab": {
          "base_uri": "https://localhost:8080/",
          "height": 206
        },
        "id": "C5sSAwForjZX",
        "outputId": "c49b3e25-c3b2-4c79-c8a0-4234ca6e6f83"
      },
      "execution_count": null,
      "outputs": [
        {
          "output_type": "execute_result",
          "data": {
            "text/plain": [
              "        X_1       X_2       X_3       X_4       X_5       Y_1       Y_2\n",
              "0  0.496714  0.556230  0.139256  0.098010  0.418172  0.070195  1.580342\n",
              "1 -0.138264  0.026575 -0.220259  0.218103 -0.205669 -1.628213 -0.574589\n",
              "2  0.647689  0.286504  0.583591  0.095564  0.465060  0.319504  1.459464\n",
              "3  1.523030  1.471964  1.590822  1.651448  2.077212  4.099702  8.069898\n",
              "4 -0.234153 -0.082991 -0.083802 -0.306556 -0.095688 -1.417706 -0.377939"
            ],
            "text/html": [
              "\n",
              "  <div id=\"df-5102c801-b6e5-4b98-b97c-b491157f800e\">\n",
              "    <div class=\"colab-df-container\">\n",
              "      <div>\n",
              "<style scoped>\n",
              "    .dataframe tbody tr th:only-of-type {\n",
              "        vertical-align: middle;\n",
              "    }\n",
              "\n",
              "    .dataframe tbody tr th {\n",
              "        vertical-align: top;\n",
              "    }\n",
              "\n",
              "    .dataframe thead th {\n",
              "        text-align: right;\n",
              "    }\n",
              "</style>\n",
              "<table border=\"1\" class=\"dataframe\">\n",
              "  <thead>\n",
              "    <tr style=\"text-align: right;\">\n",
              "      <th></th>\n",
              "      <th>X_1</th>\n",
              "      <th>X_2</th>\n",
              "      <th>X_3</th>\n",
              "      <th>X_4</th>\n",
              "      <th>X_5</th>\n",
              "      <th>Y_1</th>\n",
              "      <th>Y_2</th>\n",
              "    </tr>\n",
              "  </thead>\n",
              "  <tbody>\n",
              "    <tr>\n",
              "      <th>0</th>\n",
              "      <td>0.496714</td>\n",
              "      <td>0.556230</td>\n",
              "      <td>0.139256</td>\n",
              "      <td>0.098010</td>\n",
              "      <td>0.418172</td>\n",
              "      <td>0.070195</td>\n",
              "      <td>1.580342</td>\n",
              "    </tr>\n",
              "    <tr>\n",
              "      <th>1</th>\n",
              "      <td>-0.138264</td>\n",
              "      <td>0.026575</td>\n",
              "      <td>-0.220259</td>\n",
              "      <td>0.218103</td>\n",
              "      <td>-0.205669</td>\n",
              "      <td>-1.628213</td>\n",
              "      <td>-0.574589</td>\n",
              "    </tr>\n",
              "    <tr>\n",
              "      <th>2</th>\n",
              "      <td>0.647689</td>\n",
              "      <td>0.286504</td>\n",
              "      <td>0.583591</td>\n",
              "      <td>0.095564</td>\n",
              "      <td>0.465060</td>\n",
              "      <td>0.319504</td>\n",
              "      <td>1.459464</td>\n",
              "    </tr>\n",
              "    <tr>\n",
              "      <th>3</th>\n",
              "      <td>1.523030</td>\n",
              "      <td>1.471964</td>\n",
              "      <td>1.590822</td>\n",
              "      <td>1.651448</td>\n",
              "      <td>2.077212</td>\n",
              "      <td>4.099702</td>\n",
              "      <td>8.069898</td>\n",
              "    </tr>\n",
              "    <tr>\n",
              "      <th>4</th>\n",
              "      <td>-0.234153</td>\n",
              "      <td>-0.082991</td>\n",
              "      <td>-0.083802</td>\n",
              "      <td>-0.306556</td>\n",
              "      <td>-0.095688</td>\n",
              "      <td>-1.417706</td>\n",
              "      <td>-0.377939</td>\n",
              "    </tr>\n",
              "  </tbody>\n",
              "</table>\n",
              "</div>\n",
              "      <button class=\"colab-df-convert\" onclick=\"convertToInteractive('df-5102c801-b6e5-4b98-b97c-b491157f800e')\"\n",
              "              title=\"Convert this dataframe to an interactive table.\"\n",
              "              style=\"display:none;\">\n",
              "        \n",
              "  <svg xmlns=\"http://www.w3.org/2000/svg\" height=\"24px\"viewBox=\"0 0 24 24\"\n",
              "       width=\"24px\">\n",
              "    <path d=\"M0 0h24v24H0V0z\" fill=\"none\"/>\n",
              "    <path d=\"M18.56 5.44l.94 2.06.94-2.06 2.06-.94-2.06-.94-.94-2.06-.94 2.06-2.06.94zm-11 1L8.5 8.5l.94-2.06 2.06-.94-2.06-.94L8.5 2.5l-.94 2.06-2.06.94zm10 10l.94 2.06.94-2.06 2.06-.94-2.06-.94-.94-2.06-.94 2.06-2.06.94z\"/><path d=\"M17.41 7.96l-1.37-1.37c-.4-.4-.92-.59-1.43-.59-.52 0-1.04.2-1.43.59L10.3 9.45l-7.72 7.72c-.78.78-.78 2.05 0 2.83L4 21.41c.39.39.9.59 1.41.59.51 0 1.02-.2 1.41-.59l7.78-7.78 2.81-2.81c.8-.78.8-2.07 0-2.86zM5.41 20L4 18.59l7.72-7.72 1.47 1.35L5.41 20z\"/>\n",
              "  </svg>\n",
              "      </button>\n",
              "      \n",
              "  <style>\n",
              "    .colab-df-container {\n",
              "      display:flex;\n",
              "      flex-wrap:wrap;\n",
              "      gap: 12px;\n",
              "    }\n",
              "\n",
              "    .colab-df-convert {\n",
              "      background-color: #E8F0FE;\n",
              "      border: none;\n",
              "      border-radius: 50%;\n",
              "      cursor: pointer;\n",
              "      display: none;\n",
              "      fill: #1967D2;\n",
              "      height: 32px;\n",
              "      padding: 0 0 0 0;\n",
              "      width: 32px;\n",
              "    }\n",
              "\n",
              "    .colab-df-convert:hover {\n",
              "      background-color: #E2EBFA;\n",
              "      box-shadow: 0px 1px 2px rgba(60, 64, 67, 0.3), 0px 1px 3px 1px rgba(60, 64, 67, 0.15);\n",
              "      fill: #174EA6;\n",
              "    }\n",
              "\n",
              "    [theme=dark] .colab-df-convert {\n",
              "      background-color: #3B4455;\n",
              "      fill: #D2E3FC;\n",
              "    }\n",
              "\n",
              "    [theme=dark] .colab-df-convert:hover {\n",
              "      background-color: #434B5C;\n",
              "      box-shadow: 0px 1px 3px 1px rgba(0, 0, 0, 0.15);\n",
              "      filter: drop-shadow(0px 1px 2px rgba(0, 0, 0, 0.3));\n",
              "      fill: #FFFFFF;\n",
              "    }\n",
              "  </style>\n",
              "\n",
              "      <script>\n",
              "        const buttonEl =\n",
              "          document.querySelector('#df-5102c801-b6e5-4b98-b97c-b491157f800e button.colab-df-convert');\n",
              "        buttonEl.style.display =\n",
              "          google.colab.kernel.accessAllowed ? 'block' : 'none';\n",
              "\n",
              "        async function convertToInteractive(key) {\n",
              "          const element = document.querySelector('#df-5102c801-b6e5-4b98-b97c-b491157f800e');\n",
              "          const dataTable =\n",
              "            await google.colab.kernel.invokeFunction('convertToInteractive',\n",
              "                                                     [key], {});\n",
              "          if (!dataTable) return;\n",
              "\n",
              "          const docLinkHtml = 'Like what you see? Visit the ' +\n",
              "            '<a target=\"_blank\" href=https://colab.research.google.com/notebooks/data_table.ipynb>data table notebook</a>'\n",
              "            + ' to learn more about interactive tables.';\n",
              "          element.innerHTML = '';\n",
              "          dataTable['output_type'] = 'display_data';\n",
              "          await google.colab.output.renderOutput(dataTable, element);\n",
              "          const docLink = document.createElement('div');\n",
              "          docLink.innerHTML = docLinkHtml;\n",
              "          element.appendChild(docLink);\n",
              "        }\n",
              "      </script>\n",
              "    </div>\n",
              "  </div>\n",
              "  "
            ]
          },
          "metadata": {},
          "execution_count": 4
        }
      ]
    },
    {
      "cell_type": "code",
      "source": [
        "corr_matrix = df[['X_1', 'X_2','X_3','X_4','X_5']].corr()\n",
        "sns.heatmap(corr_matrix, annot=True)\n",
        "plt.show()"
      ],
      "metadata": {
        "colab": {
          "base_uri": "https://localhost:8080/",
          "height": 270
        },
        "id": "m7sg686ohK97",
        "outputId": "35668a95-90ff-482a-a46b-295d752666fa"
      },
      "execution_count": null,
      "outputs": [
        {
          "output_type": "display_data",
          "data": {
            "text/plain": [
              "<Figure size 432x288 with 2 Axes>"
            ],
            "image/png": "[encoded data removed]"
          },
          "metadata": {
            "needs_background": "light"
          }
        }
      ]
    },
    {
      "cell_type": "markdown",
      "source": [
        "#Multiple Linear Regression"
      ],
      "metadata": {
        "id": "3IVwZK9vvEH4"
      }
    },
    {
      "cell_type": "markdown",
      "source": [
        "# Pre-selecting variables based on correlation (or any other criteria)\n"
      ],
      "metadata": {
        "id": "O8GggSypiOwq"
      }
    },
    {
      "cell_type": "code",
      "source": [
        "#If you delete all variables correlated with >0.7, then you end up with only X_1\n",
        "# ols model with intercept\n",
        "\n",
        "def single_var_regression(my_X,my_Y,df=df):\n",
        "  my_test_size = 0.2\n",
        "  df_train, df_test = train_test_split(df, test_size=my_test_size)\n",
        "\n",
        "  Y_vs_X_model = smf.ols(formula= my_Y + ' ~ ' + my_X, data=df_train)\n",
        "\n",
        "  #_ fitted model and summary\n",
        "  Y_vs_X_fit = Y_vs_X_model.fit()\n",
        "  print(f\"Train set size = {int((1-my_test_size)*N)}\")\n",
        "  print(f\"Test set size = {int(my_test_size*N)}\")\n",
        "\n",
        "\n",
        "  test_preds = Y_vs_X_fit.predict(df_test)\n",
        "  MSE = np.mean( (df_test[my_Y] - test_preds)**2 )\n",
        "  print(f\"Test validation RMSE = { np.sqrt(MSE) }\")\n",
        "\n",
        "\n",
        "  #print(Y_vs_X_fit.summary())\n",
        "\n",
        "  ## Plot it\n",
        "  X1_axis = np.linspace(-4,4,100)\n",
        "  Y1_pred = Y_vs_X_fit.predict(pd.DataFrame({my_X:X1_axis}))\n",
        "  plt.plot(df_train[my_X],df_train[my_Y],'o',label='Train data')\n",
        "  plt.plot(df_test[my_X],df_test[my_Y],'o',label='Test data')\n",
        "  plt.plot(X1_axis,Y1_pred,'-',label=f'Lin. fit RMSE={np.sqrt(MSE):.3f}')\n",
        "  plt.title(f\"Single Variable Regression: {my_Y} vs {my_X}\")\n",
        "  plt.xlabel(my_X)\n",
        "  plt.ylabel(my_Y)\n",
        "  plt.legend()\n"
      ],
      "metadata": {
        "id": "3kIeD_TFiddz"
      },
      "execution_count": null,
      "outputs": []
    },
    {
      "cell_type": "markdown",
      "source": [
        "## Y_1 vs X_1"
      ],
      "metadata": {
        "id": "xzAWlYLOnCi3"
      }
    },
    {
      "cell_type": "code",
      "source": [
        "single_var_regression(my_X = 'X_1',my_Y = 'Y_1')"
      ],
      "metadata": {
        "colab": {
          "base_uri": "https://localhost:8080/",
          "height": 348
        },
        "id": "VxRyjl2mmtD9",
        "outputId": "cf6e0cbe-5817-4643-8c9d-b31ece81f22d"
      },
      "execution_count": null,
      "outputs": [
        {
          "output_type": "stream",
          "name": "stdout",
          "text": [
            "Train set size = 120\n",
            "Test set size = 30\n",
            "Test validation RMSE = 0.9534320190675457\n"
          ]
        },
        {
          "output_type": "display_data",
          "data": {
            "text/plain": [
              "<Figure size 432x288 with 1 Axes>"
            ],
            "image/png": "[encoded data removed]"
          },
          "metadata": {
            "needs_background": "light"
          }
        }
      ]
    },
    {
      "cell_type": "markdown",
      "source": [
        "## Y_2 vs X_1"
      ],
      "metadata": {
        "id": "GAl7PWQEnGkj"
      }
    },
    {
      "cell_type": "code",
      "source": [
        "single_var_regression(my_X = 'X_1',my_Y = 'Y_2')"
      ],
      "metadata": {
        "colab": {
          "base_uri": "https://localhost:8080/",
          "height": 348
        },
        "id": "1i2AgB5lm3mG",
        "outputId": "a6b52a48-b885-46f0-e7e6-1bb278e9d125"
      },
      "execution_count": null,
      "outputs": [
        {
          "output_type": "stream",
          "name": "stdout",
          "text": [
            "Train set size = 120\n",
            "Test set size = 30\n",
            "Test validation RMSE = 2.0260542806074886\n"
          ]
        },
        {
          "output_type": "display_data",
          "data": {
            "text/plain": [
              "<Figure size 432x288 with 1 Axes>"
            ],
            "image/png": "[encoded data removed]"
          },
          "metadata": {
            "needs_background": "light"
          }
        }
      ]
    },
    {
      "cell_type": "code",
      "source": [],
      "metadata": {
        "id": "-t3Z88VONu4l"
      },
      "execution_count": null,
      "outputs": []
    },
    {
      "cell_type": "markdown",
      "source": [
        "# Forward variable selection"
      ],
      "metadata": {
        "id": "4kBOsGocvOiC"
      }
    },
    {
      "cell_type": "code",
      "source": [
        "\n",
        "def forward_subset_selection(X,y,my_test_size=0.5):\n",
        "  X_train, X_test, y_train, y_test = train_test_split(X, y, test_size=my_test_size, random_state=3)\n",
        "\n",
        "  def processSubset(feature_set, X_train, y_train, X_test, y_test):\n",
        "      # Fit model on feature_set and calculate RSS\n",
        "      model = sm.OLS(y_train,X_train[list(feature_set)])\n",
        "      regr = model.fit()\n",
        "      RMSE = np.sqrt( np.mean((regr.predict(X_test[list(feature_set)]) - y_test) ** 2) )\n",
        "      return {'features':feature_set, 'model':regr, 'RMSE':RMSE}\n",
        "\n",
        "  def forward(predictors, X_train, y_train, X_test, y_test):\n",
        "\n",
        "      # Pull out predictors we still need to process\n",
        "      remaining_predictors = [p for p in X_train.columns if p not in predictors]\n",
        "\n",
        "      results = []\n",
        "\n",
        "      for p in remaining_predictors:\n",
        "          results.append(processSubset(predictors+[p], X_train, y_train, X_test, y_test))\n",
        "\n",
        "      # Wrap everything up in a nice dataframe\n",
        "      models = pd.DataFrame(results)\n",
        "      print(\"----Models tried in this round----\\n\", models[['features','RMSE']] )\n",
        "\n",
        "      # Choose the model with the highest RSS\n",
        "      best_model = models.loc[models['RMSE'].argmin()]\n",
        "\n",
        "      # Return the best model, along with some other useful information about the model\n",
        "      return best_model\n",
        "\n",
        "  models_train = pd.DataFrame(columns=['RMSE', 'model'])\n",
        "\n",
        "  predictors = []\n",
        "\n",
        "  for i in range(1,len(X.columns)+1):\n",
        "      models_train.loc[i] = forward(predictors, X_train, y_train, X_test, y_test)\n",
        "      predictors = models_train.loc[i]['model'].model.exog_names\n",
        "\n",
        "  plt.plot(models_train['RMSE'],'ob')\n",
        "  plt.xlabel('# Predictors')\n",
        "  plt.ylabel('RMSE')\n",
        "\n",
        "  best_n_vars = models_train['RMSE'].argmin()+1\n",
        "  best_RMSE = models_train['RMSE'].min()\n",
        "  #Note: the plus 1 accounts for starting at 0 vs at 1 in the indexing\n",
        "  plt.plot(best_n_vars, best_RMSE, 'or');\n",
        "  plt.title(f\"Best #Vars = {best_n_vars}\")\n",
        "  print(\"==========\")\n",
        "  print(f\"Best number of vars found: {best_n_vars}\")\n",
        "  print(f\"Best model found: {models_train.loc[best_n_vars]['model'].model.exog_names}\")"
      ],
      "metadata": {
        "id": "xjSKhJNbj9C9"
      },
      "execution_count": null,
      "outputs": []
    },
    {
      "cell_type": "markdown",
      "source": [
        "#Y_1 subset selection"
      ],
      "metadata": {
        "id": "LPbxIv9XqVXO"
      }
    },
    {
      "cell_type": "code",
      "source": [
        "X = df.iloc[:, 0:5] #X_1 to X_5\n",
        "Y_1 = df.iloc[:, 5] #Y_1\n",
        "forward_subset_selection(X,Y_1)"
      ],
      "metadata": {
        "colab": {
          "base_uri": "https://localhost:8080/",
          "height": 781
        },
        "id": "GwrNu9fLqT_L",
        "outputId": "90e2563a-9bc9-4e26-bdc5-2d7e5ab5b3d5"
      },
      "execution_count": null,
      "outputs": [
        {
          "output_type": "stream",
          "name": "stdout",
          "text": [
            "----Models tried in this round----\n",
            "   features      RMSE\n",
            "0    [X_1]  1.087479\n",
            "1    [X_2]  1.425349\n",
            "2    [X_3]  1.504895\n",
            "3    [X_4]  1.665375\n",
            "4    [X_5]  1.771373\n",
            "----Models tried in this round----\n",
            "      features      RMSE\n",
            "0  [X_1, X_2]  1.098479\n",
            "1  [X_1, X_3]  1.109613\n",
            "2  [X_1, X_4]  1.098011\n",
            "3  [X_1, X_5]  1.109878\n",
            "----Models tried in this round----\n",
            "           features      RMSE\n",
            "0  [X_1, X_4, X_2]  1.102802\n",
            "1  [X_1, X_4, X_3]  1.102338\n",
            "2  [X_1, X_4, X_5]  1.106236\n",
            "----Models tried in this round----\n",
            "                features      RMSE\n",
            "0  [X_1, X_4, X_3, X_2]  1.093749\n",
            "1  [X_1, X_4, X_3, X_5]  1.109959\n",
            "----Models tried in this round----\n",
            "                     features      RMSE\n",
            "0  [X_1, X_4, X_3, X_2, X_5]  1.101523\n",
            "==========\n",
            "Best number of vars found: 1\n",
            "Best model found: ['X_1']\n"
          ]
        },
        {
          "output_type": "display_data",
          "data": {
            "text/plain": [
              "<Figure size 432x288 with 1 Axes>"
            ],
            "image/png": "[encoded data removed]"
          },
          "metadata": {
            "needs_background": "light"
          }
        }
      ]
    },
    {
      "cell_type": "markdown",
      "source": [
        "# Y_2 Selection"
      ],
      "metadata": {
        "id": "jvnO8ySltkvM"
      }
    },
    {
      "cell_type": "code",
      "source": [
        "X = df.iloc[:, 0:5] #X_1 to X_5\n",
        "Y_2 = df.iloc[:, 6] #Y_2\n",
        "forward_subset_selection(X,Y_2)"
      ],
      "metadata": {
        "colab": {
          "base_uri": "https://localhost:8080/",
          "height": 781
        },
        "id": "X7QpS4ygtmZy",
        "outputId": "2143030e-c15a-438f-8205-41a36db6f489"
      },
      "execution_count": null,
      "outputs": [
        {
          "output_type": "stream",
          "name": "stdout",
          "text": [
            "----Models tried in this round----\n",
            "   features      RMSE\n",
            "0    [X_1]  2.340443\n",
            "1    [X_2]  1.696376\n",
            "2    [X_3]  1.464689\n",
            "3    [X_4]  1.389939\n",
            "4    [X_5]  1.727119\n",
            "----Models tried in this round----\n",
            "      features      RMSE\n",
            "0  [X_4, X_1]  1.212710\n",
            "1  [X_4, X_2]  1.119604\n",
            "2  [X_4, X_3]  1.199684\n",
            "3  [X_4, X_5]  1.304170\n",
            "----Models tried in this round----\n",
            "           features      RMSE\n",
            "0  [X_4, X_2, X_1]  1.127617\n",
            "1  [X_4, X_2, X_3]  1.106830\n",
            "2  [X_4, X_2, X_5]  0.999107\n",
            "----Models tried in this round----\n",
            "                features      RMSE\n",
            "0  [X_4, X_2, X_5, X_1]  1.012357\n",
            "1  [X_4, X_2, X_5, X_3]  0.991700\n",
            "----Models tried in this round----\n",
            "                     features      RMSE\n",
            "0  [X_4, X_2, X_5, X_3, X_1]  1.012846\n",
            "==========\n",
            "Best number of vars found: 4\n",
            "Best model found: ['X_4', 'X_2', 'X_5', 'X_3']\n"
          ]
        },
        {
          "output_type": "display_data",
          "data": {
            "text/plain": [
              "<Figure size 432x288 with 1 Axes>"
            ],
            "image/png": "[encoded data removed]"
          },
          "metadata": {
            "needs_background": "light"
          }
        }
      ]
    },
    {
      "cell_type": "code",
      "source": [],
      "metadata": {
        "id": "uaWkfY5IQf9Q"
      },
      "execution_count": null,
      "outputs": []
    },
    {
      "cell_type": "markdown",
      "source": [
        "# Doing it with PCA"
      ],
      "metadata": {
        "id": "ySJ8pjJbNwjz"
      }
    },
    {
      "cell_type": "code",
      "source": [
        "from sklearn.decomposition import PCA\n",
        "pca = PCA(n_components=5)\n",
        "X = np.column_stack((X_1,X_2,X_3,X_4,X_5))\n",
        "pca.fit(X)\n",
        "print(\"Variance ratio of components:\\n\",pca.explained_variance_ratio_)\n"
      ],
      "metadata": {
        "id": "mAJYsUCDNyWP",
        "outputId": "2017d83f-0518-4d4a-8dca-00437ec1128b",
        "colab": {
          "base_uri": "https://localhost:8080/"
        }
      },
      "execution_count": null,
      "outputs": [
        {
          "output_type": "stream",
          "name": "stdout",
          "text": [
            "Variance ratio of components:\n",
            " [0.83072847 0.10667634 0.03120942 0.01890257 0.0124832 ]\n"
          ]
        }
      ]
    },
    {
      "cell_type": "code",
      "source": [
        "PCA_X = pca.transform(X)\n",
        "PCA_df = pd.DataFrame({'PCA_1':PCA_X[:,0],'PCA_2':PCA_X[:,1],'PCA_3':PCA_X[:,2],'PCA_4':PCA_X[:,3], 'PCA_5':PCA_X[:,4], 'Y_1':Y_1, 'Y_2':Y_2})\n",
        "PCA_df.head()"
      ],
      "metadata": {
        "id": "i6VcDDCvPWQS",
        "outputId": "64f0576a-2099-47d5-f089-35ab1b0bea16",
        "colab": {
          "base_uri": "https://localhost:8080/",
          "height": 206
        }
      },
      "execution_count": null,
      "outputs": [
        {
          "output_type": "execute_result",
          "data": {
            "text/plain": [
              "      PCA_1     PCA_2     PCA_3     PCA_4     PCA_5       Y_1       Y_2\n",
              "0  0.874346 -0.205287  0.324937 -0.228274 -0.108573  0.070195  1.580342\n",
              "1 -0.027896  0.019786 -0.030748  0.194922 -0.323700 -1.628213 -0.574589\n",
              "2  1.042061 -0.173947  0.212672 -0.074303  0.370762  0.319504  1.459464\n",
              "3  3.818595  0.435182  0.422348 -0.034136  0.087730  4.099702  8.069898\n",
              "4 -0.238995 -0.001389 -0.010054 -0.182887  0.049133 -1.417706 -0.377939"
            ],
            "text/html": [
              "\n",
              "  <div id=\"df-c2037bf7-301e-4378-990a-1eb3ea3cb339\">\n",
              "    <div class=\"colab-df-container\">\n",
              "      <div>\n",
              "<style scoped>\n",
              "    .dataframe tbody tr th:only-of-type {\n",
              "        vertical-align: middle;\n",
              "    }\n",
              "\n",
              "    .dataframe tbody tr th {\n",
              "        vertical-align: top;\n",
              "    }\n",
              "\n",
              "    .dataframe thead th {\n",
              "        text-align: right;\n",
              "    }\n",
              "</style>\n",
              "<table border=\"1\" class=\"dataframe\">\n",
              "  <thead>\n",
              "    <tr style=\"text-align: right;\">\n",
              "      <th></th>\n",
              "      <th>PCA_1</th>\n",
              "      <th>PCA_2</th>\n",
              "      <th>PCA_3</th>\n",
              "      <th>PCA_4</th>\n",
              "      <th>PCA_5</th>\n",
              "      <th>Y_1</th>\n",
              "      <th>Y_2</th>\n",
              "    </tr>\n",
              "  </thead>\n",
              "  <tbody>\n",
              "    <tr>\n",
              "      <th>0</th>\n",
              "      <td>0.874346</td>\n",
              "      <td>-0.205287</td>\n",
              "      <td>0.324937</td>\n",
              "      <td>-0.228274</td>\n",
              "      <td>-0.108573</td>\n",
              "      <td>0.070195</td>\n",
              "      <td>1.580342</td>\n",
              "    </tr>\n",
              "    <tr>\n",
              "      <th>1</th>\n",
              "      <td>-0.027896</td>\n",
              "      <td>0.019786</td>\n",
              "      <td>-0.030748</td>\n",
              "      <td>0.194922</td>\n",
              "      <td>-0.323700</td>\n",
              "      <td>-1.628213</td>\n",
              "      <td>-0.574589</td>\n",
              "    </tr>\n",
              "    <tr>\n",
              "      <th>2</th>\n",
              "      <td>1.042061</td>\n",
              "      <td>-0.173947</td>\n",
              "      <td>0.212672</td>\n",
              "      <td>-0.074303</td>\n",
              "      <td>0.370762</td>\n",
              "      <td>0.319504</td>\n",
              "      <td>1.459464</td>\n",
              "    </tr>\n",
              "    <tr>\n",
              "      <th>3</th>\n",
              "      <td>3.818595</td>\n",
              "      <td>0.435182</td>\n",
              "      <td>0.422348</td>\n",
              "      <td>-0.034136</td>\n",
              "      <td>0.087730</td>\n",
              "      <td>4.099702</td>\n",
              "      <td>8.069898</td>\n",
              "    </tr>\n",
              "    <tr>\n",
              "      <th>4</th>\n",
              "      <td>-0.238995</td>\n",
              "      <td>-0.001389</td>\n",
              "      <td>-0.010054</td>\n",
              "      <td>-0.182887</td>\n",
              "      <td>0.049133</td>\n",
              "      <td>-1.417706</td>\n",
              "      <td>-0.377939</td>\n",
              "    </tr>\n",
              "  </tbody>\n",
              "</table>\n",
              "</div>\n",
              "      <button class=\"colab-df-convert\" onclick=\"convertToInteractive('df-c2037bf7-301e-4378-990a-1eb3ea3cb339')\"\n",
              "              title=\"Convert this dataframe to an interactive table.\"\n",
              "              style=\"display:none;\">\n",
              "        \n",
              "  <svg xmlns=\"http://www.w3.org/2000/svg\" height=\"24px\"viewBox=\"0 0 24 24\"\n",
              "       width=\"24px\">\n",
              "    <path d=\"M0 0h24v24H0V0z\" fill=\"none\"/>\n",
              "    <path d=\"M18.56 5.44l.94 2.06.94-2.06 2.06-.94-2.06-.94-.94-2.06-.94 2.06-2.06.94zm-11 1L8.5 8.5l.94-2.06 2.06-.94-2.06-.94L8.5 2.5l-.94 2.06-2.06.94zm10 10l.94 2.06.94-2.06 2.06-.94-2.06-.94-.94-2.06-.94 2.06-2.06.94z\"/><path d=\"M17.41 7.96l-1.37-1.37c-.4-.4-.92-.59-1.43-.59-.52 0-1.04.2-1.43.59L10.3 9.45l-7.72 7.72c-.78.78-.78 2.05 0 2.83L4 21.41c.39.39.9.59 1.41.59.51 0 1.02-.2 1.41-.59l7.78-7.78 2.81-2.81c.8-.78.8-2.07 0-2.86zM5.41 20L4 18.59l7.72-7.72 1.47 1.35L5.41 20z\"/>\n",
              "  </svg>\n",
              "      </button>\n",
              "      \n",
              "  <style>\n",
              "    .colab-df-container {\n",
              "      display:flex;\n",
              "      flex-wrap:wrap;\n",
              "      gap: 12px;\n",
              "    }\n",
              "\n",
              "    .colab-df-convert {\n",
              "      background-color: #E8F0FE;\n",
              "      border: none;\n",
              "      border-radius: 50%;\n",
              "      cursor: pointer;\n",
              "      display: none;\n",
              "      fill: #1967D2;\n",
              "      height: 32px;\n",
              "      padding: 0 0 0 0;\n",
              "      width: 32px;\n",
              "    }\n",
              "\n",
              "    .colab-df-convert:hover {\n",
              "      background-color: #E2EBFA;\n",
              "      box-shadow: 0px 1px 2px rgba(60, 64, 67, 0.3), 0px 1px 3px 1px rgba(60, 64, 67, 0.15);\n",
              "      fill: #174EA6;\n",
              "    }\n",
              "\n",
              "    [theme=dark] .colab-df-convert {\n",
              "      background-color: #3B4455;\n",
              "      fill: #D2E3FC;\n",
              "    }\n",
              "\n",
              "    [theme=dark] .colab-df-convert:hover {\n",
              "      background-color: #434B5C;\n",
              "      box-shadow: 0px 1px 3px 1px rgba(0, 0, 0, 0.15);\n",
              "      filter: drop-shadow(0px 1px 2px rgba(0, 0, 0, 0.3));\n",
              "      fill: #FFFFFF;\n",
              "    }\n",
              "  </style>\n",
              "\n",
              "      <script>\n",
              "        const buttonEl =\n",
              "          document.querySelector('#df-c2037bf7-301e-4378-990a-1eb3ea3cb339 button.colab-df-convert');\n",
              "        buttonEl.style.display =\n",
              "          google.colab.kernel.accessAllowed ? 'block' : 'none';\n",
              "\n",
              "        async function convertToInteractive(key) {\n",
              "          const element = document.querySelector('#df-c2037bf7-301e-4378-990a-1eb3ea3cb339');\n",
              "          const dataTable =\n",
              "            await google.colab.kernel.invokeFunction('convertToInteractive',\n",
              "                                                     [key], {});\n",
              "          if (!dataTable) return;\n",
              "\n",
              "          const docLinkHtml = 'Like what you see? Visit the ' +\n",
              "            '<a target=\"_blank\" href=https://colab.research.google.com/notebooks/data_table.ipynb>data table notebook</a>'\n",
              "            + ' to learn more about interactive tables.';\n",
              "          element.innerHTML = '';\n",
              "          dataTable['output_type'] = 'display_data';\n",
              "          await google.colab.output.renderOutput(dataTable, element);\n",
              "          const docLink = document.createElement('div');\n",
              "          docLink.innerHTML = docLinkHtml;\n",
              "          element.appendChild(docLink);\n",
              "        }\n",
              "      </script>\n",
              "    </div>\n",
              "  </div>\n",
              "  "
            ]
          },
          "metadata": {},
          "execution_count": 13
        }
      ]
    },
    {
      "cell_type": "markdown",
      "source": [
        "## Y_1 vs PCA_1"
      ],
      "metadata": {
        "id": "OakMx0UHQlgi"
      }
    },
    {
      "cell_type": "code",
      "source": [
        "single_var_regression(my_X = 'PCA_1',my_Y = 'Y_1', df=PCA_df)"
      ],
      "metadata": {
        "id": "H8ajtkKDPwHS",
        "outputId": "8977122a-b991-4ffb-9955-7c6af224a11a",
        "colab": {
          "base_uri": "https://localhost:8080/"
        }
      },
      "execution_count": null,
      "outputs": [
        {
          "output_type": "stream",
          "name": "stdout",
          "text": [
            "Train set size = 120\n",
            "Test set size = 30\n",
            "Test validation RMSE = 1.4546976035000938\n"
          ]
        },
        {
          "output_type": "display_data",
          "data": {
            "text/plain": [
              "<Figure size 432x288 with 1 Axes>"
            ],
            "image/png": "[encoded data removed]"
          },
          "metadata": {
            "needs_background": "light"
          }
        }
      ]
    },
    {
      "cell_type": "markdown",
      "source": [
        "## Y_2 vs PCA_1"
      ],
      "metadata": {
        "id": "rcIwaiV8QpSv"
      }
    },
    {
      "cell_type": "code",
      "source": [
        "single_var_regression(my_X = 'PCA_1',my_Y = 'Y_2', df=PCA_df)"
      ],
      "metadata": {
        "id": "T1kdRN0vP4oB",
        "outputId": "72b2ea99-98bf-45de-c394-97ac2ceb26b5",
        "colab": {
          "base_uri": "https://localhost:8080/",
          "height": 348
        }
      },
      "execution_count": null,
      "outputs": [
        {
          "output_type": "stream",
          "name": "stdout",
          "text": [
            "Train set size = 120\n",
            "Test set size = 30\n",
            "Test validation RMSE = 1.1557426567454487\n"
          ]
        },
        {
          "output_type": "display_data",
          "data": {
            "text/plain": [
              "<Figure size 432x288 with 1 Axes>"
            ],
            "image/png": "[encoded data removed]"
          },
          "metadata": {
            "needs_background": "light"
          }
        }
      ]
    },
    {
      "cell_type": "code",
      "source": [],
      "metadata": {
        "id": "DTSkY7gjQw_9"
      },
      "execution_count": null,
      "outputs": []
    },
    {
      "cell_type": "markdown",
      "source": [
        "# Subset selection with PCA variables"
      ],
      "metadata": {
        "id": "YrrXXpyIQxoK"
      }
    },
    {
      "cell_type": "markdown",
      "source": [
        "## Y_1 vs PCA"
      ],
      "metadata": {
        "id": "RWx0eoNfRIXA"
      }
    },
    {
      "cell_type": "code",
      "source": [
        "PCA_X = PCA_df.iloc[:, 0:5] #PCA_1 to PCA_5\n",
        "Y_1 = PCA_df.iloc[:, 5] #Y_1\n",
        "forward_subset_selection(PCA_X,Y_1)"
      ],
      "metadata": {
        "colab": {
          "base_uri": "https://localhost:8080/",
          "height": 781
        },
        "id": "BSfPrPgrQ0J7",
        "outputId": "d1d52bc5-fe5f-4cc7-db60-d2af6b3e14fd"
      },
      "execution_count": null,
      "outputs": [
        {
          "output_type": "stream",
          "name": "stdout",
          "text": [
            "----Models tried in this round----\n",
            "   features      RMSE\n",
            "0  [PCA_1]  1.381896\n",
            "1  [PCA_2]  2.028606\n",
            "2  [PCA_3]  2.018302\n",
            "3  [PCA_4]  2.034179\n",
            "4  [PCA_5]  2.048850\n",
            "----Models tried in this round----\n",
            "          features      RMSE\n",
            "0  [PCA_1, PCA_2]  1.159226\n",
            "1  [PCA_1, PCA_3]  1.315365\n",
            "2  [PCA_1, PCA_4]  1.370868\n",
            "3  [PCA_1, PCA_5]  1.341834\n",
            "----Models tried in this round----\n",
            "                 features      RMSE\n",
            "0  [PCA_1, PCA_2, PCA_3]  1.094209\n",
            "1  [PCA_1, PCA_2, PCA_4]  1.157793\n",
            "2  [PCA_1, PCA_2, PCA_5]  1.107549\n",
            "----Models tried in this round----\n",
            "                        features      RMSE\n",
            "0  [PCA_1, PCA_2, PCA_3, PCA_4]  1.107206\n",
            "1  [PCA_1, PCA_2, PCA_3, PCA_5]  1.038367\n",
            "----Models tried in this round----\n",
            "                               features      RMSE\n",
            "0  [PCA_1, PCA_2, PCA_3, PCA_5, PCA_4]  1.051645\n",
            "==========\n",
            "Best number of vars found: 4\n",
            "Best model found: ['PCA_1', 'PCA_2', 'PCA_3', 'PCA_5']\n"
          ]
        },
        {
          "output_type": "display_data",
          "data": {
            "text/plain": [
              "<Figure size 432x288 with 1 Axes>"
            ],
            "image/png": "[encoded data removed]"
          },
          "metadata": {
            "needs_background": "light"
          }
        }
      ]
    },
    {
      "cell_type": "markdown",
      "source": [
        "## Y_2 vs PCA"
      ],
      "metadata": {
        "id": "XyVG5bMpRNAH"
      }
    },
    {
      "cell_type": "code",
      "source": [
        "PCA_X = PCA_df.iloc[:, 0:5] #PCA_1 to PCA_5\n",
        "Y_2 = PCA_df.iloc[:, 6] #Y_1\n",
        "forward_subset_selection(PCA_X,Y_2)"
      ],
      "metadata": {
        "colab": {
          "base_uri": "https://localhost:8080/",
          "height": 781
        },
        "id": "spU9Z-dzRPqO",
        "outputId": "e472540a-792c-4253-fe4f-189e3e3953be"
      },
      "execution_count": null,
      "outputs": [
        {
          "output_type": "stream",
          "name": "stdout",
          "text": [
            "----Models tried in this round----\n",
            "   features      RMSE\n",
            "0  [PCA_1]  0.959628\n",
            "1  [PCA_2]  3.528614\n",
            "2  [PCA_3]  3.572088\n",
            "3  [PCA_4]  3.589795\n",
            "4  [PCA_5]  3.664875\n",
            "----Models tried in this round----\n",
            "          features      RMSE\n",
            "0  [PCA_1, PCA_2]  0.970065\n",
            "1  [PCA_1, PCA_3]  0.982447\n",
            "2  [PCA_1, PCA_4]  0.980783\n",
            "3  [PCA_1, PCA_5]  0.962329\n",
            "----Models tried in this round----\n",
            "                 features      RMSE\n",
            "0  [PCA_1, PCA_5, PCA_2]  0.971389\n",
            "1  [PCA_1, PCA_5, PCA_3]  0.983431\n",
            "2  [PCA_1, PCA_5, PCA_4]  0.983188\n",
            "----Models tried in this round----\n",
            "                        features      RMSE\n",
            "0  [PCA_1, PCA_5, PCA_2, PCA_3]  1.000388\n",
            "1  [PCA_1, PCA_5, PCA_2, PCA_4]  0.968837\n",
            "----Models tried in this round----\n",
            "                               features      RMSE\n",
            "0  [PCA_1, PCA_5, PCA_2, PCA_4, PCA_3]  0.997459\n",
            "==========\n",
            "Best number of vars found: 1\n",
            "Best model found: ['PCA_1']\n"
          ]
        },
        {
          "output_type": "display_data",
          "data": {
            "text/plain": [
              "<Figure size 432x288 with 1 Axes>"
            ],
            "image/png": "[encoded data removed]"
          },
          "metadata": {
            "needs_background": "light"
          }
        }
      ]
    }
  ]
}