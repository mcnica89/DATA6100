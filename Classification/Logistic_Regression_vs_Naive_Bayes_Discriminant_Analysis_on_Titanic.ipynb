{
  "nbformat": 4,
  "nbformat_minor": 0,
  "metadata": {
    "colab": {
      "provenance": [],
      "authorship_tag": "ABX9TyP8DOZMVGwxyohE1jNyEG7D",
      "include_colab_link": true
    },
    "kernelspec": {
      "name": "python3",
      "display_name": "Python 3"
    },
    "language_info": {
      "name": "python"
    }
  },
  "cells": [
    {
      "cell_type": "markdown",
      "metadata": {
        "id": "view-in-github",
        "colab_type": "text"
      },
      "source": [
        "<a href=\"https://colab.research.google.com/github/mcnica89/DATA6100_F23/blob/main/Classification/Logistic_Regression_vs_Naive_Bayes_Discriminant_Analysis_on_Titanic.ipynb\" target=\"_parent\"><img src=\"https://colab.research.google.com/assets/colab-badge.svg\" alt=\"Open In Colab\"/></a>"
      ]
    },
    {
      "cell_type": "code",
      "execution_count": null,
      "metadata": {
        "id": "92rvdgplz1Hr"
      },
      "outputs": [],
      "source": [
        "###\n",
        "# Import packages\n",
        "###\n",
        "import pandas as pd\n",
        "import numpy as np\n",
        "import matplotlib.pyplot as plt\n",
        "import seaborn as sns\n",
        "from sklearn.linear_model import LogisticRegression\n",
        "import sklearn.metrics as metrics\n",
        "\n",
        "from sklearn.metrics import confusion_matrix"
      ]
    },
    {
      "cell_type": "code",
      "source": [
        "###\n",
        "# Load the data and see all available columns\n",
        "###\n",
        "df = pd.read_csv('titanic_train.csv')\n",
        "\n",
        "\n",
        "#Setup a binary variable for male\n",
        "#df['Male'] = (df['Sex'] == 'male')*1.0\n",
        "#Setup using the log of the Fare (rather than Fare itself)\n",
        "df['logFare'] = np.log(df['Fare']+1)\n",
        "df = pd.get_dummies(df, columns=['Pclass','Sex','SibSp','Parch'])\n",
        "df.head()"
      ],
      "metadata": {
        "colab": {
          "base_uri": "https://localhost:8080/",
          "height": 577
        },
        "id": "udr4VmHZz3mN",
        "outputId": "00b20e9f-9101-4693-cd89-cabaed940a8d"
      },
      "execution_count": null,
      "outputs": [
        {
          "output_type": "execute_result",
          "data": {
            "text/plain": [
              "   PassengerId  Survived                                               Name  \\\n",
              "0            1         0                            Braund, Mr. Owen Harris   \n",
              "1            2         1  Cumings, Mrs. John Bradley (Florence Briggs Th...   \n",
              "2            3         1                             Heikkinen, Miss. Laina   \n",
              "3            4         1       Futrelle, Mrs. Jacques Heath (Lily May Peel)   \n",
              "4            5         0                           Allen, Mr. William Henry   \n",
              "\n",
              "    Age            Ticket     Fare Cabin Embarked   logFare  Pclass_1  ...  \\\n",
              "0  22.0         A/5 21171   7.2500   NaN        S  2.110213         0  ...   \n",
              "1  38.0          PC 17599  71.2833   C85        C  4.280593         1  ...   \n",
              "2  26.0  STON/O2. 3101282   7.9250   NaN        S  2.188856         0  ...   \n",
              "3  35.0            113803  53.1000  C123        S  3.990834         1  ...   \n",
              "4  35.0            373450   8.0500   NaN        S  2.202765         0  ...   \n",
              "\n",
              "   SibSp_4  SibSp_5  SibSp_8  Parch_0  Parch_1  Parch_2  Parch_3  Parch_4  \\\n",
              "0        0        0        0        1        0        0        0        0   \n",
              "1        0        0        0        1        0        0        0        0   \n",
              "2        0        0        0        1        0        0        0        0   \n",
              "3        0        0        0        1        0        0        0        0   \n",
              "4        0        0        0        1        0        0        0        0   \n",
              "\n",
              "   Parch_5  Parch_6  \n",
              "0        0        0  \n",
              "1        0        0  \n",
              "2        0        0  \n",
              "3        0        0  \n",
              "4        0        0  \n",
              "\n",
              "[5 rows x 28 columns]"
            ],
            "text/html": [
              "\n",
              "  <div id=\"df-ebbeffc9-d116-479a-95d7-ce6851ed0085\">\n",
              "    <div class=\"colab-df-container\">\n",
              "      <div>\n",
              "<style scoped>\n",
              "    .dataframe tbody tr th:only-of-type {\n",
              "        vertical-align: middle;\n",
              "    }\n",
              "\n",
              "    .dataframe tbody tr th {\n",
              "        vertical-align: top;\n",
              "    }\n",
              "\n",
              "    .dataframe thead th {\n",
              "        text-align: right;\n",
              "    }\n",
              "</style>\n",
              "<table border=\"1\" class=\"dataframe\">\n",
              "  <thead>\n",
              "    <tr style=\"text-align: right;\">\n",
              "      <th></th>\n",
              "      <th>PassengerId</th>\n",
              "      <th>Survived</th>\n",
              "      <th>Name</th>\n",
              "      <th>Age</th>\n",
              "      <th>Ticket</th>\n",
              "      <th>Fare</th>\n",
              "      <th>Cabin</th>\n",
              "      <th>Embarked</th>\n",
              "      <th>logFare</th>\n",
              "      <th>Pclass_1</th>\n",
              "      <th>...</th>\n",
              "      <th>SibSp_4</th>\n",
              "      <th>SibSp_5</th>\n",
              "      <th>SibSp_8</th>\n",
              "      <th>Parch_0</th>\n",
              "      <th>Parch_1</th>\n",
              "      <th>Parch_2</th>\n",
              "      <th>Parch_3</th>\n",
              "      <th>Parch_4</th>\n",
              "      <th>Parch_5</th>\n",
              "      <th>Parch_6</th>\n",
              "    </tr>\n",
              "  </thead>\n",
              "  <tbody>\n",
              "    <tr>\n",
              "      <th>0</th>\n",
              "      <td>1</td>\n",
              "      <td>0</td>\n",
              "      <td>Braund, Mr. Owen Harris</td>\n",
              "      <td>22.0</td>\n",
              "      <td>A/5 21171</td>\n",
              "      <td>7.2500</td>\n",
              "      <td>NaN</td>\n",
              "      <td>S</td>\n",
              "      <td>2.110213</td>\n",
              "      <td>0</td>\n",
              "      <td>...</td>\n",
              "      <td>0</td>\n",
              "      <td>0</td>\n",
              "      <td>0</td>\n",
              "      <td>1</td>\n",
              "      <td>0</td>\n",
              "      <td>0</td>\n",
              "      <td>0</td>\n",
              "      <td>0</td>\n",
              "      <td>0</td>\n",
              "      <td>0</td>\n",
              "    </tr>\n",
              "    <tr>\n",
              "      <th>1</th>\n",
              "      <td>2</td>\n",
              "      <td>1</td>\n",
              "      <td>Cumings, Mrs. John Bradley (Florence Briggs Th...</td>\n",
              "      <td>38.0</td>\n",
              "      <td>PC 17599</td>\n",
              "      <td>71.2833</td>\n",
              "      <td>C85</td>\n",
              "      <td>C</td>\n",
              "      <td>4.280593</td>\n",
              "      <td>1</td>\n",
              "      <td>...</td>\n",
              "      <td>0</td>\n",
              "      <td>0</td>\n",
              "      <td>0</td>\n",
              "      <td>1</td>\n",
              "      <td>0</td>\n",
              "      <td>0</td>\n",
              "      <td>0</td>\n",
              "      <td>0</td>\n",
              "      <td>0</td>\n",
              "      <td>0</td>\n",
              "    </tr>\n",
              "    <tr>\n",
              "      <th>2</th>\n",
              "      <td>3</td>\n",
              "      <td>1</td>\n",
              "      <td>Heikkinen, Miss. Laina</td>\n",
              "      <td>26.0</td>\n",
              "      <td>STON/O2. 3101282</td>\n",
              "      <td>7.9250</td>\n",
              "      <td>NaN</td>\n",
              "      <td>S</td>\n",
              "      <td>2.188856</td>\n",
              "      <td>0</td>\n",
              "      <td>...</td>\n",
              "      <td>0</td>\n",
              "      <td>0</td>\n",
              "      <td>0</td>\n",
              "      <td>1</td>\n",
              "      <td>0</td>\n",
              "      <td>0</td>\n",
              "      <td>0</td>\n",
              "      <td>0</td>\n",
              "      <td>0</td>\n",
              "      <td>0</td>\n",
              "    </tr>\n",
              "    <tr>\n",
              "      <th>3</th>\n",
              "      <td>4</td>\n",
              "      <td>1</td>\n",
              "      <td>Futrelle, Mrs. Jacques Heath (Lily May Peel)</td>\n",
              "      <td>35.0</td>\n",
              "      <td>113803</td>\n",
              "      <td>53.1000</td>\n",
              "      <td>C123</td>\n",
              "      <td>S</td>\n",
              "      <td>3.990834</td>\n",
              "      <td>1</td>\n",
              "      <td>...</td>\n",
              "      <td>0</td>\n",
              "      <td>0</td>\n",
              "      <td>0</td>\n",
              "      <td>1</td>\n",
              "      <td>0</td>\n",
              "      <td>0</td>\n",
              "      <td>0</td>\n",
              "      <td>0</td>\n",
              "      <td>0</td>\n",
              "      <td>0</td>\n",
              "    </tr>\n",
              "    <tr>\n",
              "      <th>4</th>\n",
              "      <td>5</td>\n",
              "      <td>0</td>\n",
              "      <td>Allen, Mr. William Henry</td>\n",
              "      <td>35.0</td>\n",
              "      <td>373450</td>\n",
              "      <td>8.0500</td>\n",
              "      <td>NaN</td>\n",
              "      <td>S</td>\n",
              "      <td>2.202765</td>\n",
              "      <td>0</td>\n",
              "      <td>...</td>\n",
              "      <td>0</td>\n",
              "      <td>0</td>\n",
              "      <td>0</td>\n",
              "      <td>1</td>\n",
              "      <td>0</td>\n",
              "      <td>0</td>\n",
              "      <td>0</td>\n",
              "      <td>0</td>\n",
              "      <td>0</td>\n",
              "      <td>0</td>\n",
              "    </tr>\n",
              "  </tbody>\n",
              "</table>\n",
              "<p>5 rows × 28 columns</p>\n",
              "</div>\n",
              "      <button class=\"colab-df-convert\" onclick=\"convertToInteractive('df-ebbeffc9-d116-479a-95d7-ce6851ed0085')\"\n",
              "              title=\"Convert this dataframe to an interactive table.\"\n",
              "              style=\"display:none;\">\n",
              "        \n",
              "  <svg xmlns=\"http://www.w3.org/2000/svg\" height=\"24px\"viewBox=\"0 0 24 24\"\n",
              "       width=\"24px\">\n",
              "    <path d=\"M0 0h24v24H0V0z\" fill=\"none\"/>\n",
              "    <path d=\"M18.56 5.44l.94 2.06.94-2.06 2.06-.94-2.06-.94-.94-2.06-.94 2.06-2.06.94zm-11 1L8.5 8.5l.94-2.06 2.06-.94-2.06-.94L8.5 2.5l-.94 2.06-2.06.94zm10 10l.94 2.06.94-2.06 2.06-.94-2.06-.94-.94-2.06-.94 2.06-2.06.94z\"/><path d=\"M17.41 7.96l-1.37-1.37c-.4-.4-.92-.59-1.43-.59-.52 0-1.04.2-1.43.59L10.3 9.45l-7.72 7.72c-.78.78-.78 2.05 0 2.83L4 21.41c.39.39.9.59 1.41.59.51 0 1.02-.2 1.41-.59l7.78-7.78 2.81-2.81c.8-.78.8-2.07 0-2.86zM5.41 20L4 18.59l7.72-7.72 1.47 1.35L5.41 20z\"/>\n",
              "  </svg>\n",
              "      </button>\n",
              "      \n",
              "  <style>\n",
              "    .colab-df-container {\n",
              "      display:flex;\n",
              "      flex-wrap:wrap;\n",
              "      gap: 12px;\n",
              "    }\n",
              "\n",
              "    .colab-df-convert {\n",
              "      background-color: #E8F0FE;\n",
              "      border: none;\n",
              "      border-radius: 50%;\n",
              "      cursor: pointer;\n",
              "      display: none;\n",
              "      fill: #1967D2;\n",
              "      height: 32px;\n",
              "      padding: 0 0 0 0;\n",
              "      width: 32px;\n",
              "    }\n",
              "\n",
              "    .colab-df-convert:hover {\n",
              "      background-color: #E2EBFA;\n",
              "      box-shadow: 0px 1px 2px rgba(60, 64, 67, 0.3), 0px 1px 3px 1px rgba(60, 64, 67, 0.15);\n",
              "      fill: #174EA6;\n",
              "    }\n",
              "\n",
              "    [theme=dark] .colab-df-convert {\n",
              "      background-color: #3B4455;\n",
              "      fill: #D2E3FC;\n",
              "    }\n",
              "\n",
              "    [theme=dark] .colab-df-convert:hover {\n",
              "      background-color: #434B5C;\n",
              "      box-shadow: 0px 1px 3px 1px rgba(0, 0, 0, 0.15);\n",
              "      filter: drop-shadow(0px 1px 2px rgba(0, 0, 0, 0.3));\n",
              "      fill: #FFFFFF;\n",
              "    }\n",
              "  </style>\n",
              "\n",
              "      <script>\n",
              "        const buttonEl =\n",
              "          document.querySelector('#df-ebbeffc9-d116-479a-95d7-ce6851ed0085 button.colab-df-convert');\n",
              "        buttonEl.style.display =\n",
              "          google.colab.kernel.accessAllowed ? 'block' : 'none';\n",
              "\n",
              "        async function convertToInteractive(key) {\n",
              "          const element = document.querySelector('#df-ebbeffc9-d116-479a-95d7-ce6851ed0085');\n",
              "          const dataTable =\n",
              "            await google.colab.kernel.invokeFunction('convertToInteractive',\n",
              "                                                     [key], {});\n",
              "          if (!dataTable) return;\n",
              "\n",
              "          const docLinkHtml = 'Like what you see? Visit the ' +\n",
              "            '<a target=\"_blank\" href=https://colab.research.google.com/notebooks/data_table.ipynb>data table notebook</a>'\n",
              "            + ' to learn more about interactive tables.';\n",
              "          element.innerHTML = '';\n",
              "          dataTable['output_type'] = 'display_data';\n",
              "          await google.colab.output.renderOutput(dataTable, element);\n",
              "          const docLink = document.createElement('div');\n",
              "          docLink.innerHTML = docLinkHtml;\n",
              "          element.appendChild(docLink);\n",
              "        }\n",
              "      </script>\n",
              "    </div>\n",
              "  </div>\n",
              "  "
            ]
          },
          "metadata": {},
          "execution_count": 4
        }
      ]
    },
    {
      "cell_type": "code",
      "source": [
        "my_ber_vars = ['Sex_male','Sex_female'] + ['Pclass_' + str(i) for i in [1,2,3]] + ['Parch_' + str(i) for i in range(7)] + ['SibSp_' + str(i) for i in range(6)]\n",
        "my_gauss_vars = ['Age','logFare']\n",
        "my_vars = my_ber_vars + my_gauss_vars"
      ],
      "metadata": {
        "id": "Gn1fr4DP0Wcz"
      },
      "execution_count": null,
      "outputs": []
    },
    {
      "cell_type": "markdown",
      "source": [
        "# ROC curve for a simple logistic model"
      ],
      "metadata": {
        "id": "-eiSge9X0BGw"
      }
    },
    {
      "cell_type": "code",
      "source": [
        "###\n",
        "# Run logisitc regression\n",
        "###\n",
        "\n",
        "def LR_using_vars(my_var_list, X_train,Y_train,X_test,Y_test, Verbose=False):\n",
        "  #Do the logisitc regression using only the variables from my_var_list\n",
        "  #Return the accuracy and CE_loss on the test set, as well as the entire model\n",
        "\n",
        "  #Note: Set the \"verbose\" flag to true to print out lots of details\n",
        "  if Verbose:\n",
        "    print(\"-----------------------\")\n",
        "    print(f\"Vars: {my_vars}\")\n",
        "    print(\"-----------------------\")\n",
        "\n",
        "\n",
        "  LR_model = LogisticRegression(fit_intercept=True, C=1e9) # Large C for no regularization\n",
        "  LR_fit = LR_model.fit(X_train, Y_train)\n",
        "\n",
        "  accuracy = LR_model.score(X_test,Y_test)\n",
        "  preds = LR_model.predict_proba(X_test)[:,1]\n",
        "  CE_loss = np.mean(-Y_test*np.log(preds) - (1-Y_test)*np.log(1-preds))\n",
        "  if Verbose:\n",
        "    print(f\"  Test Accuracy:\\n {accuracy:.3f}\")\n",
        "    print(f\"  CE Loss:\\n {CE_loss:.3f}\")\n",
        "    print(\"  Coeffs:\")\n",
        "    params_dict = dict(list(zip(my_var_list,list(LR_model.coef_[0]))))\n",
        "    for item in params_dict.items():\n",
        "        print(f'    {item[0]} : {item[1]:.3f}')\n",
        "\n",
        "  return accuracy, CE_loss, LR_fit\n",
        "\n",
        "print(\"Running Logistic Regression using all variables...\")\n",
        "#Dataframe that will include predictions\n",
        "my_df = df[ ['Survived']+my_vars ].dropna()\n",
        "X = np.array( my_df[my_vars]  )\n",
        "Y = np.array( my_df[ 'Survived'] )\n",
        "accuracy,CE_loss,LR_model = LR_using_vars(my_vars, X_train=X,Y_train=Y,X_test=X,Y_test=Y,Verbose=True)\n",
        "my_df['LR_prob'] = LR_model.predict_proba(X)[:,1]"
      ],
      "metadata": {
        "colab": {
          "base_uri": "https://localhost:8080/"
        },
        "id": "vKVJ-XxF0Jsw",
        "outputId": "816c2752-cebe-43ec-e894-94ca5d413a21"
      },
      "execution_count": null,
      "outputs": [
        {
          "output_type": "stream",
          "name": "stdout",
          "text": [
            "Running Logistic Regression using all variables...\n",
            "-----------------------\n",
            "Vars: ['Sex_male', 'Sex_female', 'Pclass_1', 'Pclass_2', 'Pclass_3', 'Parch_0', 'Parch_1', 'Parch_2', 'Parch_3', 'Parch_4', 'Parch_5', 'Parch_6', 'SibSp_0', 'SibSp_1', 'SibSp_2', 'SibSp_3', 'SibSp_4', 'SibSp_5', 'Age', 'logFare']\n",
            "-----------------------\n",
            "  Test Accuracy:\n",
            " 0.817\n",
            "  CE Loss:\n",
            " 0.439\n",
            "  Coeffs:\n",
            "    Sex_male : -1.337\n",
            "    Sex_female : 1.262\n",
            "    Pclass_1 : 1.255\n",
            "    Pclass_2 : -0.094\n",
            "    Pclass_3 : -1.237\n",
            "    Parch_0 : 0.349\n",
            "    Parch_1 : 0.621\n",
            "    Parch_2 : 0.578\n",
            "    Parch_3 : 0.629\n",
            "    Parch_4 : -1.137\n",
            "    Parch_5 : -0.673\n",
            "    Parch_6 : -0.442\n",
            "    SibSp_0 : 1.133\n",
            "    SibSp_1 : 1.080\n",
            "    SibSp_2 : 0.687\n",
            "    SibSp_3 : -1.148\n",
            "    SibSp_4 : -0.895\n",
            "    SibSp_5 : -0.932\n",
            "    Age : -0.043\n",
            "    logFare : 0.050\n"
          ]
        },
        {
          "output_type": "stream",
          "name": "stderr",
          "text": [
            "/usr/local/lib/python3.7/dist-packages/sklearn/linear_model/_logistic.py:818: ConvergenceWarning: lbfgs failed to converge (status=1):\n",
            "STOP: TOTAL NO. of ITERATIONS REACHED LIMIT.\n",
            "\n",
            "Increase the number of iterations (max_iter) or scale the data as shown in:\n",
            "    https://scikit-learn.org/stable/modules/preprocessing.html\n",
            "Please also refer to the documentation for alternative solver options:\n",
            "    https://scikit-learn.org/stable/modules/linear_model.html#logistic-regression\n",
            "  extra_warning_msg=_LOGISTIC_SOLVER_CONVERGENCE_MSG,\n"
          ]
        }
      ]
    },
    {
      "cell_type": "code",
      "source": [
        "\n",
        "# calculate the fpr and tpr for all thresholds of the classification\n",
        "\n",
        "def plot_ROC_curve(Y,preds):\n",
        "  fpr, tpr, threshold = metrics.roc_curve(Y, preds)\n",
        "  roc_auc = metrics.auc(fpr, tpr)\n",
        "\n",
        "\n",
        "  plt.title('Receiver Operating Characteristic')\n",
        "  plt.plot(fpr, tpr, 'b', label = 'AUC = %0.2f' % roc_auc)\n",
        "  plt.legend(loc = 'lower right')\n",
        "  plt.plot([0, 1], [0, 1],'r--')\n",
        "  plt.xlim([0, 1])\n",
        "  plt.ylim([0, 1])\n",
        "  plt.ylabel('True Positive Rate')\n",
        "  plt.xlabel('False Positive Rate')\n",
        "  plt.show()\n",
        "\n",
        "\n",
        "plot_ROC_curve(Y,my_df['LR_prob'])\n",
        "\n",
        "print(confusion_matrix(Y,my_df['LR_prob']>0.5) )\n"
      ],
      "metadata": {
        "colab": {
          "base_uri": "https://localhost:8080/",
          "height": 331
        },
        "id": "kJWnUtHH1K8L",
        "outputId": "047e9a87-f8b0-48c1-8d19-d808b985bbea"
      },
      "execution_count": null,
      "outputs": [
        {
          "output_type": "display_data",
          "data": {
            "text/plain": [
              "<Figure size 432x288 with 1 Axes>"
            ],
            "image/png": "[encoded data removed]"
          },
          "metadata": {
            "needs_background": "light"
          }
        },
        {
          "output_type": "stream",
          "name": "stdout",
          "text": [
            "[[365  59]\n",
            " [ 72 218]]\n"
          ]
        }
      ]
    },
    {
      "cell_type": "markdown",
      "source": [
        "# Naive Bayes Model"
      ],
      "metadata": {
        "id": "VFv4ei7V1gAD"
      }
    },
    {
      "cell_type": "code",
      "source": [
        "###\n",
        "# Calculate mean and variance of all the 'Gaussian'-like variablels in my_gauss_vars\n",
        "###\n",
        "\n",
        "class_list = [0,1]\n",
        "\n",
        "means = [dict.fromkeys(my_gauss_vars) for surviv_class in class_list]\n",
        "stds = [dict.fromkeys(my_gauss_vars) for surviv_class in class_list]\n",
        "\n",
        "for surviv_class in class_list:\n",
        "  print(f\"Survived = {surviv_class}\")\n",
        "  for feature in my_gauss_vars:\n",
        "    v = np.array(df[ df['Survived'] == surviv_class ][feature])\n",
        "    means[surviv_class][feature] = np.nanmean(v)\n",
        "    stds[surviv_class][feature] = np.nanstd(v)\n",
        "    #print(v)\n",
        "    print(f'. {feature}: Mean: {np.nanmean(v):.3f}, STD: {np.nanstd(v):.3f}')"
      ],
      "metadata": {
        "colab": {
          "base_uri": "https://localhost:8080/"
        },
        "id": "iLrZMueV1iA6",
        "outputId": "1901ed76-88e6-4032-b089-7a236a5f7fb4"
      },
      "execution_count": null,
      "outputs": [
        {
          "output_type": "stream",
          "name": "stdout",
          "text": [
            "Survived = 0\n",
            ". Age: Mean: 30.626, STD: 14.155\n",
            ". logFare: Mean: 2.710, STD: 0.868\n",
            "Survived = 1\n",
            ". Age: Mean: 28.344, STD: 14.925\n",
            ". logFare: Mean: 3.367, STD: 0.984\n"
          ]
        }
      ]
    },
    {
      "cell_type": "code",
      "source": [
        "###\n",
        "# Calculate mean (i.e. probability p) of all the 'Bernoulli'-like variablels in my_ber_vars\n",
        "###\n",
        "\n",
        "my_ber_vars = ['Pclass_' + str(i) for i in [1,2,3]]+['Sex_male','Sex_female'] + ['Parch_' + str(i) for i in range(4)] + ['SibSp_' + str(i) for i in range(5)]\n",
        "p = [dict.fromkeys(my_ber_vars) for surviv_class in class_list]\n",
        "\n",
        "for surviv_class in class_list:\n",
        "  print(f\"Survived = {surviv_class}\")\n",
        "  for feature in my_ber_vars:\n",
        "    v = np.array(df[ df['Survived'] == surviv_class ][feature])\n",
        "    p[surviv_class][feature] = (np.nansum(v) + 1)/(np.sum(~np.isnan(v)) + 1) #use the formula with +1's to avoid the situation of 0 prob estimates\n",
        "    #print(v)\n",
        "    print(f'. {feature}: p {np.nanmean(v):.3f}')\n"
      ],
      "metadata": {
        "colab": {
          "base_uri": "https://localhost:8080/"
        },
        "id": "NI9FWTK01wOL",
        "outputId": "68fa4c79-ec3b-4e9b-8986-d5532fd5eb86"
      },
      "execution_count": null,
      "outputs": [
        {
          "output_type": "stream",
          "name": "stdout",
          "text": [
            "Survived = 0\n",
            ". Pclass_1: p 0.146\n",
            ". Pclass_2: p 0.177\n",
            ". Pclass_3: p 0.678\n",
            ". Sex_male: p 0.852\n",
            ". Sex_female: p 0.148\n",
            ". Parch_0: p 0.811\n",
            ". Parch_1: p 0.097\n",
            ". Parch_2: p 0.073\n",
            ". Parch_3: p 0.004\n",
            ". SibSp_0: p 0.725\n",
            ". SibSp_1: p 0.177\n",
            ". SibSp_2: p 0.027\n",
            ". SibSp_3: p 0.022\n",
            ". SibSp_4: p 0.027\n",
            "Survived = 1\n",
            ". Pclass_1: p 0.398\n",
            ". Pclass_2: p 0.254\n",
            ". Pclass_3: p 0.348\n",
            ". Sex_male: p 0.319\n",
            ". Sex_female: p 0.681\n",
            ". Parch_0: p 0.681\n",
            ". Parch_1: p 0.190\n",
            ". Parch_2: p 0.117\n",
            ". Parch_3: p 0.009\n",
            ". SibSp_0: p 0.614\n",
            ". SibSp_1: p 0.327\n",
            ". SibSp_2: p 0.038\n",
            ". SibSp_3: p 0.012\n",
            ". SibSp_4: p 0.009\n"
          ]
        }
      ]
    },
    {
      "cell_type": "code",
      "source": [
        "###\n",
        "# Compute the negative log-likelhood of each class according to Naive Bayes\n",
        "###\n",
        "\n",
        "\n",
        "def sigmoid(x):\n",
        "  return 1/(1+np.exp(x))\n",
        "\n",
        "nLL = [0 for surviv_class in [0,1]]\n",
        "for i in [0,1]:\n",
        "  nLL[i] = -sum( [ 0.5*( (my_df[var] - means[i][var])/stds[i][var] )**2 for var in my_gauss_vars ] )\n",
        "\n",
        "  ber_factor = 1#increasing the importance of these variables seems to help!\n",
        "  nLL[i] += ber_factor*sum( [ my_df[var]*np.log( p[i][var])  for var in my_ber_vars])\n",
        "my_df['NB_prob'] = sigmoid(nLL[0] - nLL[1])\n",
        "\n",
        "plot_ROC_curve(Y,my_df['NB_prob'])\n",
        "\n",
        "print(confusion_matrix(Y,my_df['NB_prob']>0.5) )"
      ],
      "metadata": {
        "colab": {
          "base_uri": "https://localhost:8080/",
          "height": 331
        },
        "id": "1kC8Q9LZ2AJ_",
        "outputId": "5eaa0578-383d-43c3-a3be-7ce358c937e7"
      },
      "execution_count": null,
      "outputs": [
        {
          "output_type": "display_data",
          "data": {
            "text/plain": [
              "<Figure size 432x288 with 1 Axes>"
            ],
            "image/png": "[encoded data removed]"
          },
          "metadata": {
            "needs_background": "light"
          }
        },
        {
          "output_type": "stream",
          "name": "stdout",
          "text": [
            "[[301 123]\n",
            " [ 55 235]]\n"
          ]
        }
      ]
    },
    {
      "cell_type": "markdown",
      "source": [
        "#Comparisons"
      ],
      "metadata": {
        "id": "WyH9HroT32SS"
      }
    },
    {
      "cell_type": "code",
      "source": [
        "sns.pairplot(my_df, vars=['NB_prob','LR_prob'], hue=\"Survived\",dropna=True)"
      ],
      "metadata": {
        "colab": {
          "base_uri": "https://localhost:8080/",
          "height": 392
        },
        "id": "jIbJ7hJx37qT",
        "outputId": "954c08e6-7ec5-4219-fddf-021858c3e2df"
      },
      "execution_count": null,
      "outputs": [
        {
          "output_type": "execute_result",
          "data": {
            "text/plain": [
              "<seaborn.axisgrid.PairGrid at 0x7fc23953fb10>"
            ]
          },
          "metadata": {},
          "execution_count": 29
        },
        {
          "output_type": "display_data",
          "data": {
            "text/plain": [
              "<Figure size 411.875x360 with 6 Axes>"
            ],
            "image/png": "[encoded data removed]"
          },
          "metadata": {
            "needs_background": "light"
          }
        }
      ]
    }
  ]
}