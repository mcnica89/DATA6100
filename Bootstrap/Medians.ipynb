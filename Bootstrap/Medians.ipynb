{
  "nbformat": 4,
  "nbformat_minor": 0,
  "metadata": {
    "colab": {
      "provenance": [],
      "authorship_tag": "ABX9TyNpKXkjNqZ2puge6Zt8P2pu",
      "include_colab_link": true
    },
    "kernelspec": {
      "name": "python3",
      "display_name": "Python 3"
    },
    "language_info": {
      "name": "python"
    }
  },
  "cells": [
    {
      "cell_type": "markdown",
      "metadata": {
        "id": "view-in-github",
        "colab_type": "text"
      },
      "source": [
        "<a href=\"https://colab.research.google.com/github/mcnica89/DATA6100_F23/blob/main/Bootstrap/Medians.ipynb\" target=\"_parent\"><img src=\"https://colab.research.google.com/assets/colab-badge.svg\" alt=\"Open In Colab\"/></a>"
      ]
    },
    {
      "cell_type": "code",
      "execution_count": null,
      "metadata": {
        "id": "yA994kFxQfXk"
      },
      "outputs": [],
      "source": [
        "import numpy as np\n",
        "import matplotlib.pyplot as plt\n",
        "import scipy.special as sc"
      ]
    },
    {
      "cell_type": "markdown",
      "source": [
        "We want to understand the MEDIAN of a bunch of uniform random variables"
      ],
      "metadata": {
        "id": "1qZ1xQ_-Umb_"
      }
    },
    {
      "cell_type": "code",
      "source": [
        "N = 101\n",
        "X = np.random.rand(N)\n",
        "print(\"Median: \",np.median(X))"
      ],
      "metadata": {
        "colab": {
          "base_uri": "https://localhost:8080/"
        },
        "id": "JckOhGSpU8r0",
        "outputId": "abda38a1-6f0f-4abf-86f6-68644d07e0a8"
      },
      "execution_count": null,
      "outputs": [
        {
          "output_type": "stream",
          "name": "stdout",
          "text": [
            "Median:  0.5089228675187029\n"
          ]
        }
      ]
    },
    {
      "cell_type": "code",
      "source": [
        "def plot_and_CI(median_samples,my_title):\n",
        "  plt.hist( median_samples )\n",
        "  plt.title(my_title)\n",
        "  plt.axvline(0.5, color='k', linestyle='dashed', linewidth=1)\n",
        "\n",
        "  sorted_medians = np.sort(median_samples)\n",
        "  N_samples = len(sorted_medians)\n",
        "  CI_up = sorted_medians[int(0.975*N_samples)]\n",
        "  CI_low = sorted_medians[int(0.025*N_samples)]\n",
        "\n",
        "  print(f\"95% CI: {CI_low:.3f} to {CI_up:.3f}\" )\n",
        "  print(f\"95% CI width: {CI_up - CI_low:.3f}\")"
      ],
      "metadata": {
        "id": "zurxIhBYUpz_"
      },
      "execution_count": null,
      "outputs": []
    },
    {
      "cell_type": "markdown",
      "source": [
        "# Theoretical Medians\n",
        "\n"
      ],
      "metadata": {
        "id": "D6BVs2DAUmgQ"
      }
    },
    {
      "cell_type": "code",
      "source": [
        "def generate_theory_medians(N,N_samples):\n",
        "  X = np.random.rand(N,N_samples)\n",
        "  median = np.median(X,axis=0)\n",
        "  return median\n",
        "\n",
        "N_samples = 100000\n",
        "medians = generate_theory_medians(N,N_samples)\n",
        "plot_and_CI(medians,my_title=f'Theoretical using {N_samples} samples')"
      ],
      "metadata": {
        "colab": {
          "base_uri": "https://localhost:8080/",
          "height": 316
        },
        "id": "cAchmUekY5nF",
        "outputId": "bb5a8756-74d6-46bb-a873-6b73f8f4a585"
      },
      "execution_count": null,
      "outputs": [
        {
          "output_type": "stream",
          "name": "stdout",
          "text": [
            "95% CI: 0.403 to 0.596\n",
            "95% CI width: 0.193\n"
          ]
        },
        {
          "output_type": "display_data",
          "data": {
            "text/plain": [
              "<Figure size 432x288 with 1 Axes>"
            ],
            "image/png": "[encoded data removed]"
          },
          "metadata": {
            "needs_background": "light"
          }
        }
      ]
    },
    {
      "cell_type": "code",
      "source": [
        "#Theoretically, the median will be a beta distribution\n",
        "x_axis = np.linspace(0,1,100)\n",
        "k = (N+1)/2\n",
        "beta = x_axis**(k)*(1-x_axis)**(k)/sc.beta(k,k)\n",
        "plt.plot(x_axis,beta)\n",
        "plt.axvline(0.5, color='k', linestyle='dashed', linewidth=1)"
      ],
      "metadata": {
        "colab": {
          "base_uri": "https://localhost:8080/",
          "height": 283
        },
        "id": "_rQRl8TbU2oY",
        "outputId": "77b311c7-297c-417d-9b13-524f9793a43c"
      },
      "execution_count": null,
      "outputs": [
        {
          "output_type": "execute_result",
          "data": {
            "text/plain": [
              "<matplotlib.lines.Line2D at 0x7f21004247d0>"
            ]
          },
          "metadata": {},
          "execution_count": 19
        },
        {
          "output_type": "display_data",
          "data": {
            "text/plain": [
              "<Figure size 432x288 with 1 Axes>"
            ],
            "image/png": "[encoded data removed]"
          },
          "metadata": {
            "needs_background": "light"
          }
        }
      ]
    },
    {
      "cell_type": "markdown",
      "source": [
        "# Using one single data set and Leave One Out Error"
      ],
      "metadata": {
        "id": "uC595FfZeEVf"
      }
    },
    {
      "cell_type": "code",
      "source": [
        "N = 101\n",
        "X = np.random.rand(N)\n",
        "print(\"Median: \",np.median(X))"
      ],
      "metadata": {
        "colab": {
          "base_uri": "https://localhost:8080/"
        },
        "id": "h8zEO2CGeEHN",
        "outputId": "a89edc73-e0a3-4eb4-bfe1-553cbc0f1e71"
      },
      "execution_count": null,
      "outputs": [
        {
          "output_type": "stream",
          "name": "stdout",
          "text": [
            "Median:  0.4928834968081547\n"
          ]
        }
      ]
    },
    {
      "cell_type": "code",
      "source": [
        "def leave_one_out_analysis(X):\n",
        "  LOO_median = np.zeros_like(X)\n",
        "  for i in range(N):\n",
        "    x_temp = X[i]\n",
        "    X[i] = np.nan\n",
        "    LOO_median[i] = np.nanmedian(X)\n",
        "    X[i] = x_temp\n",
        "  return LOO_median\n",
        "\n",
        "plot_and_CI(leave_one_out_analysis(X),'Leave One Out Analysis')"
      ],
      "metadata": {
        "colab": {
          "base_uri": "https://localhost:8080/",
          "height": 316
        },
        "id": "-TEBF_OiePk7",
        "outputId": "edbc7331-c560-42a2-b790-704491ea148f"
      },
      "execution_count": null,
      "outputs": [
        {
          "output_type": "stream",
          "name": "stdout",
          "text": [
            "95% CI: 0.492 to 0.493\n",
            "95% CI width: 0.001\n"
          ]
        },
        {
          "output_type": "display_data",
          "data": {
            "text/plain": [
              "<Figure size 432x288 with 1 Axes>"
            ],
            "image/png": "[encoded data removed]"
          },
          "metadata": {
            "needs_background": "light"
          }
        }
      ]
    },
    {
      "cell_type": "markdown",
      "source": [
        "# Using one single data set and \"Ordinary\" Validation"
      ],
      "metadata": {
        "id": "1fQ7l3R-R1Yh"
      }
    },
    {
      "cell_type": "code",
      "source": [
        "N = 101\n",
        "X = np.random.rand(N)\n",
        "print(\"Median: \",np.median(X))"
      ],
      "metadata": {
        "colab": {
          "base_uri": "https://localhost:8080/"
        },
        "id": "R9GWO3RiXvJT",
        "outputId": "f0e1097f-7e5e-4256-8e3c-14dd656f8748"
      },
      "execution_count": null,
      "outputs": [
        {
          "output_type": "stream",
          "name": "stdout",
          "text": [
            "Median:  0.5531414675595391\n"
          ]
        }
      ]
    },
    {
      "cell_type": "code",
      "source": [
        "def test_median_ordinary(p_train = 0.5):\n",
        "\n",
        "  perm = np.random.permutation(N)\n",
        "\n",
        "  N_train = int(p_train*N)\n",
        "\n",
        "  X_train,X_test = X[perm[0:N_train]], X[perm[N_train:N]]\n",
        "\n",
        "  return np.median(X_train)"
      ],
      "metadata": {
        "id": "HTgDuuMpQjuK"
      },
      "execution_count": null,
      "outputs": []
    },
    {
      "cell_type": "code",
      "source": [
        "N_samples = 10000\n",
        "p_train = 0.5\n",
        "medians = np.array([test_median_ordinary(p_train) for i in range(N_samples)])\n",
        "plot_and_CI(medians,my_title=f'Using {N_samples} ordinary validation samples and p_train={p_train}')"
      ],
      "metadata": {
        "colab": {
          "base_uri": "https://localhost:8080/",
          "height": 316
        },
        "id": "d0wH2n8VRY0g",
        "outputId": "09148c5f-9edc-43ce-8b1c-beacd9024fd9"
      },
      "execution_count": null,
      "outputs": [
        {
          "output_type": "stream",
          "name": "stdout",
          "text": [
            "95% CI: 0.444 to 0.626\n",
            "95% CI width: 0.183\n"
          ]
        },
        {
          "output_type": "display_data",
          "data": {
            "text/plain": [
              "<Figure size 432x288 with 1 Axes>"
            ],
            "image/png": "[encoded data removed]"
          },
          "metadata": {
            "needs_background": "light"
          }
        }
      ]
    },
    {
      "cell_type": "markdown",
      "source": [
        "# Using one single data set and k-Fold Cross Validation"
      ],
      "metadata": {
        "id": "mDtq1CNuaGQ6"
      }
    },
    {
      "cell_type": "code",
      "source": [
        "N = 101\n",
        "X = np.random.rand(N)\n",
        "print(\"Median: \",np.median(X))"
      ],
      "metadata": {
        "colab": {
          "base_uri": "https://localhost:8080/"
        },
        "id": "VE_rkaJcaLYj",
        "outputId": "f6c87ea6-6598-4572-907b-c31f0c88393c"
      },
      "execution_count": null,
      "outputs": [
        {
          "output_type": "stream",
          "name": "stdout",
          "text": [
            "Median:  0.47296716595836064\n"
          ]
        }
      ]
    },
    {
      "cell_type": "code",
      "source": [
        "def test_median_k_fold(k=5):\n",
        "\n",
        "  perm = np.random.permutation(N)\n",
        "\n",
        "  N_per_fold = int(N/k)\n",
        "  N_train = [N_per_fold*i for i in range(k+1)]\n",
        "  X_fold = np.zeros((k,N_per_fold))\n",
        "  for i in range(k):\n",
        "    X_fold[i,:] = X[ perm[N_train[i]:N_train[i+1]]]\n",
        "\n",
        "\n",
        "  return np.median(X_fold,axis=1)"
      ],
      "metadata": {
        "id": "LXJZpN3JaNZD"
      },
      "execution_count": null,
      "outputs": []
    },
    {
      "cell_type": "code",
      "source": [
        "test_median_k_fold(5)"
      ],
      "metadata": {
        "colab": {
          "base_uri": "https://localhost:8080/"
        },
        "id": "8BkKQyizcecM",
        "outputId": "47957aae-b194-4f67-caea-f4cb906d5b65"
      },
      "execution_count": null,
      "outputs": [
        {
          "output_type": "execute_result",
          "data": {
            "text/plain": [
              "array([0.28947643, 0.46434636, 0.47472902, 0.54689266, 0.5409198 ])"
            ]
          },
          "metadata": {},
          "execution_count": 27
        }
      ]
    },
    {
      "cell_type": "code",
      "source": [
        "medians = np.array( [np.mean(test_median_k_fold(5)) for i in range(N_samples)] )\n",
        "plot_and_CI(medians,my_title=f'Using a{N_samples} 5-fold cross validation')"
      ],
      "metadata": {
        "colab": {
          "base_uri": "https://localhost:8080/",
          "height": 316
        },
        "id": "pPIIkDBBbbQd",
        "outputId": "2987b414-e7ea-4e32-8145-c74df8e3b821"
      },
      "execution_count": null,
      "outputs": [
        {
          "output_type": "stream",
          "name": "stdout",
          "text": [
            "95% CI: 0.446 to 0.501\n",
            "95% CI width: 0.055\n"
          ]
        },
        {
          "output_type": "display_data",
          "data": {
            "text/plain": [
              "<Figure size 432x288 with 1 Axes>"
            ],
            "image/png": "[encoded data removed]"
          },
          "metadata": {
            "needs_background": "light"
          }
        }
      ]
    },
    {
      "cell_type": "markdown",
      "source": [
        "# Bootstrap"
      ],
      "metadata": {
        "id": "8jUaRxrjhL6x"
      }
    },
    {
      "cell_type": "code",
      "source": [
        "N = 101\n",
        "X = np.random.rand(N)\n",
        "print(\"Median: \",np.median(X))"
      ],
      "metadata": {
        "colab": {
          "base_uri": "https://localhost:8080/"
        },
        "id": "TXyeQUZ4hleL",
        "outputId": "3e21bb83-b89f-4578-fd2f-0d571a634e4a"
      },
      "execution_count": null,
      "outputs": [
        {
          "output_type": "stream",
          "name": "stdout",
          "text": [
            "Median:  0.5651314754386594\n"
          ]
        }
      ]
    },
    {
      "cell_type": "code",
      "source": [
        "def test_median_bootstrap():\n",
        "  ix = np.random.randint(0,N,size=N)\n",
        "  return np.median(X[ix])\n",
        "\n",
        "N_samples = 10000\n",
        "medians = np.array( [test_median_bootstrap() for i in range(N_samples)] )\n",
        "plot_and_CI(medians,my_title=f'Using {N_samples} bootstrap')"
      ],
      "metadata": {
        "colab": {
          "base_uri": "https://localhost:8080/",
          "height": 316
        },
        "id": "wnV5bbwKhNFP",
        "outputId": "3b45c8a4-4848-4b6c-a91e-726aa7b9edba"
      },
      "execution_count": null,
      "outputs": [
        {
          "output_type": "stream",
          "name": "stdout",
          "text": [
            "95% CI: 0.395 to 0.659\n",
            "95% CI width: 0.264\n"
          ]
        },
        {
          "output_type": "display_data",
          "data": {
            "text/plain": [
              "<Figure size 432x288 with 1 Axes>"
            ],
            "image/png": "[encoded data removed]"
          },
          "metadata": {
            "needs_background": "light"
          }
        }
      ]
    },
    {
      "cell_type": "code",
      "source": [
        "cdf_x = np.sort(X)\n",
        "cdf_y = np.arange(len(X))/len(X)\n",
        "plt.plot(cdf_x,cdf_y,label='CDF of data')\n",
        "plt.plot(np.linspace(0,1,len(X)),cdf_y,label='CDF of theoretical population')\n",
        "plt.legend()\n",
        "plt.title(\"Comparison of CDFs\")"
      ],
      "metadata": {
        "id": "8Zyxy6g51Tav",
        "outputId": "12925d8b-dc89-4696-9e18-2892a96aa77b",
        "colab": {
          "base_uri": "https://localhost:8080/",
          "height": 299
        }
      },
      "execution_count": null,
      "outputs": [
        {
          "output_type": "execute_result",
          "data": {
            "text/plain": [
              "Text(0.5, 1.0, 'Comparison of CDFs')"
            ]
          },
          "metadata": {},
          "execution_count": 34
        },
        {
          "output_type": "display_data",
          "data": {
            "text/plain": [
              "<Figure size 432x288 with 1 Axes>"
            ],
            "image/png": "[encoded data removed]"
          },
          "metadata": {
            "needs_background": "light"
          }
        }
      ]
    },
    {
      "cell_type": "code",
      "source": [],
      "metadata": {
        "id": "ZssiQ7fw1f8s"
      },
      "execution_count": null,
      "outputs": []
    }
  ]
}