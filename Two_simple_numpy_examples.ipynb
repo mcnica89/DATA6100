{
  "nbformat": 4,
  "nbformat_minor": 0,
  "metadata": {
    "colab": {
      "provenance": [],
      "authorship_tag": "ABX9TyOfkBCkT4ESQz073I+X9BXa",
      "include_colab_link": true
    },
    "kernelspec": {
      "name": "python3",
      "display_name": "Python 3"
    },
    "language_info": {
      "name": "python"
    }
  },
  "cells": [
    {
      "cell_type": "markdown",
      "metadata": {
        "id": "view-in-github",
        "colab_type": "text"
      },
      "source": [
        "<a href=\"https://colab.research.google.com/github/mcnica89/DATA6100_F23/blob/main/Two_simple_numpy_examples.ipynb\" target=\"_parent\"><img src=\"https://colab.research.google.com/assets/colab-badge.svg\" alt=\"Open In Colab\"/></a>"
      ]
    },
    {
      "cell_type": "markdown",
      "source": [
        "# Pairwise distance example\n",
        "\n",
        "Given a vector $X$ of shape $(n,)$ compute the pairwise distance matrix $M_{ij} = X_i - X_j$."
      ],
      "metadata": {
        "id": "X014N3wIyejq"
      }
    },
    {
      "cell_type": "code",
      "execution_count": 1,
      "metadata": {
        "id": "HqMSq8KJRWlo",
        "colab": {
          "base_uri": "https://localhost:8080/"
        },
        "outputId": "e58f88b9-2aca-4e19-d41e-cb8e6c357f73"
      },
      "outputs": [
        {
          "output_type": "stream",
          "name": "stdout",
          "text": [
            "(10000,)\n"
          ]
        }
      ],
      "source": [
        "import numpy as np\n",
        "n = 10000\n",
        "X = np.random.randn(n)\n",
        "print(X.shape)"
      ]
    },
    {
      "cell_type": "code",
      "source": [
        "%%timeit -r1\n",
        "M = np.zeros((n,n))\n",
        "for i in range(n):\n",
        "  for j in range(n):\n",
        "    M[i,j] = X[i] - X[j]"
      ],
      "metadata": {
        "id": "F4BUD8WvRZ_K",
        "colab": {
          "base_uri": "https://localhost:8080/"
        },
        "outputId": "95488e3b-c82a-40aa-e9ba-15b6fc36f485"
      },
      "execution_count": 2,
      "outputs": [
        {
          "output_type": "stream",
          "name": "stdout",
          "text": [
            "49.2 s ± 0 ns per loop (mean ± std. dev. of 1 run, 1 loop each)\n"
          ]
        }
      ]
    },
    {
      "cell_type": "code",
      "source": [
        "%%timeit -r1\n",
        "def my_func(i,j):\n",
        "  return X[i]-X[j]\n",
        "M = np.fromfunction(my_func, (n, n), dtype=int)"
      ],
      "metadata": {
        "colab": {
          "base_uri": "https://localhost:8080/"
        },
        "id": "NmnsVQTBinY9",
        "outputId": "cab8bfc7-02fe-46bf-ab30-fe211a416758"
      },
      "execution_count": 3,
      "outputs": [
        {
          "output_type": "stream",
          "name": "stdout",
          "text": [
            "1.36 s ± 0 ns per loop (mean ± std. dev. of 1 run, 1 loop each)\n"
          ]
        }
      ]
    },
    {
      "cell_type": "code",
      "source": [
        "%%timeit -r1\n",
        "M = X[:,np.newaxis] - X[np.newaxis,:]"
      ],
      "metadata": {
        "colab": {
          "base_uri": "https://localhost:8080/"
        },
        "id": "pHG-JWz8fpMg",
        "outputId": "715bad78-84ca-4c6d-e93a-079fc35e741f"
      },
      "execution_count": 4,
      "outputs": [
        {
          "output_type": "stream",
          "name": "stdout",
          "text": [
            "214 ms ± 0 ns per loop (mean ± std. dev. of 1 run, 1 loop each)\n"
          ]
        }
      ]
    },
    {
      "cell_type": "markdown",
      "source": [
        "# Close Pts Example\n",
        "\n",
        "Given two vectors $X$, $Y$ of the same shape $(n,)$, and a given value $\\delta$ compute the average $Y$ value of all the points whose $X$ value is within $\\delta$ of $x$\n",
        "\n",
        "$$\\hat{f}(x) = \\text{Average}(\\{ Y_i : |X_i - x| < \\delta \\}) = \\frac{\\displaystyle\\sum_{i : |x - X_i| < \\delta } Y_i } { \\# \\{i : |x - X_i| < \\delta \\} } $$"
      ],
      "metadata": {
        "id": "W6aCAlnyycqx"
      }
    },
    {
      "cell_type": "code",
      "source": [
        "n = 10000\n",
        "X = np.random.randn(n)\n",
        "Y = np.random.randn(n)\n",
        "\n",
        "x=0.5\n",
        "delta = 0.1"
      ],
      "metadata": {
        "id": "EJiBgoTols1T"
      },
      "execution_count": 20,
      "outputs": []
    },
    {
      "cell_type": "code",
      "source": [
        "%%timeit -r1\n",
        "N = 0\n",
        "Y_sum = 0\n",
        "for i in range(n):\n",
        "    if np.abs(X[i] - x) < delta:\n",
        "        Y_sum += Y[i]\n",
        "        N += 1\n",
        "#print(Y_sum/N)"
      ],
      "metadata": {
        "colab": {
          "base_uri": "https://localhost:8080/"
        },
        "id": "cIgsS5pXzKMi",
        "outputId": "ea7c842d-5c35-49ca-f809-609b7281deba"
      },
      "execution_count": 25,
      "outputs": [
        {
          "output_type": "stream",
          "name": "stdout",
          "text": [
            "13.4 ms ± 0 ns per loop (mean ± std. dev. of 1 run, 10 loops each)\n"
          ]
        }
      ]
    },
    {
      "cell_type": "code",
      "source": [
        "%%timeit -r1\n",
        "Bool_Close_Pts = ( np.abs(X-x)<delta )\n",
        "N = np.sum(Bool_Close_Pts)\n",
        "Y_sum = np.sum(Y*Bool_Close_Pts)\n",
        "#print(Y_sum/N)"
      ],
      "metadata": {
        "colab": {
          "base_uri": "https://localhost:8080/"
        },
        "id": "UIIxh4sVx7Kr",
        "outputId": "22010e8c-bd12-4b42-f8c9-650b7ee86219"
      },
      "execution_count": 27,
      "outputs": [
        {
          "output_type": "stream",
          "name": "stdout",
          "text": [
            "42.9 µs ± 0 ns per loop (mean ± std. dev. of 1 run, 10000 loops each)\n"
          ]
        }
      ]
    }
  ]
}