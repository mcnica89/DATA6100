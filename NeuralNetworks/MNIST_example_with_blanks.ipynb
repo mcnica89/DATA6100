{
  "nbformat": 4,
  "nbformat_minor": 0,
  "metadata": {
    "colab": {
      "provenance": [],
      "authorship_tag": "ABX9TyN/Hc2DTcqwE6otDtXraTOu",
      "include_colab_link": true
    },
    "kernelspec": {
      "name": "python3",
      "display_name": "Python 3"
    },
    "language_info": {
      "name": "python"
    },
    "widgets": {
      "application/vnd.jupyter.widget-state+json": {
        "20b7205d0c994b8d875e71c61755dfc6": {
          "model_module": "@jupyter-widgets/controls",
          "model_name": "HBoxModel",
          "model_module_version": "1.5.0",
          "state": {
            "_dom_classes": [],
            "_model_module": "@jupyter-widgets/controls",
            "_model_module_version": "1.5.0",
            "_model_name": "HBoxModel",
            "_view_count": null,
            "_view_module": "@jupyter-widgets/controls",
            "_view_module_version": "1.5.0",
            "_view_name": "HBoxView",
            "box_style": "",
            "children": [
              "IPY_MODEL_87908ba625404a4f924f3f3236f23666",
              "IPY_MODEL_476694571f184dd385d8aa6c878d0744",
              "IPY_MODEL_9bd69cdac72c49acaa7db2a680823676"
            ],
            "layout": "IPY_MODEL_e4024d4f89e54f1dbf1764de6258023c"
          }
        },
        "87908ba625404a4f924f3f3236f23666": {
          "model_module": "@jupyter-widgets/controls",
          "model_name": "HTMLModel",
          "model_module_version": "1.5.0",
          "state": {
            "_dom_classes": [],
            "_model_module": "@jupyter-widgets/controls",
            "_model_module_version": "1.5.0",
            "_model_name": "HTMLModel",
            "_view_count": null,
            "_view_module": "@jupyter-widgets/controls",
            "_view_module_version": "1.5.0",
            "_view_name": "HTMLView",
            "description": "",
            "description_tooltip": null,
            "layout": "IPY_MODEL_adcdb9a975694127bfd49c53782a551b",
            "placeholder": "​",
            "style": "IPY_MODEL_1ca0120e022f45969c5d0738efb15876",
            "value": "100%"
          }
        },
        "476694571f184dd385d8aa6c878d0744": {
          "model_module": "@jupyter-widgets/controls",
          "model_name": "FloatProgressModel",
          "model_module_version": "1.5.0",
          "state": {
            "_dom_classes": [],
            "_model_module": "@jupyter-widgets/controls",
            "_model_module_version": "1.5.0",
            "_model_name": "FloatProgressModel",
            "_view_count": null,
            "_view_module": "@jupyter-widgets/controls",
            "_view_module_version": "1.5.0",
            "_view_name": "ProgressView",
            "bar_style": "success",
            "description": "",
            "description_tooltip": null,
            "layout": "IPY_MODEL_2985f461a142478d9ad2717a7db89371",
            "max": 9912422,
            "min": 0,
            "orientation": "horizontal",
            "style": "IPY_MODEL_6d8b9a1ff509427f8c3654c8640a1c90",
            "value": 9912422
          }
        },
        "9bd69cdac72c49acaa7db2a680823676": {
          "model_module": "@jupyter-widgets/controls",
          "model_name": "HTMLModel",
          "model_module_version": "1.5.0",
          "state": {
            "_dom_classes": [],
            "_model_module": "@jupyter-widgets/controls",
            "_model_module_version": "1.5.0",
            "_model_name": "HTMLModel",
            "_view_count": null,
            "_view_module": "@jupyter-widgets/controls",
            "_view_module_version": "1.5.0",
            "_view_name": "HTMLView",
            "description": "",
            "description_tooltip": null,
            "layout": "IPY_MODEL_ca53ae4a54294b53b79ba3ccab30801e",
            "placeholder": "​",
            "style": "IPY_MODEL_2deeac1d6852461ab0baa88c03c22a64",
            "value": " 9912422/9912422 [00:00&lt;00:00, 27730529.56it/s]"
          }
        },
        "e4024d4f89e54f1dbf1764de6258023c": {
          "model_module": "@jupyter-widgets/base",
          "model_name": "LayoutModel",
          "model_module_version": "1.2.0",
          "state": {
            "_model_module": "@jupyter-widgets/base",
            "_model_module_version": "1.2.0",
            "_model_name": "LayoutModel",
            "_view_count": null,
            "_view_module": "@jupyter-widgets/base",
            "_view_module_version": "1.2.0",
            "_view_name": "LayoutView",
            "align_content": null,
            "align_items": null,
            "align_self": null,
            "border": null,
            "bottom": null,
            "display": null,
            "flex": null,
            "flex_flow": null,
            "grid_area": null,
            "grid_auto_columns": null,
            "grid_auto_flow": null,
            "grid_auto_rows": null,
            "grid_column": null,
            "grid_gap": null,
            "grid_row": null,
            "grid_template_areas": null,
            "grid_template_columns": null,
            "grid_template_rows": null,
            "height": null,
            "justify_content": null,
            "justify_items": null,
            "left": null,
            "margin": null,
            "max_height": null,
            "max_width": null,
            "min_height": null,
            "min_width": null,
            "object_fit": null,
            "object_position": null,
            "order": null,
            "overflow": null,
            "overflow_x": null,
            "overflow_y": null,
            "padding": null,
            "right": null,
            "top": null,
            "visibility": null,
            "width": null
          }
        },
        "adcdb9a975694127bfd49c53782a551b": {
          "model_module": "@jupyter-widgets/base",
          "model_name": "LayoutModel",
          "model_module_version": "1.2.0",
          "state": {
            "_model_module": "@jupyter-widgets/base",
            "_model_module_version": "1.2.0",
            "_model_name": "LayoutModel",
            "_view_count": null,
            "_view_module": "@jupyter-widgets/base",
            "_view_module_version": "1.2.0",
            "_view_name": "LayoutView",
            "align_content": null,
            "align_items": null,
            "align_self": null,
            "border": null,
            "bottom": null,
            "display": null,
            "flex": null,
            "flex_flow": null,
            "grid_area": null,
            "grid_auto_columns": null,
            "grid_auto_flow": null,
            "grid_auto_rows": null,
            "grid_column": null,
            "grid_gap": null,
            "grid_row": null,
            "grid_template_areas": null,
            "grid_template_columns": null,
            "grid_template_rows": null,
            "height": null,
            "justify_content": null,
            "justify_items": null,
            "left": null,
            "margin": null,
            "max_height": null,
            "max_width": null,
            "min_height": null,
            "min_width": null,
            "object_fit": null,
            "object_position": null,
            "order": null,
            "overflow": null,
            "overflow_x": null,
            "overflow_y": null,
            "padding": null,
            "right": null,
            "top": null,
            "visibility": null,
            "width": null
          }
        },
        "1ca0120e022f45969c5d0738efb15876": {
          "model_module": "@jupyter-widgets/controls",
          "model_name": "DescriptionStyleModel",
          "model_module_version": "1.5.0",
          "state": {
            "_model_module": "@jupyter-widgets/controls",
            "_model_module_version": "1.5.0",
            "_model_name": "DescriptionStyleModel",
            "_view_count": null,
            "_view_module": "@jupyter-widgets/base",
            "_view_module_version": "1.2.0",
            "_view_name": "StyleView",
            "description_width": ""
          }
        },
        "2985f461a142478d9ad2717a7db89371": {
          "model_module": "@jupyter-widgets/base",
          "model_name": "LayoutModel",
          "model_module_version": "1.2.0",
          "state": {
            "_model_module": "@jupyter-widgets/base",
            "_model_module_version": "1.2.0",
            "_model_name": "LayoutModel",
            "_view_count": null,
            "_view_module": "@jupyter-widgets/base",
            "_view_module_version": "1.2.0",
            "_view_name": "LayoutView",
            "align_content": null,
            "align_items": null,
            "align_self": null,
            "border": null,
            "bottom": null,
            "display": null,
            "flex": null,
            "flex_flow": null,
            "grid_area": null,
            "grid_auto_columns": null,
            "grid_auto_flow": null,
            "grid_auto_rows": null,
            "grid_column": null,
            "grid_gap": null,
            "grid_row": null,
            "grid_template_areas": null,
            "grid_template_columns": null,
            "grid_template_rows": null,
            "height": null,
            "justify_content": null,
            "justify_items": null,
            "left": null,
            "margin": null,
            "max_height": null,
            "max_width": null,
            "min_height": null,
            "min_width": null,
            "object_fit": null,
            "object_position": null,
            "order": null,
            "overflow": null,
            "overflow_x": null,
            "overflow_y": null,
            "padding": null,
            "right": null,
            "top": null,
            "visibility": null,
            "width": null
          }
        },
        "6d8b9a1ff509427f8c3654c8640a1c90": {
          "model_module": "@jupyter-widgets/controls",
          "model_name": "ProgressStyleModel",
          "model_module_version": "1.5.0",
          "state": {
            "_model_module": "@jupyter-widgets/controls",
            "_model_module_version": "1.5.0",
            "_model_name": "ProgressStyleModel",
            "_view_count": null,
            "_view_module": "@jupyter-widgets/base",
            "_view_module_version": "1.2.0",
            "_view_name": "StyleView",
            "bar_color": null,
            "description_width": ""
          }
        },
        "ca53ae4a54294b53b79ba3ccab30801e": {
          "model_module": "@jupyter-widgets/base",
          "model_name": "LayoutModel",
          "model_module_version": "1.2.0",
          "state": {
            "_model_module": "@jupyter-widgets/base",
            "_model_module_version": "1.2.0",
            "_model_name": "LayoutModel",
            "_view_count": null,
            "_view_module": "@jupyter-widgets/base",
            "_view_module_version": "1.2.0",
            "_view_name": "LayoutView",
            "align_content": null,
            "align_items": null,
            "align_self": null,
            "border": null,
            "bottom": null,
            "display": null,
            "flex": null,
            "flex_flow": null,
            "grid_area": null,
            "grid_auto_columns": null,
            "grid_auto_flow": null,
            "grid_auto_rows": null,
            "grid_column": null,
            "grid_gap": null,
            "grid_row": null,
            "grid_template_areas": null,
            "grid_template_columns": null,
            "grid_template_rows": null,
            "height": null,
            "justify_content": null,
            "justify_items": null,
            "left": null,
            "margin": null,
            "max_height": null,
            "max_width": null,
            "min_height": null,
            "min_width": null,
            "object_fit": null,
            "object_position": null,
            "order": null,
            "overflow": null,
            "overflow_x": null,
            "overflow_y": null,
            "padding": null,
            "right": null,
            "top": null,
            "visibility": null,
            "width": null
          }
        },
        "2deeac1d6852461ab0baa88c03c22a64": {
          "model_module": "@jupyter-widgets/controls",
          "model_name": "DescriptionStyleModel",
          "model_module_version": "1.5.0",
          "state": {
            "_model_module": "@jupyter-widgets/controls",
            "_model_module_version": "1.5.0",
            "_model_name": "DescriptionStyleModel",
            "_view_count": null,
            "_view_module": "@jupyter-widgets/base",
            "_view_module_version": "1.2.0",
            "_view_name": "StyleView",
            "description_width": ""
          }
        },
        "0f287739a0094e85a5933aad4350903f": {
          "model_module": "@jupyter-widgets/controls",
          "model_name": "HBoxModel",
          "model_module_version": "1.5.0",
          "state": {
            "_dom_classes": [],
            "_model_module": "@jupyter-widgets/controls",
            "_model_module_version": "1.5.0",
            "_model_name": "HBoxModel",
            "_view_count": null,
            "_view_module": "@jupyter-widgets/controls",
            "_view_module_version": "1.5.0",
            "_view_name": "HBoxView",
            "box_style": "",
            "children": [
              "IPY_MODEL_ccaa37e511b644bc8f13c5e6a34ee525",
              "IPY_MODEL_4be82fff0a2e4abe841664d48f50043e",
              "IPY_MODEL_9246a5c92dd64d628621f188309700f9"
            ],
            "layout": "IPY_MODEL_15e8eae764a84d55a30110b160b7f5c1"
          }
        },
        "ccaa37e511b644bc8f13c5e6a34ee525": {
          "model_module": "@jupyter-widgets/controls",
          "model_name": "HTMLModel",
          "model_module_version": "1.5.0",
          "state": {
            "_dom_classes": [],
            "_model_module": "@jupyter-widgets/controls",
            "_model_module_version": "1.5.0",
            "_model_name": "HTMLModel",
            "_view_count": null,
            "_view_module": "@jupyter-widgets/controls",
            "_view_module_version": "1.5.0",
            "_view_name": "HTMLView",
            "description": "",
            "description_tooltip": null,
            "layout": "IPY_MODEL_626877f384fd4b539afec7691e77f655",
            "placeholder": "​",
            "style": "IPY_MODEL_79e5a04bcccc4baba62c7172898d4058",
            "value": "100%"
          }
        },
        "4be82fff0a2e4abe841664d48f50043e": {
          "model_module": "@jupyter-widgets/controls",
          "model_name": "FloatProgressModel",
          "model_module_version": "1.5.0",
          "state": {
            "_dom_classes": [],
            "_model_module": "@jupyter-widgets/controls",
            "_model_module_version": "1.5.0",
            "_model_name": "FloatProgressModel",
            "_view_count": null,
            "_view_module": "@jupyter-widgets/controls",
            "_view_module_version": "1.5.0",
            "_view_name": "ProgressView",
            "bar_style": "success",
            "description": "",
            "description_tooltip": null,
            "layout": "IPY_MODEL_95b92b03c5fc4c94b4c8e217671b33db",
            "max": 28881,
            "min": 0,
            "orientation": "horizontal",
            "style": "IPY_MODEL_78550db49ff248d080e3efca5f4ca97a",
            "value": 28881
          }
        },
        "9246a5c92dd64d628621f188309700f9": {
          "model_module": "@jupyter-widgets/controls",
          "model_name": "HTMLModel",
          "model_module_version": "1.5.0",
          "state": {
            "_dom_classes": [],
            "_model_module": "@jupyter-widgets/controls",
            "_model_module_version": "1.5.0",
            "_model_name": "HTMLModel",
            "_view_count": null,
            "_view_module": "@jupyter-widgets/controls",
            "_view_module_version": "1.5.0",
            "_view_name": "HTMLView",
            "description": "",
            "description_tooltip": null,
            "layout": "IPY_MODEL_c4b3d1968430485caa78f3cf7486300b",
            "placeholder": "​",
            "style": "IPY_MODEL_a6f4110a3ee04c578b0f7ed2948384a0",
            "value": " 28881/28881 [00:00&lt;00:00, 984306.87it/s]"
          }
        },
        "15e8eae764a84d55a30110b160b7f5c1": {
          "model_module": "@jupyter-widgets/base",
          "model_name": "LayoutModel",
          "model_module_version": "1.2.0",
          "state": {
            "_model_module": "@jupyter-widgets/base",
            "_model_module_version": "1.2.0",
            "_model_name": "LayoutModel",
            "_view_count": null,
            "_view_module": "@jupyter-widgets/base",
            "_view_module_version": "1.2.0",
            "_view_name": "LayoutView",
            "align_content": null,
            "align_items": null,
            "align_self": null,
            "border": null,
            "bottom": null,
            "display": null,
            "flex": null,
            "flex_flow": null,
            "grid_area": null,
            "grid_auto_columns": null,
            "grid_auto_flow": null,
            "grid_auto_rows": null,
            "grid_column": null,
            "grid_gap": null,
            "grid_row": null,
            "grid_template_areas": null,
            "grid_template_columns": null,
            "grid_template_rows": null,
            "height": null,
            "justify_content": null,
            "justify_items": null,
            "left": null,
            "margin": null,
            "max_height": null,
            "max_width": null,
            "min_height": null,
            "min_width": null,
            "object_fit": null,
            "object_position": null,
            "order": null,
            "overflow": null,
            "overflow_x": null,
            "overflow_y": null,
            "padding": null,
            "right": null,
            "top": null,
            "visibility": null,
            "width": null
          }
        },
        "626877f384fd4b539afec7691e77f655": {
          "model_module": "@jupyter-widgets/base",
          "model_name": "LayoutModel",
          "model_module_version": "1.2.0",
          "state": {
            "_model_module": "@jupyter-widgets/base",
            "_model_module_version": "1.2.0",
            "_model_name": "LayoutModel",
            "_view_count": null,
            "_view_module": "@jupyter-widgets/base",
            "_view_module_version": "1.2.0",
            "_view_name": "LayoutView",
            "align_content": null,
            "align_items": null,
            "align_self": null,
            "border": null,
            "bottom": null,
            "display": null,
            "flex": null,
            "flex_flow": null,
            "grid_area": null,
            "grid_auto_columns": null,
            "grid_auto_flow": null,
            "grid_auto_rows": null,
            "grid_column": null,
            "grid_gap": null,
            "grid_row": null,
            "grid_template_areas": null,
            "grid_template_columns": null,
            "grid_template_rows": null,
            "height": null,
            "justify_content": null,
            "justify_items": null,
            "left": null,
            "margin": null,
            "max_height": null,
            "max_width": null,
            "min_height": null,
            "min_width": null,
            "object_fit": null,
            "object_position": null,
            "order": null,
            "overflow": null,
            "overflow_x": null,
            "overflow_y": null,
            "padding": null,
            "right": null,
            "top": null,
            "visibility": null,
            "width": null
          }
        },
        "79e5a04bcccc4baba62c7172898d4058": {
          "model_module": "@jupyter-widgets/controls",
          "model_name": "DescriptionStyleModel",
          "model_module_version": "1.5.0",
          "state": {
            "_model_module": "@jupyter-widgets/controls",
            "_model_module_version": "1.5.0",
            "_model_name": "DescriptionStyleModel",
            "_view_count": null,
            "_view_module": "@jupyter-widgets/base",
            "_view_module_version": "1.2.0",
            "_view_name": "StyleView",
            "description_width": ""
          }
        },
        "95b92b03c5fc4c94b4c8e217671b33db": {
          "model_module": "@jupyter-widgets/base",
          "model_name": "LayoutModel",
          "model_module_version": "1.2.0",
          "state": {
            "_model_module": "@jupyter-widgets/base",
            "_model_module_version": "1.2.0",
            "_model_name": "LayoutModel",
            "_view_count": null,
            "_view_module": "@jupyter-widgets/base",
            "_view_module_version": "1.2.0",
            "_view_name": "LayoutView",
            "align_content": null,
            "align_items": null,
            "align_self": null,
            "border": null,
            "bottom": null,
            "display": null,
            "flex": null,
            "flex_flow": null,
            "grid_area": null,
            "grid_auto_columns": null,
            "grid_auto_flow": null,
            "grid_auto_rows": null,
            "grid_column": null,
            "grid_gap": null,
            "grid_row": null,
            "grid_template_areas": null,
            "grid_template_columns": null,
            "grid_template_rows": null,
            "height": null,
            "justify_content": null,
            "justify_items": null,
            "left": null,
            "margin": null,
            "max_height": null,
            "max_width": null,
            "min_height": null,
            "min_width": null,
            "object_fit": null,
            "object_position": null,
            "order": null,
            "overflow": null,
            "overflow_x": null,
            "overflow_y": null,
            "padding": null,
            "right": null,
            "top": null,
            "visibility": null,
            "width": null
          }
        },
        "78550db49ff248d080e3efca5f4ca97a": {
          "model_module": "@jupyter-widgets/controls",
          "model_name": "ProgressStyleModel",
          "model_module_version": "1.5.0",
          "state": {
            "_model_module": "@jupyter-widgets/controls",
            "_model_module_version": "1.5.0",
            "_model_name": "ProgressStyleModel",
            "_view_count": null,
            "_view_module": "@jupyter-widgets/base",
            "_view_module_version": "1.2.0",
            "_view_name": "StyleView",
            "bar_color": null,
            "description_width": ""
          }
        },
        "c4b3d1968430485caa78f3cf7486300b": {
          "model_module": "@jupyter-widgets/base",
          "model_name": "LayoutModel",
          "model_module_version": "1.2.0",
          "state": {
            "_model_module": "@jupyter-widgets/base",
            "_model_module_version": "1.2.0",
            "_model_name": "LayoutModel",
            "_view_count": null,
            "_view_module": "@jupyter-widgets/base",
            "_view_module_version": "1.2.0",
            "_view_name": "LayoutView",
            "align_content": null,
            "align_items": null,
            "align_self": null,
            "border": null,
            "bottom": null,
            "display": null,
            "flex": null,
            "flex_flow": null,
            "grid_area": null,
            "grid_auto_columns": null,
            "grid_auto_flow": null,
            "grid_auto_rows": null,
            "grid_column": null,
            "grid_gap": null,
            "grid_row": null,
            "grid_template_areas": null,
            "grid_template_columns": null,
            "grid_template_rows": null,
            "height": null,
            "justify_content": null,
            "justify_items": null,
            "left": null,
            "margin": null,
            "max_height": null,
            "max_width": null,
            "min_height": null,
            "min_width": null,
            "object_fit": null,
            "object_position": null,
            "order": null,
            "overflow": null,
            "overflow_x": null,
            "overflow_y": null,
            "padding": null,
            "right": null,
            "top": null,
            "visibility": null,
            "width": null
          }
        },
        "a6f4110a3ee04c578b0f7ed2948384a0": {
          "model_module": "@jupyter-widgets/controls",
          "model_name": "DescriptionStyleModel",
          "model_module_version": "1.5.0",
          "state": {
            "_model_module": "@jupyter-widgets/controls",
            "_model_module_version": "1.5.0",
            "_model_name": "DescriptionStyleModel",
            "_view_count": null,
            "_view_module": "@jupyter-widgets/base",
            "_view_module_version": "1.2.0",
            "_view_name": "StyleView",
            "description_width": ""
          }
        },
        "360b3173dcb641018092e4a1721cf0a7": {
          "model_module": "@jupyter-widgets/controls",
          "model_name": "HBoxModel",
          "model_module_version": "1.5.0",
          "state": {
            "_dom_classes": [],
            "_model_module": "@jupyter-widgets/controls",
            "_model_module_version": "1.5.0",
            "_model_name": "HBoxModel",
            "_view_count": null,
            "_view_module": "@jupyter-widgets/controls",
            "_view_module_version": "1.5.0",
            "_view_name": "HBoxView",
            "box_style": "",
            "children": [
              "IPY_MODEL_6073d7a0e92447129c2799fbb9b79bd5",
              "IPY_MODEL_60e3be0068a5406d8202de7081ecd25f",
              "IPY_MODEL_9990be89773640c2887267f3a12ac5be"
            ],
            "layout": "IPY_MODEL_8a99093ad1774e42a5107fdc2913e29a"
          }
        },
        "6073d7a0e92447129c2799fbb9b79bd5": {
          "model_module": "@jupyter-widgets/controls",
          "model_name": "HTMLModel",
          "model_module_version": "1.5.0",
          "state": {
            "_dom_classes": [],
            "_model_module": "@jupyter-widgets/controls",
            "_model_module_version": "1.5.0",
            "_model_name": "HTMLModel",
            "_view_count": null,
            "_view_module": "@jupyter-widgets/controls",
            "_view_module_version": "1.5.0",
            "_view_name": "HTMLView",
            "description": "",
            "description_tooltip": null,
            "layout": "IPY_MODEL_5d74372335a64a7590310985ed3953eb",
            "placeholder": "​",
            "style": "IPY_MODEL_3a0298fe3e5844f1ab0a8f4a7d292fec",
            "value": "100%"
          }
        },
        "60e3be0068a5406d8202de7081ecd25f": {
          "model_module": "@jupyter-widgets/controls",
          "model_name": "FloatProgressModel",
          "model_module_version": "1.5.0",
          "state": {
            "_dom_classes": [],
            "_model_module": "@jupyter-widgets/controls",
            "_model_module_version": "1.5.0",
            "_model_name": "FloatProgressModel",
            "_view_count": null,
            "_view_module": "@jupyter-widgets/controls",
            "_view_module_version": "1.5.0",
            "_view_name": "ProgressView",
            "bar_style": "success",
            "description": "",
            "description_tooltip": null,
            "layout": "IPY_MODEL_32e486c256454b53a9649153b0cfc906",
            "max": 1648877,
            "min": 0,
            "orientation": "horizontal",
            "style": "IPY_MODEL_e3e3f642b08e470e870a19c314ceedc3",
            "value": 1648877
          }
        },
        "9990be89773640c2887267f3a12ac5be": {
          "model_module": "@jupyter-widgets/controls",
          "model_name": "HTMLModel",
          "model_module_version": "1.5.0",
          "state": {
            "_dom_classes": [],
            "_model_module": "@jupyter-widgets/controls",
            "_model_module_version": "1.5.0",
            "_model_name": "HTMLModel",
            "_view_count": null,
            "_view_module": "@jupyter-widgets/controls",
            "_view_module_version": "1.5.0",
            "_view_name": "HTMLView",
            "description": "",
            "description_tooltip": null,
            "layout": "IPY_MODEL_7b3794890ac94ddd8e8ea03f5c7e5272",
            "placeholder": "​",
            "style": "IPY_MODEL_6b3ad2cfbc0844bda740f58548e4d657",
            "value": " 1648877/1648877 [00:00&lt;00:00, 27601407.22it/s]"
          }
        },
        "8a99093ad1774e42a5107fdc2913e29a": {
          "model_module": "@jupyter-widgets/base",
          "model_name": "LayoutModel",
          "model_module_version": "1.2.0",
          "state": {
            "_model_module": "@jupyter-widgets/base",
            "_model_module_version": "1.2.0",
            "_model_name": "LayoutModel",
            "_view_count": null,
            "_view_module": "@jupyter-widgets/base",
            "_view_module_version": "1.2.0",
            "_view_name": "LayoutView",
            "align_content": null,
            "align_items": null,
            "align_self": null,
            "border": null,
            "bottom": null,
            "display": null,
            "flex": null,
            "flex_flow": null,
            "grid_area": null,
            "grid_auto_columns": null,
            "grid_auto_flow": null,
            "grid_auto_rows": null,
            "grid_column": null,
            "grid_gap": null,
            "grid_row": null,
            "grid_template_areas": null,
            "grid_template_columns": null,
            "grid_template_rows": null,
            "height": null,
            "justify_content": null,
            "justify_items": null,
            "left": null,
            "margin": null,
            "max_height": null,
            "max_width": null,
            "min_height": null,
            "min_width": null,
            "object_fit": null,
            "object_position": null,
            "order": null,
            "overflow": null,
            "overflow_x": null,
            "overflow_y": null,
            "padding": null,
            "right": null,
            "top": null,
            "visibility": null,
            "width": null
          }
        },
        "5d74372335a64a7590310985ed3953eb": {
          "model_module": "@jupyter-widgets/base",
          "model_name": "LayoutModel",
          "model_module_version": "1.2.0",
          "state": {
            "_model_module": "@jupyter-widgets/base",
            "_model_module_version": "1.2.0",
            "_model_name": "LayoutModel",
            "_view_count": null,
            "_view_module": "@jupyter-widgets/base",
            "_view_module_version": "1.2.0",
            "_view_name": "LayoutView",
            "align_content": null,
            "align_items": null,
            "align_self": null,
            "border": null,
            "bottom": null,
            "display": null,
            "flex": null,
            "flex_flow": null,
            "grid_area": null,
            "grid_auto_columns": null,
            "grid_auto_flow": null,
            "grid_auto_rows": null,
            "grid_column": null,
            "grid_gap": null,
            "grid_row": null,
            "grid_template_areas": null,
            "grid_template_columns": null,
            "grid_template_rows": null,
            "height": null,
            "justify_content": null,
            "justify_items": null,
            "left": null,
            "margin": null,
            "max_height": null,
            "max_width": null,
            "min_height": null,
            "min_width": null,
            "object_fit": null,
            "object_position": null,
            "order": null,
            "overflow": null,
            "overflow_x": null,
            "overflow_y": null,
            "padding": null,
            "right": null,
            "top": null,
            "visibility": null,
            "width": null
          }
        },
        "3a0298fe3e5844f1ab0a8f4a7d292fec": {
          "model_module": "@jupyter-widgets/controls",
          "model_name": "DescriptionStyleModel",
          "model_module_version": "1.5.0",
          "state": {
            "_model_module": "@jupyter-widgets/controls",
            "_model_module_version": "1.5.0",
            "_model_name": "DescriptionStyleModel",
            "_view_count": null,
            "_view_module": "@jupyter-widgets/base",
            "_view_module_version": "1.2.0",
            "_view_name": "StyleView",
            "description_width": ""
          }
        },
        "32e486c256454b53a9649153b0cfc906": {
          "model_module": "@jupyter-widgets/base",
          "model_name": "LayoutModel",
          "model_module_version": "1.2.0",
          "state": {
            "_model_module": "@jupyter-widgets/base",
            "_model_module_version": "1.2.0",
            "_model_name": "LayoutModel",
            "_view_count": null,
            "_view_module": "@jupyter-widgets/base",
            "_view_module_version": "1.2.0",
            "_view_name": "LayoutView",
            "align_content": null,
            "align_items": null,
            "align_self": null,
            "border": null,
            "bottom": null,
            "display": null,
            "flex": null,
            "flex_flow": null,
            "grid_area": null,
            "grid_auto_columns": null,
            "grid_auto_flow": null,
            "grid_auto_rows": null,
            "grid_column": null,
            "grid_gap": null,
            "grid_row": null,
            "grid_template_areas": null,
            "grid_template_columns": null,
            "grid_template_rows": null,
            "height": null,
            "justify_content": null,
            "justify_items": null,
            "left": null,
            "margin": null,
            "max_height": null,
            "max_width": null,
            "min_height": null,
            "min_width": null,
            "object_fit": null,
            "object_position": null,
            "order": null,
            "overflow": null,
            "overflow_x": null,
            "overflow_y": null,
            "padding": null,
            "right": null,
            "top": null,
            "visibility": null,
            "width": null
          }
        },
        "e3e3f642b08e470e870a19c314ceedc3": {
          "model_module": "@jupyter-widgets/controls",
          "model_name": "ProgressStyleModel",
          "model_module_version": "1.5.0",
          "state": {
            "_model_module": "@jupyter-widgets/controls",
            "_model_module_version": "1.5.0",
            "_model_name": "ProgressStyleModel",
            "_view_count": null,
            "_view_module": "@jupyter-widgets/base",
            "_view_module_version": "1.2.0",
            "_view_name": "StyleView",
            "bar_color": null,
            "description_width": ""
          }
        },
        "7b3794890ac94ddd8e8ea03f5c7e5272": {
          "model_module": "@jupyter-widgets/base",
          "model_name": "LayoutModel",
          "model_module_version": "1.2.0",
          "state": {
            "_model_module": "@jupyter-widgets/base",
            "_model_module_version": "1.2.0",
            "_model_name": "LayoutModel",
            "_view_count": null,
            "_view_module": "@jupyter-widgets/base",
            "_view_module_version": "1.2.0",
            "_view_name": "LayoutView",
            "align_content": null,
            "align_items": null,
            "align_self": null,
            "border": null,
            "bottom": null,
            "display": null,
            "flex": null,
            "flex_flow": null,
            "grid_area": null,
            "grid_auto_columns": null,
            "grid_auto_flow": null,
            "grid_auto_rows": null,
            "grid_column": null,
            "grid_gap": null,
            "grid_row": null,
            "grid_template_areas": null,
            "grid_template_columns": null,
            "grid_template_rows": null,
            "height": null,
            "justify_content": null,
            "justify_items": null,
            "left": null,
            "margin": null,
            "max_height": null,
            "max_width": null,
            "min_height": null,
            "min_width": null,
            "object_fit": null,
            "object_position": null,
            "order": null,
            "overflow": null,
            "overflow_x": null,
            "overflow_y": null,
            "padding": null,
            "right": null,
            "top": null,
            "visibility": null,
            "width": null
          }
        },
        "6b3ad2cfbc0844bda740f58548e4d657": {
          "model_module": "@jupyter-widgets/controls",
          "model_name": "DescriptionStyleModel",
          "model_module_version": "1.5.0",
          "state": {
            "_model_module": "@jupyter-widgets/controls",
            "_model_module_version": "1.5.0",
            "_model_name": "DescriptionStyleModel",
            "_view_count": null,
            "_view_module": "@jupyter-widgets/base",
            "_view_module_version": "1.2.0",
            "_view_name": "StyleView",
            "description_width": ""
          }
        },
        "e153304998e7444990e0e4356e8bd9eb": {
          "model_module": "@jupyter-widgets/controls",
          "model_name": "HBoxModel",
          "model_module_version": "1.5.0",
          "state": {
            "_dom_classes": [],
            "_model_module": "@jupyter-widgets/controls",
            "_model_module_version": "1.5.0",
            "_model_name": "HBoxModel",
            "_view_count": null,
            "_view_module": "@jupyter-widgets/controls",
            "_view_module_version": "1.5.0",
            "_view_name": "HBoxView",
            "box_style": "",
            "children": [
              "IPY_MODEL_57a2e1d1255c46f4ae8cb5cde4ec147a",
              "IPY_MODEL_07de95de48444c888c29b96309312024",
              "IPY_MODEL_ba5e8a174ce144b2b39ee8c9c0ecd362"
            ],
            "layout": "IPY_MODEL_89631ab6c95c45ae9ec731435b51bcc7"
          }
        },
        "57a2e1d1255c46f4ae8cb5cde4ec147a": {
          "model_module": "@jupyter-widgets/controls",
          "model_name": "HTMLModel",
          "model_module_version": "1.5.0",
          "state": {
            "_dom_classes": [],
            "_model_module": "@jupyter-widgets/controls",
            "_model_module_version": "1.5.0",
            "_model_name": "HTMLModel",
            "_view_count": null,
            "_view_module": "@jupyter-widgets/controls",
            "_view_module_version": "1.5.0",
            "_view_name": "HTMLView",
            "description": "",
            "description_tooltip": null,
            "layout": "IPY_MODEL_f7694ee8b72042c1b3dd57b8ed039b21",
            "placeholder": "​",
            "style": "IPY_MODEL_cf0fce6d7fa1434da1f27708565c6831",
            "value": "100%"
          }
        },
        "07de95de48444c888c29b96309312024": {
          "model_module": "@jupyter-widgets/controls",
          "model_name": "FloatProgressModel",
          "model_module_version": "1.5.0",
          "state": {
            "_dom_classes": [],
            "_model_module": "@jupyter-widgets/controls",
            "_model_module_version": "1.5.0",
            "_model_name": "FloatProgressModel",
            "_view_count": null,
            "_view_module": "@jupyter-widgets/controls",
            "_view_module_version": "1.5.0",
            "_view_name": "ProgressView",
            "bar_style": "success",
            "description": "",
            "description_tooltip": null,
            "layout": "IPY_MODEL_f9b87ef4bff74a84be8776e19ad07b44",
            "max": 4542,
            "min": 0,
            "orientation": "horizontal",
            "style": "IPY_MODEL_786dd41871a3491babe4b560357687ec",
            "value": 4542
          }
        },
        "ba5e8a174ce144b2b39ee8c9c0ecd362": {
          "model_module": "@jupyter-widgets/controls",
          "model_name": "HTMLModel",
          "model_module_version": "1.5.0",
          "state": {
            "_dom_classes": [],
            "_model_module": "@jupyter-widgets/controls",
            "_model_module_version": "1.5.0",
            "_model_name": "HTMLModel",
            "_view_count": null,
            "_view_module": "@jupyter-widgets/controls",
            "_view_module_version": "1.5.0",
            "_view_name": "HTMLView",
            "description": "",
            "description_tooltip": null,
            "layout": "IPY_MODEL_3dc25af5f65040b6857bf92f5c612dd6",
            "placeholder": "​",
            "style": "IPY_MODEL_5846328eab9e4145bd5a3d13f38c7abb",
            "value": " 4542/4542 [00:00&lt;00:00, 211922.14it/s]"
          }
        },
        "89631ab6c95c45ae9ec731435b51bcc7": {
          "model_module": "@jupyter-widgets/base",
          "model_name": "LayoutModel",
          "model_module_version": "1.2.0",
          "state": {
            "_model_module": "@jupyter-widgets/base",
            "_model_module_version": "1.2.0",
            "_model_name": "LayoutModel",
            "_view_count": null,
            "_view_module": "@jupyter-widgets/base",
            "_view_module_version": "1.2.0",
            "_view_name": "LayoutView",
            "align_content": null,
            "align_items": null,
            "align_self": null,
            "border": null,
            "bottom": null,
            "display": null,
            "flex": null,
            "flex_flow": null,
            "grid_area": null,
            "grid_auto_columns": null,
            "grid_auto_flow": null,
            "grid_auto_rows": null,
            "grid_column": null,
            "grid_gap": null,
            "grid_row": null,
            "grid_template_areas": null,
            "grid_template_columns": null,
            "grid_template_rows": null,
            "height": null,
            "justify_content": null,
            "justify_items": null,
            "left": null,
            "margin": null,
            "max_height": null,
            "max_width": null,
            "min_height": null,
            "min_width": null,
            "object_fit": null,
            "object_position": null,
            "order": null,
            "overflow": null,
            "overflow_x": null,
            "overflow_y": null,
            "padding": null,
            "right": null,
            "top": null,
            "visibility": null,
            "width": null
          }
        },
        "f7694ee8b72042c1b3dd57b8ed039b21": {
          "model_module": "@jupyter-widgets/base",
          "model_name": "LayoutModel",
          "model_module_version": "1.2.0",
          "state": {
            "_model_module": "@jupyter-widgets/base",
            "_model_module_version": "1.2.0",
            "_model_name": "LayoutModel",
            "_view_count": null,
            "_view_module": "@jupyter-widgets/base",
            "_view_module_version": "1.2.0",
            "_view_name": "LayoutView",
            "align_content": null,
            "align_items": null,
            "align_self": null,
            "border": null,
            "bottom": null,
            "display": null,
            "flex": null,
            "flex_flow": null,
            "grid_area": null,
            "grid_auto_columns": null,
            "grid_auto_flow": null,
            "grid_auto_rows": null,
            "grid_column": null,
            "grid_gap": null,
            "grid_row": null,
            "grid_template_areas": null,
            "grid_template_columns": null,
            "grid_template_rows": null,
            "height": null,
            "justify_content": null,
            "justify_items": null,
            "left": null,
            "margin": null,
            "max_height": null,
            "max_width": null,
            "min_height": null,
            "min_width": null,
            "object_fit": null,
            "object_position": null,
            "order": null,
            "overflow": null,
            "overflow_x": null,
            "overflow_y": null,
            "padding": null,
            "right": null,
            "top": null,
            "visibility": null,
            "width": null
          }
        },
        "cf0fce6d7fa1434da1f27708565c6831": {
          "model_module": "@jupyter-widgets/controls",
          "model_name": "DescriptionStyleModel",
          "model_module_version": "1.5.0",
          "state": {
            "_model_module": "@jupyter-widgets/controls",
            "_model_module_version": "1.5.0",
            "_model_name": "DescriptionStyleModel",
            "_view_count": null,
            "_view_module": "@jupyter-widgets/base",
            "_view_module_version": "1.2.0",
            "_view_name": "StyleView",
            "description_width": ""
          }
        },
        "f9b87ef4bff74a84be8776e19ad07b44": {
          "model_module": "@jupyter-widgets/base",
          "model_name": "LayoutModel",
          "model_module_version": "1.2.0",
          "state": {
            "_model_module": "@jupyter-widgets/base",
            "_model_module_version": "1.2.0",
            "_model_name": "LayoutModel",
            "_view_count": null,
            "_view_module": "@jupyter-widgets/base",
            "_view_module_version": "1.2.0",
            "_view_name": "LayoutView",
            "align_content": null,
            "align_items": null,
            "align_self": null,
            "border": null,
            "bottom": null,
            "display": null,
            "flex": null,
            "flex_flow": null,
            "grid_area": null,
            "grid_auto_columns": null,
            "grid_auto_flow": null,
            "grid_auto_rows": null,
            "grid_column": null,
            "grid_gap": null,
            "grid_row": null,
            "grid_template_areas": null,
            "grid_template_columns": null,
            "grid_template_rows": null,
            "height": null,
            "justify_content": null,
            "justify_items": null,
            "left": null,
            "margin": null,
            "max_height": null,
            "max_width": null,
            "min_height": null,
            "min_width": null,
            "object_fit": null,
            "object_position": null,
            "order": null,
            "overflow": null,
            "overflow_x": null,
            "overflow_y": null,
            "padding": null,
            "right": null,
            "top": null,
            "visibility": null,
            "width": null
          }
        },
        "786dd41871a3491babe4b560357687ec": {
          "model_module": "@jupyter-widgets/controls",
          "model_name": "ProgressStyleModel",
          "model_module_version": "1.5.0",
          "state": {
            "_model_module": "@jupyter-widgets/controls",
            "_model_module_version": "1.5.0",
            "_model_name": "ProgressStyleModel",
            "_view_count": null,
            "_view_module": "@jupyter-widgets/base",
            "_view_module_version": "1.2.0",
            "_view_name": "StyleView",
            "bar_color": null,
            "description_width": ""
          }
        },
        "3dc25af5f65040b6857bf92f5c612dd6": {
          "model_module": "@jupyter-widgets/base",
          "model_name": "LayoutModel",
          "model_module_version": "1.2.0",
          "state": {
            "_model_module": "@jupyter-widgets/base",
            "_model_module_version": "1.2.0",
            "_model_name": "LayoutModel",
            "_view_count": null,
            "_view_module": "@jupyter-widgets/base",
            "_view_module_version": "1.2.0",
            "_view_name": "LayoutView",
            "align_content": null,
            "align_items": null,
            "align_self": null,
            "border": null,
            "bottom": null,
            "display": null,
            "flex": null,
            "flex_flow": null,
            "grid_area": null,
            "grid_auto_columns": null,
            "grid_auto_flow": null,
            "grid_auto_rows": null,
            "grid_column": null,
            "grid_gap": null,
            "grid_row": null,
            "grid_template_areas": null,
            "grid_template_columns": null,
            "grid_template_rows": null,
            "height": null,
            "justify_content": null,
            "justify_items": null,
            "left": null,
            "margin": null,
            "max_height": null,
            "max_width": null,
            "min_height": null,
            "min_width": null,
            "object_fit": null,
            "object_position": null,
            "order": null,
            "overflow": null,
            "overflow_x": null,
            "overflow_y": null,
            "padding": null,
            "right": null,
            "top": null,
            "visibility": null,
            "width": null
          }
        },
        "5846328eab9e4145bd5a3d13f38c7abb": {
          "model_module": "@jupyter-widgets/controls",
          "model_name": "DescriptionStyleModel",
          "model_module_version": "1.5.0",
          "state": {
            "_model_module": "@jupyter-widgets/controls",
            "_model_module_version": "1.5.0",
            "_model_name": "DescriptionStyleModel",
            "_view_count": null,
            "_view_module": "@jupyter-widgets/base",
            "_view_module_version": "1.2.0",
            "_view_name": "StyleView",
            "description_width": ""
          }
        }
      }
    }
  },
  "cells": [
    {
      "cell_type": "markdown",
      "metadata": {
        "id": "view-in-github",
        "colab_type": "text"
      },
      "source": [
        "<a href=\"https://colab.research.google.com/github/mcnica89/DATA6100_F23/blob/main/NeuralNetworks/MNIST_example_with_blanks.ipynb\" target=\"_parent\"><img src=\"https://colab.research.google.com/assets/colab-badge.svg\" alt=\"Open In Colab\"/></a>"
      ]
    },
    {
      "cell_type": "code",
      "execution_count": null,
      "metadata": {
        "id": "LNfZROG9zPm7"
      },
      "outputs": [],
      "source": [
        "import jax.numpy as jnp\n",
        "import jax\n",
        "import time"
      ]
    },
    {
      "cell_type": "markdown",
      "source": [
        "# What is this?\n",
        "\n",
        "This notebook is based on the JAX training for MNIST and builds up a simple fully connected neural network (aka Multi-Layer-Perceptron MLP) starting from ordinary linear regression, and then logistic regression to build up the intuition for how it works."
      ],
      "metadata": {
        "id": "nsxY_7yJJcMr"
      }
    },
    {
      "cell_type": "markdown",
      "source": [
        "#Load MNIST Dataset"
      ],
      "metadata": {
        "id": "oHR-WD5EzTPr"
      }
    },
    {
      "cell_type": "code",
      "source": [
        "import numpy as np\n",
        "from torch.utils import data\n",
        "from torchvision.datasets import MNIST\n",
        "\n",
        "def numpy_collate(batch):\n",
        "  if isinstance(batch[0], np.ndarray):\n",
        "    return np.stack(batch)\n",
        "  elif isinstance(batch[0], (tuple,list)):\n",
        "    transposed = zip(*batch)\n",
        "    return [numpy_collate(samples) for samples in transposed]\n",
        "  else:\n",
        "    return np.array(batch)\n",
        "\n",
        "class NumpyLoader(data.DataLoader):\n",
        "  def __init__(self, dataset, batch_size=1,\n",
        "                shuffle=False, sampler=None,\n",
        "                batch_sampler=None, num_workers=0,\n",
        "                pin_memory=False, drop_last=False,\n",
        "                timeout=0, worker_init_fn=None):\n",
        "    super(self.__class__, self).__init__(dataset,\n",
        "        batch_size=batch_size,\n",
        "        shuffle=shuffle,\n",
        "        sampler=sampler,\n",
        "        batch_sampler=batch_sampler,\n",
        "        num_workers=num_workers,\n",
        "        collate_fn=numpy_collate,\n",
        "        pin_memory=pin_memory,\n",
        "        drop_last=drop_last,\n",
        "        timeout=timeout,\n",
        "        worker_init_fn=worker_init_fn)\n",
        "\n",
        "class FlattenAndCast(object):\n",
        "  def __call__(self, pic):\n",
        "    return np.ravel(np.array(pic, dtype=jnp.float32))"
      ],
      "metadata": {
        "id": "OgjfkTrZzURp"
      },
      "execution_count": null,
      "outputs": []
    },
    {
      "cell_type": "code",
      "source": [
        "# Define our dataset, using torch datasets\n",
        "mnist_dataset = MNIST('/tmp/mnist/', download=True, transform=FlattenAndCast())\n",
        "\n",
        "batch_size = 128\n",
        "training_generator = NumpyLoader(mnist_dataset, batch_size=batch_size, num_workers=0)"
      ],
      "metadata": {
        "colab": {
          "base_uri": "https://localhost:8080/",
          "height": 423,
          "referenced_widgets": [
            "20b7205d0c994b8d875e71c61755dfc6",
            "87908ba625404a4f924f3f3236f23666",
            "476694571f184dd385d8aa6c878d0744",
            "9bd69cdac72c49acaa7db2a680823676",
            "e4024d4f89e54f1dbf1764de6258023c",
            "adcdb9a975694127bfd49c53782a551b",
            "1ca0120e022f45969c5d0738efb15876",
            "2985f461a142478d9ad2717a7db89371",
            "6d8b9a1ff509427f8c3654c8640a1c90",
            "ca53ae4a54294b53b79ba3ccab30801e",
            "2deeac1d6852461ab0baa88c03c22a64",
            "0f287739a0094e85a5933aad4350903f",
            "ccaa37e511b644bc8f13c5e6a34ee525",
            "4be82fff0a2e4abe841664d48f50043e",
            "9246a5c92dd64d628621f188309700f9",
            "15e8eae764a84d55a30110b160b7f5c1",
            "626877f384fd4b539afec7691e77f655",
            "79e5a04bcccc4baba62c7172898d4058",
            "95b92b03c5fc4c94b4c8e217671b33db",
            "78550db49ff248d080e3efca5f4ca97a",
            "c4b3d1968430485caa78f3cf7486300b",
            "a6f4110a3ee04c578b0f7ed2948384a0",
            "360b3173dcb641018092e4a1721cf0a7",
            "6073d7a0e92447129c2799fbb9b79bd5",
            "60e3be0068a5406d8202de7081ecd25f",
            "9990be89773640c2887267f3a12ac5be",
            "8a99093ad1774e42a5107fdc2913e29a",
            "5d74372335a64a7590310985ed3953eb",
            "3a0298fe3e5844f1ab0a8f4a7d292fec",
            "32e486c256454b53a9649153b0cfc906",
            "e3e3f642b08e470e870a19c314ceedc3",
            "7b3794890ac94ddd8e8ea03f5c7e5272",
            "6b3ad2cfbc0844bda740f58548e4d657",
            "e153304998e7444990e0e4356e8bd9eb",
            "57a2e1d1255c46f4ae8cb5cde4ec147a",
            "07de95de48444c888c29b96309312024",
            "ba5e8a174ce144b2b39ee8c9c0ecd362",
            "89631ab6c95c45ae9ec731435b51bcc7",
            "f7694ee8b72042c1b3dd57b8ed039b21",
            "cf0fce6d7fa1434da1f27708565c6831",
            "f9b87ef4bff74a84be8776e19ad07b44",
            "786dd41871a3491babe4b560357687ec",
            "3dc25af5f65040b6857bf92f5c612dd6",
            "5846328eab9e4145bd5a3d13f38c7abb"
          ]
        },
        "id": "0VXN-pqFzWY5",
        "outputId": "1bfabe3e-aa65-47f1-e743-9f90ae9aac49"
      },
      "execution_count": null,
      "outputs": [
        {
          "output_type": "stream",
          "name": "stdout",
          "text": [
            "Downloading http://yann.lecun.com/exdb/mnist/train-images-idx3-ubyte.gz\n",
            "Downloading http://yann.lecun.com/exdb/mnist/train-images-idx3-ubyte.gz to /tmp/mnist/MNIST/raw/train-images-idx3-ubyte.gz\n"
          ]
        },
        {
          "output_type": "display_data",
          "data": {
            "text/plain": [
              "  0%|          | 0/9912422 [00:00<?, ?it/s]"
            ],
            "application/vnd.jupyter.widget-view+json": {
              "version_major": 2,
              "version_minor": 0,
              "model_id": "20b7205d0c994b8d875e71c61755dfc6"
            }
          },
          "metadata": {}
        },
        {
          "output_type": "stream",
          "name": "stdout",
          "text": [
            "Extracting /tmp/mnist/MNIST/raw/train-images-idx3-ubyte.gz to /tmp/mnist/MNIST/raw\n",
            "\n",
            "Downloading http://yann.lecun.com/exdb/mnist/train-labels-idx1-ubyte.gz\n",
            "Downloading http://yann.lecun.com/exdb/mnist/train-labels-idx1-ubyte.gz to /tmp/mnist/MNIST/raw/train-labels-idx1-ubyte.gz\n"
          ]
        },
        {
          "output_type": "display_data",
          "data": {
            "text/plain": [
              "  0%|          | 0/28881 [00:00<?, ?it/s]"
            ],
            "application/vnd.jupyter.widget-view+json": {
              "version_major": 2,
              "version_minor": 0,
              "model_id": "0f287739a0094e85a5933aad4350903f"
            }
          },
          "metadata": {}
        },
        {
          "output_type": "stream",
          "name": "stdout",
          "text": [
            "Extracting /tmp/mnist/MNIST/raw/train-labels-idx1-ubyte.gz to /tmp/mnist/MNIST/raw\n",
            "\n",
            "Downloading http://yann.lecun.com/exdb/mnist/t10k-images-idx3-ubyte.gz\n",
            "Downloading http://yann.lecun.com/exdb/mnist/t10k-images-idx3-ubyte.gz to /tmp/mnist/MNIST/raw/t10k-images-idx3-ubyte.gz\n"
          ]
        },
        {
          "output_type": "display_data",
          "data": {
            "text/plain": [
              "  0%|          | 0/1648877 [00:00<?, ?it/s]"
            ],
            "application/vnd.jupyter.widget-view+json": {
              "version_major": 2,
              "version_minor": 0,
              "model_id": "360b3173dcb641018092e4a1721cf0a7"
            }
          },
          "metadata": {}
        },
        {
          "output_type": "stream",
          "name": "stdout",
          "text": [
            "Extracting /tmp/mnist/MNIST/raw/t10k-images-idx3-ubyte.gz to /tmp/mnist/MNIST/raw\n",
            "\n",
            "Downloading http://yann.lecun.com/exdb/mnist/t10k-labels-idx1-ubyte.gz\n",
            "Downloading http://yann.lecun.com/exdb/mnist/t10k-labels-idx1-ubyte.gz to /tmp/mnist/MNIST/raw/t10k-labels-idx1-ubyte.gz\n"
          ]
        },
        {
          "output_type": "display_data",
          "data": {
            "text/plain": [
              "  0%|          | 0/4542 [00:00<?, ?it/s]"
            ],
            "application/vnd.jupyter.widget-view+json": {
              "version_major": 2,
              "version_minor": 0,
              "model_id": "e153304998e7444990e0e4356e8bd9eb"
            }
          },
          "metadata": {}
        },
        {
          "output_type": "stream",
          "name": "stdout",
          "text": [
            "Extracting /tmp/mnist/MNIST/raw/t10k-labels-idx1-ubyte.gz to /tmp/mnist/MNIST/raw\n",
            "\n"
          ]
        }
      ]
    },
    {
      "cell_type": "markdown",
      "source": [
        "## Train and test sets"
      ],
      "metadata": {
        "id": "ssHE6FWD0S_6"
      }
    },
    {
      "cell_type": "code",
      "source": [
        "# Get the full train dataset (for checking accuracy while training)\n",
        "train_images = np.array(mnist_dataset.train_data).reshape(len(mnist_dataset.train_data), -1)\n",
        "train_labels = np.array(mnist_dataset.train_labels)\n",
        "\n",
        "N_train = 10000\n",
        "train_images = train_images[0:N_train,:] #get a subset of the data\n",
        "train_labels = train_labels[0:N_train]\n",
        "\n",
        "\n",
        "# Get full test dataset\n",
        "mnist_dataset_test = MNIST('/tmp/mnist/', download=True, train=False)\n",
        "test_images = jnp.array(mnist_dataset_test.test_data.numpy().reshape(len(mnist_dataset_test.test_data), -1), dtype=jnp.float32)\n",
        "test_labels = np.array(mnist_dataset_test.test_labels)\n",
        "\n",
        "\n",
        "N_test = 10000\n",
        "test_images = test_images[0:N_test,:] #get a subset of the data\n",
        "test_labels = test_labels[0:N_test]"
      ],
      "metadata": {
        "colab": {
          "base_uri": "https://localhost:8080/"
        },
        "id": "gOzp3sSG0SLC",
        "outputId": "d5a8947b-ef4c-423b-d441-5bd0a09bf054"
      },
      "execution_count": null,
      "outputs": [
        {
          "output_type": "stream",
          "name": "stderr",
          "text": [
            "/usr/local/lib/python3.7/dist-packages/torchvision/datasets/mnist.py:75: UserWarning: train_data has been renamed data\n",
            "  warnings.warn(\"train_data has been renamed data\")\n",
            "/usr/local/lib/python3.7/dist-packages/torchvision/datasets/mnist.py:65: UserWarning: train_labels has been renamed targets\n",
            "  warnings.warn(\"train_labels has been renamed targets\")\n",
            "/usr/local/lib/python3.7/dist-packages/torchvision/datasets/mnist.py:80: UserWarning: test_data has been renamed data\n",
            "  warnings.warn(\"test_data has been renamed data\")\n",
            "WARNING:absl:No GPU/TPU found, falling back to CPU. (Set TF_CPP_MIN_LOG_LEVEL=0 and rerun for more info.)\n",
            "/usr/local/lib/python3.7/dist-packages/torchvision/datasets/mnist.py:70: UserWarning: test_labels has been renamed targets\n",
            "  warnings.warn(\"test_labels has been renamed targets\")\n"
          ]
        }
      ]
    },
    {
      "cell_type": "markdown",
      "source": [
        "## Plotting examples of MNIST dataset"
      ],
      "metadata": {
        "id": "XMDSWF3Vz7KU"
      }
    },
    {
      "cell_type": "code",
      "source": [
        "import matplotlib.pyplot as plt\n",
        "\n",
        "def plot_MNIST_train_examples(my_labels,n_grid = 2):\n",
        "  figure = plt.figure(figsize=(12, 10))\n",
        "\n",
        "  #plotting images from the training set\n",
        "  for i in range(1, n_grid**2 + 1):\n",
        "    plt.subplot(n_grid, n_grid, i)\n",
        "    plt.subplots_adjust(hspace =.5, wspace=.5)\n",
        "    plt.title(f\"Label: {my_labels[i]}\")\n",
        "\n",
        "    img = train_images[i].reshape((28,28))\n",
        "    plt.imshow(img, cmap='gray')\n",
        "\n",
        "plot_MNIST_train_examples(train_labels)"
      ],
      "metadata": {
        "colab": {
          "base_uri": "https://localhost:8080/",
          "height": 607
        },
        "id": "UI4qtFEy0Cwe",
        "outputId": "1ecddd22-0f5e-4a81-8422-9ab6c8ac1ec7"
      },
      "execution_count": null,
      "outputs": [
        {
          "output_type": "display_data",
          "data": {
            "text/plain": [
              "<Figure size 864x720 with 4 Axes>"
            ],
            "image/png": "[encoded data removed]"
          },
          "metadata": {
            "needs_background": "light"
          }
        }
      ]
    },
    {
      "cell_type": "markdown",
      "source": [
        "# Linear Regression (LinR)"
      ],
      "metadata": {
        "id": "2-BF50plCN22"
      }
    },
    {
      "cell_type": "markdown",
      "source": [
        "We think of linear regression as a [784 by 1] graph."
      ],
      "metadata": {
        "id": "F2nadKleQ_Iq"
      }
    },
    {
      "cell_type": "markdown",
      "source": [
        "## Generate random starting paramaters"
      ],
      "metadata": {
        "id": "66l6vdsxChhc"
      }
    },
    {
      "cell_type": "code",
      "source": [
        "# A helper function to randomly initialize weights and biases\n",
        "# for a dense neural network layer\n",
        "def random_layer_params(m, n, key, scale=1e-2):\n",
        "  w_key, b_key = jax.random.split(key)\n",
        "  return scale * jax.random.normal(w_key, (n, m)), scale * jax.random.normal(b_key, (n,))\n",
        "\n",
        "# Initialize all layers for a fully-connected neural network with sizes \"sizes\"\n",
        "def init_network_params(sizes, key):\n",
        "  keys = jax.random.split(key, len(sizes))\n",
        "  return [random_layer_params(m, n, k) for m, n, k in zip(sizes[:-1], sizes[1:], keys)]\n",
        "\n",
        "key = jax.random.PRNGKey(int(time.time()))"
      ],
      "metadata": {
        "id": "00FQd9PfCUFV"
      },
      "execution_count": null,
      "outputs": []
    },
    {
      "cell_type": "code",
      "source": [
        "layer_sizes = [784, 1]\n",
        "params = init_network_params(layer_sizes, key)"
      ],
      "metadata": {
        "id": "IToNl2D1J0TY"
      },
      "execution_count": null,
      "outputs": []
    },
    {
      "cell_type": "markdown",
      "source": [
        "## Create our function and our loss function"
      ],
      "metadata": {
        "id": "ixcFfsRLCloQ"
      }
    },
    {
      "cell_type": "code",
      "source": [
        "layer_sizes = [784, 1]\n",
        "params = init_network_params(layer_sizes, key)\n",
        "\n",
        "def LinR(params, image):\n",
        "  x = image\n",
        "  # first layer is feedforward\n",
        "  w, b = params[0]\n",
        "\n",
        "  ##### FILL IN THE OUTPUT #####\n",
        "  LinR_Output = None ###????\n",
        "  ##############################\n",
        "  return LinR_Output\n",
        "\n",
        "print(\"Lin Reg on 1st training example:\")\n",
        "print(LinR(params,train_images[0]))"
      ],
      "metadata": {
        "colab": {
          "base_uri": "https://localhost:8080/",
          "height": 235
        },
        "id": "yC9jfSr3-zl4",
        "outputId": "d26d467d-448d-4f5d-db1e-ce3ad96012a4"
      },
      "execution_count": null,
      "outputs": [
        {
          "output_type": "error",
          "ename": "NameError",
          "evalue": "ignored",
          "traceback": [
            "\u001b[0;31m---------------------------------------------------------------------------\u001b[0m",
            "\u001b[0;31mNameError\u001b[0m                                 Traceback (most recent call last)",
            "\u001b[0;32m<ipython-input-1-d3ab337b58aa>\u001b[0m in \u001b[0;36m<module>\u001b[0;34m\u001b[0m\n\u001b[1;32m      1\u001b[0m \u001b[0mlayer_sizes\u001b[0m \u001b[0;34m=\u001b[0m \u001b[0;34m[\u001b[0m\u001b[0;36m784\u001b[0m\u001b[0;34m,\u001b[0m \u001b[0;36m1\u001b[0m\u001b[0;34m]\u001b[0m\u001b[0;34m\u001b[0m\u001b[0;34m\u001b[0m\u001b[0m\n\u001b[0;32m----> 2\u001b[0;31m \u001b[0mparams\u001b[0m \u001b[0;34m=\u001b[0m \u001b[0minit_network_params\u001b[0m\u001b[0;34m(\u001b[0m\u001b[0mlayer_sizes\u001b[0m\u001b[0;34m,\u001b[0m \u001b[0mkey\u001b[0m\u001b[0;34m)\u001b[0m\u001b[0;34m\u001b[0m\u001b[0;34m\u001b[0m\u001b[0m\n\u001b[0m\u001b[1;32m      3\u001b[0m \u001b[0;34m\u001b[0m\u001b[0m\n\u001b[1;32m      4\u001b[0m \u001b[0;32mdef\u001b[0m \u001b[0mLinR\u001b[0m\u001b[0;34m(\u001b[0m\u001b[0mparams\u001b[0m\u001b[0;34m,\u001b[0m \u001b[0mimage\u001b[0m\u001b[0;34m)\u001b[0m\u001b[0;34m:\u001b[0m\u001b[0;34m\u001b[0m\u001b[0;34m\u001b[0m\u001b[0m\n\u001b[1;32m      5\u001b[0m   \u001b[0mx\u001b[0m \u001b[0;34m=\u001b[0m \u001b[0mimage\u001b[0m\u001b[0;34m\u001b[0m\u001b[0;34m\u001b[0m\u001b[0m\n",
            "\u001b[0;31mNameError\u001b[0m: name 'init_network_params' is not defined"
          ]
        }
      ]
    },
    {
      "cell_type": "code",
      "source": [
        "\n",
        "#### FILL IN#####\n",
        "#### Make a version of LinR that runs on multple inputs at once ###\n",
        "#### Hint: Use the magic of JAX!\n",
        "batched_LinR = None ###???\n",
        "################\n",
        "\n",
        "print(\"Lin Reg on all training example:\")\n",
        "print(batched_LinR(params,train_images))"
      ],
      "metadata": {
        "colab": {
          "base_uri": "https://localhost:8080/"
        },
        "id": "opcwn7xMR6zu",
        "outputId": "ddbce2df-f852-4612-96f7-5d670f3eb04e"
      },
      "execution_count": null,
      "outputs": [
        {
          "output_type": "stream",
          "name": "stdout",
          "text": [
            "Lin Reg on all training example:\n",
            "[-42.779404  -4.456925 -18.47557  ... -44.909374  -6.43832  -36.09259 ]\n"
          ]
        }
      ]
    },
    {
      "cell_type": "code",
      "source": [
        "def MSE_loss_for_LinR(params,images,target):\n",
        "  preds = batched_LinR(params, images)\n",
        "\n",
        "  ### FILL IN THE FORMULA FOR THE MSE\n",
        "  MSE = None ###\n",
        "\n",
        "  return MSE\n",
        "\n",
        "print(\"MSE loss of LinR on training set:\")\n",
        "print(MSE_loss_for_LinR(params,train_images,train_labels))"
      ],
      "metadata": {
        "colab": {
          "base_uri": "https://localhost:8080/"
        },
        "id": "i_N_v1QVR9v2",
        "outputId": "582b1292-9fc2-4a13-d1ee-d10255ac8a18"
      },
      "execution_count": null,
      "outputs": [
        {
          "output_type": "stream",
          "name": "stdout",
          "text": [
            "MSE loss of LinR on training set:\n",
            "1306.6664\n"
          ]
        }
      ]
    },
    {
      "cell_type": "markdown",
      "source": [
        "# Training loop using gradient descent"
      ],
      "metadata": {
        "id": "Jk7mrlrbEXbh"
      }
    },
    {
      "cell_type": "markdown",
      "source": [
        "Here we will repeatedely update the \"params\" by using gradient descent"
      ],
      "metadata": {
        "id": "ni2dyKDMGFEW"
      }
    },
    {
      "cell_type": "code",
      "source": [
        "import time\n",
        "\n",
        "def training_loop(loss_func, acc_func=None, num_epochs = 2, step_size = 0.01):\n",
        "  global params\n",
        "  saved_results = []\n",
        "  for epoch in range(1,num_epochs+1):\n",
        "\n",
        "      #Update the weights by gradient descent!\n",
        "      start_time = time.time()\n",
        "      for x, y in training_generator:\n",
        "          # This loop will create mini-batches of (x,y) paris to train on\n",
        "          # The batch size is set as part of the training generator\n",
        "          # Running through all the examples is called an ''epoch''\n",
        "\n",
        "          ### FILL IN THE FORMULA FOR THE GRADIENT\n",
        "          ### Hint: Use JAX magic!!\n",
        "          grads = None ###\n",
        "\n",
        "          #FILL IN THE FORMULA FOR THE W and B UPDATES IN TERMS OF THE PARAMS\n",
        "          params = [( \"w update formula\" , \"b update formula\")\n",
        "                    for (w, b), (dw, db) in zip(params, grads)]\n",
        "\n",
        "      #### A bunch of bookeeping here to print and record the infrmation ####\n",
        "      #Print and record stats of this epoch\n",
        "      if acc_func != None:\n",
        "        train_acc = acc_func(params, train_images, train_labels)\n",
        "        test_acc = acc_func(params, test_images, test_labels)\n",
        "\n",
        "      train_CE_loss = loss_func(params, train_images, train_labels)\n",
        "      test_CE_loss = loss_func(params, test_images, test_labels)\n",
        "\n",
        "      results_dict = {'epoch': epoch,\n",
        "              'train_loss': np.copy(train_CE_loss).item(),\n",
        "              'test_loss': np.copy(test_CE_loss).item(),\n",
        "              }\n",
        "\n",
        "      if acc_func != None:\n",
        "        results_dict['train_acc'] = np.copy(train_acc).item()\n",
        "        results_dict['test_acc'] = np.copy(test_acc).item()\n",
        "\n",
        "      saved_results += [results_dict]\n",
        "\n",
        "      epoch_time = time.time() - start_time\n",
        "      print(f\"---Epoch {epoch} in {epoch_time:0.2f} sec---\")\n",
        "      if acc_func != None:\n",
        "        print(f\"  Train  acc: {train_acc:0.4f}\")\n",
        "        print(f\"  Test   acc: {test_acc:0.4f}\")\n",
        "      print(f\"  Train loss: {train_CE_loss:0.4f}\")\n",
        "      print(f\"  Test  loss: {test_CE_loss:0.4f}\")\n",
        "\n",
        "\n",
        "  return saved_results"
      ],
      "metadata": {
        "id": "3W91M7zQ3Mm1"
      },
      "execution_count": null,
      "outputs": []
    },
    {
      "cell_type": "code",
      "source": [
        "#Train the network!\n",
        "layer_sizes = [784, 1]\n",
        "params = init_network_params(layer_sizes, key)\n",
        "training_loop(MSE_loss_for_LinR,num_epochs=2,step_size = 0.00000001)"
      ],
      "metadata": {
        "colab": {
          "base_uri": "https://localhost:8080/"
        },
        "id": "HPEM-3UrEZ3t",
        "outputId": "68d12b74-0c30-4540-95cf-1908c447aa20"
      },
      "execution_count": null,
      "outputs": [
        {
          "output_type": "stream",
          "name": "stdout",
          "text": [
            "---Epoch 1 in 11.37 sec---\n",
            "  Train loss: 135.5835\n",
            "  Test  loss: 132.3933\n",
            "---Epoch 2 in 7.97 sec---\n",
            "  Train loss: 97.1953\n",
            "  Test  loss: 93.0130\n"
          ]
        },
        {
          "output_type": "execute_result",
          "data": {
            "text/plain": [
              "[{'epoch': 1,\n",
              "  'train_loss': 135.5835418701172,\n",
              "  'test_loss': 132.39334106445312},\n",
              " {'epoch': 2, 'train_loss': 97.1952896118164, 'test_loss': 93.01299285888672}]"
            ]
          },
          "metadata": {},
          "execution_count": 12
        }
      ]
    },
    {
      "cell_type": "code",
      "source": [
        "LinR_labels = batched_LinR(params, train_images)\n",
        "plot_MNIST_train_examples(LinR_labels)"
      ],
      "metadata": {
        "colab": {
          "base_uri": "https://localhost:8080/",
          "height": 607
        },
        "id": "UU10kTlxGfAb",
        "outputId": "bed54aa7-e69c-41c0-99f0-8d5ad2302c99"
      },
      "execution_count": null,
      "outputs": [
        {
          "output_type": "display_data",
          "data": {
            "text/plain": [
              "<Figure size 864x720 with 4 Axes>"
            ],
            "image/png": "[encoded data removed]"
          },
          "metadata": {
            "needs_background": "light"
          }
        }
      ]
    },
    {
      "cell_type": "markdown",
      "source": [
        "# Non-linear but still regression (NonLinR)"
      ],
      "metadata": {
        "id": "Li9R5qoXHIy-"
      }
    },
    {
      "cell_type": "code",
      "source": [
        "layer_sizes = [784, 1]\n",
        "params = init_network_params(layer_sizes, key)\n",
        "\n",
        "def sigmoid(x):\n",
        "  #Fill in the sigmoid function to \"crunch down\" (-\\infty, \\infty) to (0,9)\n",
        "  return None\n",
        "\n",
        "\n",
        "def NonLinR(params, image):\n",
        "  x = image\n",
        "  # first layer is feedforward\n",
        "  w, b = params[0]\n",
        "\n",
        "  #### FILL IN A VERSION\n",
        "  output_between_0_and_9 = None\n",
        "  ####\n",
        "\n",
        "  return output_between_0_and_9 ###\n",
        "\n",
        "\n",
        "print(\"NonLinR on a single example:\")\n",
        "print(NonLinR(params,train_images[0]))\n",
        "\n",
        "batched_NonLinR = jax.vmap(NonLinR, in_axes=(None, 0))\n",
        "print(\"NonLinR on a all examples:\")\n",
        "print(batched_NonLinR(params,train_images))\n",
        "\n",
        "def MSE_loss_for_NonLinR(params,images,target):\n",
        "  preds = batched_NonLinR(params, images)\n",
        "  return jnp.mean( (preds - target)**2 )\n",
        "\n",
        "print(\"MSE of train set for NonLin R\")\n",
        "print(MSE_loss_for_NonLinR(params,train_images,train_labels))"
      ],
      "metadata": {
        "colab": {
          "base_uri": "https://localhost:8080/"
        },
        "id": "PJMPvRjtG4gj",
        "outputId": "d39afd54-8b3d-4a32-df1b-ac95d33b3759"
      },
      "execution_count": null,
      "outputs": [
        {
          "output_type": "stream",
          "name": "stdout",
          "text": [
            "NonLinR on a single example:\n",
            "2.373469e-18\n",
            "NonLinR on a all examples:\n",
            "[2.3734690e-18 1.0318501e-01 8.5193037e-08 ... 2.8206494e-19 1.4368839e-02\n",
            " 1.9029601e-15]\n",
            "MSE of train set for NonLin R\n",
            "26.856949\n"
          ]
        }
      ]
    },
    {
      "cell_type": "code",
      "source": [
        "layer_sizes = [784, 1]\n",
        "params = init_network_params(layer_sizes, key)\n",
        "training_loop(MSE_loss_for_NonLinR,step_size = 0.000001)"
      ],
      "metadata": {
        "colab": {
          "base_uri": "https://localhost:8080/"
        },
        "id": "SDXrVUdNH86q",
        "outputId": "df5839a7-76b3-42ad-cb8a-ecfbb0b07d79"
      },
      "execution_count": null,
      "outputs": [
        {
          "output_type": "stream",
          "name": "stdout",
          "text": [
            "---Epoch 1 in 10.71 sec---\n",
            "  Train loss: 12.8182\n",
            "  Test  loss: 12.1788\n",
            "---Epoch 2 in 10.02 sec---\n",
            "  Train loss: 11.0434\n",
            "  Test  loss: 10.6778\n"
          ]
        },
        {
          "output_type": "execute_result",
          "data": {
            "text/plain": [
              "[{'epoch': 1,\n",
              "  'train_loss': 12.818190574645996,\n",
              "  'test_loss': 12.178780555725098},\n",
              " {'epoch': 2,\n",
              "  'train_loss': 11.043429374694824,\n",
              "  'test_loss': 10.67780876159668}]"
            ]
          },
          "metadata": {},
          "execution_count": 15
        }
      ]
    },
    {
      "cell_type": "code",
      "source": [
        "NonLinR_labels = batched_NonLinR(params, train_images)\n",
        "plot_MNIST_train_examples(NonLinR_labels)"
      ],
      "metadata": {
        "colab": {
          "base_uri": "https://localhost:8080/",
          "height": 607
        },
        "id": "y0UGjjkrJaxd",
        "outputId": "391a2d08-1b4e-42e5-bcf3-577d5cafa9c3"
      },
      "execution_count": null,
      "outputs": [
        {
          "output_type": "display_data",
          "data": {
            "text/plain": [
              "<Figure size 864x720 with 4 Axes>"
            ],
            "image/png": "[encoded data removed]"
          },
          "metadata": {
            "needs_background": "light"
          }
        }
      ]
    },
    {
      "cell_type": "markdown",
      "source": [
        "# Logisitic Regression (LogiR)"
      ],
      "metadata": {
        "id": "-9KCJv8tG18o"
      }
    },
    {
      "cell_type": "code",
      "source": [
        "#Initialize Parameters\n",
        "\n",
        "#Fill in the SIZE of the output layer for logisitic regression\n",
        "#Hint: How does logistic regression translate between output\n",
        "# and the class probabilities when there are more than 2 classes?\n",
        "output_size = None\n",
        "layer_sizes = [784, output_size]\n",
        "params = init_network_params(layer_sizes, key)\n",
        "\n",
        "def sigmoid(x):\n",
        "  return jnp.exp(x)/(1+jnp.exp(x))\n",
        "\n",
        "def LogiR_logP(params, image):\n",
        "  x = image\n",
        "  # first layer is feedforward\n",
        "  w, b = params[0]\n",
        "\n",
        "  ##### Fill in the formula for the logits\n",
        "  logits = None\n",
        "\n",
        "  #This just makes it so that the logits are not too big\n",
        "  # (Big logits can cause numerical issues like nan to appear)\n",
        "  logits_max_zero = logits - jnp.max(logits)\n",
        "\n",
        "  #### Fill in the formula to get the log(probability) using the logits\n",
        "  logP = None\n",
        "\n",
        "  return logP\n",
        "\n",
        "print(\"LogiR on one example:\")\n",
        "print(LogiR_logP(params, train_images[0]))\n",
        "\n",
        "batched_LogiR_logP = jax.vmap(LogiR_logP, in_axes=(None, 0))\n",
        "\n",
        "print(\"LogiR on all examples:\")\n",
        "print(batched_LogiR_logP(params, train_images))\n",
        "\n",
        "\n",
        "\n",
        "def CE_loss_for_LogiR(params,images,target):\n",
        "  preds = batched_LogiR_logP(params, images)\n",
        "\n",
        "  #Instead of a target being from 0 to 9, we need to convert this to a vector\n",
        "  # Fill in how to do it!\n",
        "  target_as_vector = None\n",
        "\n",
        "  #FILL IN THE FORMULA FOR CROSS ENTROPY LOSS\n",
        "  CE_loss = None\n",
        "\n",
        "  return CE_loss\n",
        "\n",
        "print(\"CE loss of LogiR on all example:\")\n",
        "print(CE_loss_for_LogiR(params,train_images,train_labels))"
      ],
      "metadata": {
        "colab": {
          "base_uri": "https://localhost:8080/"
        },
        "id": "fz-ke4QuIZhF",
        "outputId": "7db02da8-1ebb-4075-a95b-1c49b8d147ad"
      },
      "execution_count": null,
      "outputs": [
        {
          "output_type": "stream",
          "name": "stdout",
          "text": [
            "LogiR on one example:\n",
            "[-24.901382 -62.914238   0.       -20.9617   -26.477444 -95.15152\n",
            " -41.246334 -48.078487 -68.92207  -65.76706 ]\n",
            "LogiR on all examples:\n",
            "[[-24.901396   -62.914253     0.         ... -48.078506   -68.92209\n",
            "  -65.76707   ]\n",
            " [-89.63713    -92.17103    -21.78653    ... -45.962914   -91.0006\n",
            "  -73.108086  ]\n",
            " [ -6.4286156   -2.2328708  -10.15359    ...  -0.11768607  -6.1431417\n",
            "  -32.07563   ]\n",
            " ...\n",
            " [ -3.3975265  -30.151514   -26.50848    ... -13.721768   -71.722115\n",
            "  -67.79132   ]\n",
            " [ -9.473701   -21.997929    -8.660935   ...  -1.1280038   -6.975233\n",
            "   -9.59648   ]\n",
            " [-54.565536   -37.89062    -46.814037   ...  -7.2396     -34.04228\n",
            "  -42.529484  ]]\n",
            "CE loss of LogiR on all example:\n",
            "3.7324789\n"
          ]
        }
      ]
    },
    {
      "cell_type": "code",
      "source": [
        "layer_sizes = [784, 10]\n",
        "params = init_network_params(layer_sizes, key)\n",
        "\n",
        "def top1_acc_LogiR(params, images, target_class):\n",
        "  #Fill in how to get the prediction from the LogiR function\n",
        "  predicted_class = None\n",
        "  return jnp.mean(predicted_class == target_class)\n",
        "\n",
        "training_loop(CE_loss_for_LogiR,top1_acc_LogiR,num_epochs=2,step_size = 0.01)"
      ],
      "metadata": {
        "colab": {
          "base_uri": "https://localhost:8080/"
        },
        "id": "ittd8bU0LRo-",
        "outputId": "d8424cf8-ce4f-4f91-fda2-91a043d70629"
      },
      "execution_count": null,
      "outputs": [
        {
          "output_type": "stream",
          "name": "stdout",
          "text": [
            "---Epoch 1 in 10.69 sec---\n",
            "  Train  acc: 0.8501\n",
            "  Test   acc: 0.8411\n",
            "  Train loss: 2.1198\n",
            "  Test  loss: 2.3387\n",
            "---Epoch 2 in 9.64 sec---\n",
            "  Train  acc: 0.8817\n",
            "  Test   acc: 0.8818\n",
            "  Train loss: 1.1986\n",
            "  Test  loss: 1.2464\n"
          ]
        },
        {
          "output_type": "execute_result",
          "data": {
            "text/plain": [
              "[{'epoch': 1,\n",
              "  'train_loss': 2.1197545528411865,\n",
              "  'test_loss': 2.3387084007263184,\n",
              "  'train_acc': 0.8500999808311462,\n",
              "  'test_acc': 0.8410999774932861},\n",
              " {'epoch': 2,\n",
              "  'train_loss': 1.1985687017440796,\n",
              "  'test_loss': 1.2463773488998413,\n",
              "  'train_acc': 0.8816999793052673,\n",
              "  'test_acc': 0.8817999958992004}]"
            ]
          },
          "metadata": {},
          "execution_count": 18
        }
      ]
    },
    {
      "cell_type": "code",
      "source": [
        "LogiR_labels = batched_LogiR_logP(params, train_images)\n",
        "plot_MNIST_train_examples(jnp.argmax(LogiR_labels,axis=1))"
      ],
      "metadata": {
        "colab": {
          "base_uri": "https://localhost:8080/",
          "height": 607
        },
        "id": "n4qPAQVGOTiY",
        "outputId": "bf21e831-b54a-431d-fae4-2355791e6e9e"
      },
      "execution_count": null,
      "outputs": [
        {
          "output_type": "display_data",
          "data": {
            "text/plain": [
              "<Figure size 864x720 with 4 Axes>"
            ],
            "image/png": "[encoded data removed]"
          },
          "metadata": {
            "needs_background": "light"
          }
        }
      ]
    },
    {
      "cell_type": "markdown",
      "source": [
        "## Multi-layer perceptron with cross entropy loss (MLP)"
      ],
      "metadata": {
        "id": "1Drx_x3x1GPE"
      }
    },
    {
      "cell_type": "code",
      "source": [
        "#Lets start by making a MLP (aka \"a fully connected nerual network\")\n",
        "# with one hidden layer\n",
        "# FILL IN what layer_sizes should be here\n",
        "layer_sizes = None\n",
        "\n",
        "\n",
        "params = init_network_params(layer_sizes, key)\n",
        "\n",
        "# rectified linear unit activation function\n",
        "def relu(x):\n",
        "  #We will use the rele non-liearity for our nerual network\n",
        "  return None #\n",
        "\n",
        "\n",
        "def MLP_logP(params, image):\n",
        "    # per-example predictions\n",
        "    # Returns the log probability of each class\n",
        "\n",
        "    x = image\n",
        "    # first layer is feedforward\n",
        "    w, b = params[0]\n",
        "\n",
        "    #Fill in the formula for the first layer\n",
        "    x = None\n",
        "    x_transformed = None #Apply a non-linear transformation to x\n",
        "\n",
        "    for w, b in params[1:-1]: #This loops through all the hidden layers\n",
        "        # Fill in the formula to be applied at all the hidden layers\n",
        "        x = None\n",
        "        x_transformed = None\n",
        "\n",
        "    final_w, final_b = params[-1]  #This is the last layer\n",
        "    #Fill in the formula for the logits\n",
        "    logits = None\n",
        "    logits_max_zero = logits - jnp.max(logits)\n",
        "\n",
        "    #Fill in the formula for the log(prob) using the logits\n",
        "    logP = None\n",
        "\n",
        "    return logP\n",
        "\n",
        "print(\"MLP logP on a single examples\")\n",
        "print(MLP_logP(params, train_images[0]))"
      ],
      "metadata": {
        "colab": {
          "base_uri": "https://localhost:8080/"
        },
        "id": "PsjwYhFT1OGJ",
        "outputId": "0dc07d07-5dc1-4f4a-a3b7-363f89053824"
      },
      "execution_count": null,
      "outputs": [
        {
          "output_type": "stream",
          "name": "stdout",
          "text": [
            "MLP logP on a single examples\n",
            "[-14.982776   -0.3782405 -15.621546  -13.7279215  -4.9733896 -13.424351\n",
            " -20.063177   -2.2887373  -1.5889996  -5.9964747]\n"
          ]
        }
      ]
    },
    {
      "cell_type": "code",
      "source": [
        "# Let's upgrade it to handle batches using `vmap`\n",
        "\n",
        "# Make a batched version of the `predict` function\n",
        "batched_MLP_logP = jax.vmap(MLP_logP, in_axes=(None, 0))\n",
        "\n",
        "# `batched_predict` has the same call signature as `predict`\n",
        "print(\"MLP logP on all examples\")\n",
        "batched_preds = batched_MLP_logP(params, train_images)\n",
        "print(batched_preds)"
      ],
      "metadata": {
        "colab": {
          "base_uri": "https://localhost:8080/"
        },
        "id": "6kyzCmn02Uc9",
        "outputId": "09cbbdda-2ff9-4d35-cd1e-472a34c63d60"
      },
      "execution_count": null,
      "outputs": [
        {
          "output_type": "stream",
          "name": "stdout",
          "text": [
            "MLP logP on all examples\n",
            "[[-1.49827719e+01 -3.78241450e-01 -1.56215448e+01 ... -2.28873634e+00\n",
            "  -1.58899677e+00 -5.99647713e+00]\n",
            " [-2.22175350e+01 -5.48569489e+00 -1.45736256e+01 ... -7.94642512e-03\n",
            "  -9.85297394e+00 -5.59515381e+00]\n",
            " [-4.07513952e+00 -4.65694427e+00 -1.55901327e+01 ... -9.54575920e+00\n",
            "  -3.59039158e-02 -8.66181278e+00]\n",
            " ...\n",
            " [-2.40175557e+00 -6.19331181e-01 -1.66161785e+01 ... -7.82844400e+00\n",
            "  -1.40210748e+00 -3.89843607e+00]\n",
            " [-1.23611546e+00 -7.32741785e+00 -1.40732861e+01 ... -1.43470745e+01\n",
            "  -1.06515627e+01 -4.08330154e+00]\n",
            " [-6.15037870e+00 -8.16275406e+00 -1.72831287e+01 ... -5.54770380e-02\n",
            "  -9.91180038e+00 -3.29676580e+00]]\n"
          ]
        }
      ]
    },
    {
      "cell_type": "markdown",
      "source": [
        "# Loss function"
      ],
      "metadata": {
        "id": "retfqCeV2j_j"
      }
    },
    {
      "cell_type": "code",
      "source": [
        "def CE_loss_for_MLP(params, images, target):\n",
        "  #This is exactly the same as for Logistic Regression!\n",
        "  preds = batched_MLP_logP(params, images)\n",
        "  target_one_hot = jax.nn.one_hot(target, 10)\n",
        "  return -jnp.mean(preds * target_one_hot)\n",
        "\n",
        "print(\"CE loss for the the MLP\")\n",
        "print(CE_loss_for_MLP(params, train_images, train_labels))\n"
      ],
      "metadata": {
        "colab": {
          "base_uri": "https://localhost:8080/"
        },
        "id": "WUyZ4zba2mJL",
        "outputId": "d2174a8a-b08d-4a32-c345-748a069ad1d6"
      },
      "execution_count": null,
      "outputs": [
        {
          "output_type": "stream",
          "name": "stdout",
          "text": [
            "CE loss for the the MLP\n",
            "1.03355\n"
          ]
        }
      ]
    },
    {
      "cell_type": "code",
      "source": [
        "layer_sizes = [784, 784, 10]\n",
        "params = init_network_params(layer_sizes, key)\n",
        "\n",
        "\n",
        "def top1_acc_MLP(params, images, target_class):\n",
        "  predicted_class = jnp.argmax(batched_MLP_logP(params, images), axis=1)\n",
        "  return jnp.mean(predicted_class == target_class)\n",
        "\n",
        "training_loop(CE_loss_for_MLP, top1_acc_MLP)"
      ],
      "metadata": {
        "colab": {
          "base_uri": "https://localhost:8080/"
        },
        "id": "BOSw5PabPMm1",
        "outputId": "42c2ea60-2643-4491-99b9-fec541997b2f"
      },
      "execution_count": null,
      "outputs": [
        {
          "output_type": "stream",
          "name": "stdout",
          "text": [
            "---Epoch 1 in 32.74 sec---\n",
            "  Train  acc: 0.9270\n",
            "  Test   acc: 0.9288\n",
            "  Train loss: 0.0246\n",
            "  Test  loss: 0.0240\n",
            "---Epoch 2 in 27.26 sec---\n",
            "  Train  acc: 0.9456\n",
            "  Test   acc: 0.9448\n",
            "  Train loss: 0.0183\n",
            "  Test  loss: 0.0185\n"
          ]
        },
        {
          "output_type": "execute_result",
          "data": {
            "text/plain": [
              "[{'epoch': 1,\n",
              "  'train_loss': 0.024588339030742645,\n",
              "  'test_loss': 0.023965951055288315,\n",
              "  'train_acc': 0.9269999861717224,\n",
              "  'test_acc': 0.9287999868392944},\n",
              " {'epoch': 2,\n",
              "  'train_loss': 0.018313348293304443,\n",
              "  'test_loss': 0.01852300763130188,\n",
              "  'train_acc': 0.9455999732017517,\n",
              "  'test_acc': 0.9447999596595764}]"
            ]
          },
          "metadata": {},
          "execution_count": 23
        }
      ]
    },
    {
      "cell_type": "code",
      "source": [
        "MLP_preds = batched_MLP_logP(params, train_images)\n",
        "MLP_labels = jnp.argmax(MLP_preds,axis=1)\n",
        "plot_MNIST_train_examples( MLP_labels)"
      ],
      "metadata": {
        "colab": {
          "base_uri": "https://localhost:8080/",
          "height": 607
        },
        "id": "-EWdPqNeQE2X",
        "outputId": "d5c0cf34-bd23-43c2-d359-5eefaf68852f"
      },
      "execution_count": null,
      "outputs": [
        {
          "output_type": "display_data",
          "data": {
            "text/plain": [
              "<Figure size 864x720 with 4 Axes>"
            ],
            "image/png": "[encoded data removed]"
          },
          "metadata": {
            "needs_background": "light"
          }
        }
      ]
    }
  ]
}