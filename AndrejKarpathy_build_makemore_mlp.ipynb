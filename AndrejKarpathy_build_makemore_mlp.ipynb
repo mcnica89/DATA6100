{
  "nbformat": 4,
  "nbformat_minor": 0,
  "metadata": {
    "colab": {
      "provenance": [],
      "include_colab_link": true
    },
    "kernelspec": {
      "name": "python3",
      "display_name": "Python 3"
    },
    "language_info": {
      "name": "python"
    }
  },
  "cells": [
    {
      "cell_type": "markdown",
      "metadata": {
        "id": "view-in-github",
        "colab_type": "text"
      },
      "source": [
        "<a href=\"https://colab.research.google.com/github/mcnica89/DATA6100_F23/blob/main/AndrejKarpathy_build_makemore_mlp.ipynb\" target=\"_parent\"><img src=\"https://colab.research.google.com/assets/colab-badge.svg\" alt=\"Open In Colab\"/></a>"
      ]
    },
    {
      "cell_type": "markdown",
      "source": [
        "#Makemore\n",
        "\n",
        "This is from Andrej Karpathy's series \"Neural Networks Zero to Hero\" which gives a super in depth introduction to using Neural Networks to solve the \"Make More\" problem. The full video explains this in detail:\n",
        "\n",
        "https://www.youtube.com/watch?v=TCH_1BHY58I&list=PLAqhIrjkxbuWI23v9cThsA9GvCAUhRvKZ&index=3\n",
        "\n",
        "Given a list of examples, can you generate new examples that are \"like\" those from the list?\n",
        "\n",
        "This is implemented here as a character level language model: given a list of words, can we generate new words similiar to the given list? This is used on a list of English baby names."
      ],
      "metadata": {
        "id": "LqwculFOkGjT"
      }
    },
    {
      "cell_type": "markdown",
      "source": [
        "# Import packages"
      ],
      "metadata": {
        "id": "FTSyzr3ulBuE"
      }
    },
    {
      "cell_type": "code",
      "execution_count": 1,
      "metadata": {
        "id": "vowXRstocd8F"
      },
      "outputs": [],
      "source": [
        "import torch\n",
        "import torch.nn.functional as F\n",
        "import matplotlib.pyplot as plt # for making figures\n",
        "from tqdm import tqdm\n",
        "import numpy as np\n",
        "%matplotlib inline"
      ]
    },
    {
      "cell_type": "markdown",
      "source": [
        "# Import the dataset to use"
      ],
      "metadata": {
        "id": "EiJaGCsglDQy"
      }
    },
    {
      "cell_type": "code",
      "source": [
        "# download the names.txt file from github\n",
        "!wget https://raw.githubusercontent.com/karpathy/makemore/master/names.txt"
      ],
      "metadata": {
        "colab": {
          "base_uri": "https://localhost:8080/"
        },
        "id": "9Rlc3YeWcm_d",
        "outputId": "7078d283-a87c-459c-9848-b663a9b69048"
      },
      "execution_count": 2,
      "outputs": [
        {
          "output_type": "stream",
          "name": "stdout",
          "text": [
            "--2023-11-24 21:20:17--  https://raw.githubusercontent.com/karpathy/makemore/master/names.txt\n",
            "Resolving raw.githubusercontent.com (raw.githubusercontent.com)... 185.199.110.133, 185.199.108.133, 185.199.109.133, ...\n",
            "Connecting to raw.githubusercontent.com (raw.githubusercontent.com)|185.199.110.133|:443... connected.\n",
            "HTTP request sent, awaiting response... 200 OK\n",
            "Length: 228145 (223K) [text/plain]\n",
            "Saving to: ‘names.txt.6’\n",
            "\n",
            "\rnames.txt.6           0%[                    ]       0  --.-KB/s               \rnames.txt.6         100%[===================>] 222.80K  --.-KB/s    in 0.04s   \n",
            "\n",
            "2023-11-24 21:20:18 (5.59 MB/s) - ‘names.txt.6’ saved [228145/228145]\n",
            "\n"
          ]
        }
      ]
    },
    {
      "cell_type": "code",
      "source": [
        "words = open('names.txt', 'r').read().splitlines()\n",
        "words[:8]"
      ],
      "metadata": {
        "colab": {
          "base_uri": "https://localhost:8080/"
        },
        "id": "uH2MGP4FcidR",
        "outputId": "3a20bae2-c034-42f3-fd2c-d9647c564c44"
      },
      "execution_count": 3,
      "outputs": [
        {
          "output_type": "execute_result",
          "data": {
            "text/plain": [
              "['emma', 'olivia', 'ava', 'isabella', 'sophia', 'charlotte', 'mia', 'amelia']"
            ]
          },
          "metadata": {},
          "execution_count": 3
        }
      ]
    },
    {
      "cell_type": "code",
      "source": [
        "len(words)"
      ],
      "metadata": {
        "colab": {
          "base_uri": "https://localhost:8080/"
        },
        "id": "FbakoEqAcvnF",
        "outputId": "2f05cfb6-d2fa-47e6-dccc-8579a51748df"
      },
      "execution_count": 4,
      "outputs": [
        {
          "output_type": "execute_result",
          "data": {
            "text/plain": [
              "32033"
            ]
          },
          "metadata": {},
          "execution_count": 4
        }
      ]
    },
    {
      "cell_type": "markdown",
      "source": [
        "## Turn the dataset into training examples\n",
        "\n",
        "We create a supervised learning set by trying to PREDICT the next letter, given the context of some of the previous letters."
      ],
      "metadata": {
        "id": "JS-zGtjGlGfQ"
      }
    },
    {
      "cell_type": "code",
      "source": [
        "# build the vocabulary of characters and mappings to/from integers\n",
        "chars = sorted(list(set(''.join(words))))\n",
        "stoi = {s:i+1 for i,s in enumerate(chars)}\n",
        "stoi['.'] = 0\n",
        "itos = {i:s for s,i in stoi.items()}\n",
        "print(itos)"
      ],
      "metadata": {
        "colab": {
          "base_uri": "https://localhost:8080/"
        },
        "id": "EYnXhmWVcx-l",
        "outputId": "59b1c086-a9a5-4817-b1e8-1af7d923d4df"
      },
      "execution_count": 5,
      "outputs": [
        {
          "output_type": "stream",
          "name": "stdout",
          "text": [
            "{1: 'a', 2: 'b', 3: 'c', 4: 'd', 5: 'e', 6: 'f', 7: 'g', 8: 'h', 9: 'i', 10: 'j', 11: 'k', 12: 'l', 13: 'm', 14: 'n', 15: 'o', 16: 'p', 17: 'q', 18: 'r', 19: 's', 20: 't', 21: 'u', 22: 'v', 23: 'w', 24: 'x', 25: 'y', 26: 'z', 0: '.'}\n"
          ]
        }
      ]
    },
    {
      "cell_type": "code",
      "source": [
        "# build the dataset\n",
        "block_size = 3 # context length: how many characters do we take to predict the next one?\n",
        "\n",
        "def build_dataset(words):\n",
        "  X, Y = [], []\n",
        "  for w in words:\n",
        "\n",
        "    #print(w)\n",
        "    context = [0] * block_size\n",
        "    for ch in w + '.':\n",
        "      ix = stoi[ch]\n",
        "      X.append(context)\n",
        "      Y.append(ix)\n",
        "      #print(''.join(itos[i] for i in context), '--->', itos[ix])\n",
        "      context = context[1:] + [ix] # crop and append\n",
        "\n",
        "  X = torch.tensor(X)\n",
        "  Y = torch.tensor(Y)\n",
        "  print(X.shape, Y.shape)\n",
        "  return X, Y\n",
        "\n",
        "import random\n",
        "random.seed(42)\n",
        "#random.shuffle(words)\n",
        "\n",
        "n1 = int(0.8*len(words)) #sizes for the train, dev, and test set\n",
        "n2 = int(0.9*len(words))\n",
        "\n",
        "Xtr, Ytr = build_dataset(words[:n1])\n",
        "Xdev, Ydev = build_dataset(words[n1:n2])\n",
        "Xte, Yte = build_dataset(words[n2:])"
      ],
      "metadata": {
        "colab": {
          "base_uri": "https://localhost:8080/"
        },
        "id": "MB5XgJxdczFi",
        "outputId": "d4d83013-d0f7-40ea-d546-967bd8b5ba23"
      },
      "execution_count": 6,
      "outputs": [
        {
          "output_type": "stream",
          "name": "stdout",
          "text": [
            "torch.Size([182778, 3]) torch.Size([182778])\n",
            "torch.Size([22633, 3]) torch.Size([22633])\n",
            "torch.Size([22735, 3]) torch.Size([22735])\n"
          ]
        }
      ]
    },
    {
      "cell_type": "code",
      "source": [
        "num_examples_to_print = 10\n",
        "for i in range(num_examples_to_print):\n",
        "  print(f\"Xtr[{i}]=\", [itos[Xtr[i,j].item()] for j in range(3)] )\n",
        "  print(f\"Ytr[{i}]=\", [itos[Ytr[i].item()] for j in range(1)] )\n",
        "  print(\"-----\")\n",
        ""
      ],
      "metadata": {
        "id": "7-p-eIjblYs4",
        "outputId": "4ece4a9f-20c0-41a6-d227-395165fa5caa",
        "colab": {
          "base_uri": "https://localhost:8080/"
        }
      },
      "execution_count": 7,
      "outputs": [
        {
          "output_type": "stream",
          "name": "stdout",
          "text": [
            "Xtr[0]= ['.', '.', '.']\n",
            "Ytr[0]= ['e']\n",
            "-----\n",
            "Xtr[1]= ['.', '.', 'e']\n",
            "Ytr[1]= ['m']\n",
            "-----\n",
            "Xtr[2]= ['.', 'e', 'm']\n",
            "Ytr[2]= ['m']\n",
            "-----\n",
            "Xtr[3]= ['e', 'm', 'm']\n",
            "Ytr[3]= ['a']\n",
            "-----\n",
            "Xtr[4]= ['m', 'm', 'a']\n",
            "Ytr[4]= ['.']\n",
            "-----\n",
            "Xtr[5]= ['.', '.', '.']\n",
            "Ytr[5]= ['o']\n",
            "-----\n",
            "Xtr[6]= ['.', '.', 'o']\n",
            "Ytr[6]= ['l']\n",
            "-----\n",
            "Xtr[7]= ['.', 'o', 'l']\n",
            "Ytr[7]= ['i']\n",
            "-----\n",
            "Xtr[8]= ['o', 'l', 'i']\n",
            "Ytr[8]= ['v']\n",
            "-----\n",
            "Xtr[9]= ['l', 'i', 'v']\n",
            "Ytr[9]= ['i']\n",
            "-----\n"
          ]
        }
      ]
    },
    {
      "cell_type": "markdown",
      "source": [
        "# Setup a MLP to run on our training set"
      ],
      "metadata": {
        "id": "2r98-nzimgPC"
      }
    },
    {
      "cell_type": "code",
      "source": [
        "g = torch.Generator().manual_seed(2147483647) # for reproducibility\n",
        "\n",
        "embed_dim = 6\n",
        "hidden_layer_size = 500\n",
        "C = torch.randn((27, embed_dim), generator=g)\n",
        "W1 = torch.randn((block_size*embed_dim, hidden_layer_size), generator=g)\n",
        "b1 = torch.randn(hidden_layer_size, generator=g)\n",
        "W2 = torch.randn((hidden_layer_size, 27), generator=g)\n",
        "b2 = torch.randn(27, generator=g)\n",
        "parameters = [C, W1, b1, W2, b2]"
      ],
      "metadata": {
        "id": "EAA0_oigc13X"
      },
      "execution_count": 8,
      "outputs": []
    },
    {
      "cell_type": "code",
      "source": [
        "sum(p.nelement() for p in parameters) # number of parameters in total"
      ],
      "metadata": {
        "colab": {
          "base_uri": "https://localhost:8080/"
        },
        "id": "_HcVef6-c5S4",
        "outputId": "296f84e7-04c6-482b-f372-281ee1609f9c"
      },
      "execution_count": 9,
      "outputs": [
        {
          "output_type": "execute_result",
          "data": {
            "text/plain": [
              "23189"
            ]
          },
          "metadata": {},
          "execution_count": 9
        }
      ]
    },
    {
      "cell_type": "code",
      "source": [
        "for p in parameters:\n",
        "  p.requires_grad = True"
      ],
      "metadata": {
        "id": "coNBea1sc6tm"
      },
      "execution_count": 10,
      "outputs": []
    },
    {
      "cell_type": "code",
      "source": [
        "lri = []\n",
        "lossi = []\n",
        "stepi = []"
      ],
      "metadata": {
        "id": "t2huuyTudBlF"
      },
      "execution_count": 11,
      "outputs": []
    },
    {
      "cell_type": "code",
      "source": [
        "num_batches = 200000\n",
        "batch_size = 256\n",
        "\n",
        "lrs = 10**torch.linspace(0,-3, num_batches) #scale learning rate from 1 at beginning to 0.001 at the end\n",
        "\n",
        "for i in tqdm(range(num_batches)): #tqdm is a fancy progress bar\n",
        "\n",
        "  # minibatch construct\n",
        "  ix = torch.randint(0, Xtr.shape[0], (batch_size,))\n",
        "\n",
        "  # forward pass\n",
        "  emb = C[Xtr[ix]] # (batch_size, block_size, 2)\n",
        "  h = torch.tanh(emb.view(-1, block_size*embed_dim) @ W1 + b1) # (batch_size, 100)\n",
        "  logits = h @ W2 + b2 # (batch_size, 27)\n",
        "  loss = F.cross_entropy(logits, Ytr[ix])\n",
        "  #print(loss.item())\n",
        "\n",
        "  # backward pass\n",
        "  for p in parameters:\n",
        "    p.grad = None\n",
        "  loss.backward()\n",
        "\n",
        "  # update\n",
        "  lr = lrs[i]\n",
        "  #lr = 0.2 if i < 50000 else 0.01\n",
        "  for p in parameters:\n",
        "    p.data += -lr * p.grad\n",
        "\n",
        "  # track stats\n",
        "  #lri.append(lre[i])\n",
        "  stepi.append(i)\n",
        "  lossi.append(loss.item())\n",
        "  if 10*i % num_batches == 0:\n",
        "    print(f\"\\nBatch {i}, Loss is {loss}\")\n",
        "\n",
        "#print(loss.item())"
      ],
      "metadata": {
        "id": "jiKD-PPOdClh",
        "outputId": "2ef26079-2061-45b5-e83b-630392899b33",
        "colab": {
          "base_uri": "https://localhost:8080/"
        }
      },
      "execution_count": 12,
      "outputs": [
        {
          "output_type": "stream",
          "name": "stderr",
          "text": [
            "  0%|          | 5/200000 [00:00<1:16:21, 43.66it/s]"
          ]
        },
        {
          "output_type": "stream",
          "name": "stdout",
          "text": [
            "\n",
            "Batch 0, Loss is 34.132568359375\n"
          ]
        },
        {
          "output_type": "stream",
          "name": "stderr",
          "text": [
            " 10%|█         | 20064/200000 [01:09<07:04, 423.67it/s]"
          ]
        },
        {
          "output_type": "stream",
          "name": "stdout",
          "text": [
            "\n",
            "Batch 20000, Loss is 2.501650094985962\n"
          ]
        },
        {
          "output_type": "stream",
          "name": "stderr",
          "text": [
            " 20%|██        | 40030/200000 [02:04<10:23, 256.37it/s]"
          ]
        },
        {
          "output_type": "stream",
          "name": "stdout",
          "text": [
            "\n",
            "Batch 40000, Loss is 2.169135570526123\n"
          ]
        },
        {
          "output_type": "stream",
          "name": "stderr",
          "text": [
            " 30%|███       | 60026/200000 [03:01<09:13, 252.69it/s]"
          ]
        },
        {
          "output_type": "stream",
          "name": "stdout",
          "text": [
            "\n",
            "Batch 60000, Loss is 2.113926410675049\n"
          ]
        },
        {
          "output_type": "stream",
          "name": "stderr",
          "text": [
            " 40%|████      | 80057/200000 [03:57<04:54, 407.68it/s]"
          ]
        },
        {
          "output_type": "stream",
          "name": "stdout",
          "text": [
            "\n",
            "Batch 80000, Loss is 2.0521230697631836\n"
          ]
        },
        {
          "output_type": "stream",
          "name": "stderr",
          "text": [
            " 50%|█████     | 100081/200000 [04:52<03:56, 423.12it/s]"
          ]
        },
        {
          "output_type": "stream",
          "name": "stdout",
          "text": [
            "\n",
            "Batch 100000, Loss is 1.8642668724060059\n"
          ]
        },
        {
          "output_type": "stream",
          "name": "stderr",
          "text": [
            " 60%|██████    | 120060/200000 [05:48<03:13, 413.02it/s]"
          ]
        },
        {
          "output_type": "stream",
          "name": "stdout",
          "text": [
            "\n",
            "Batch 120000, Loss is 1.86745285987854\n"
          ]
        },
        {
          "output_type": "stream",
          "name": "stderr",
          "text": [
            " 70%|███████   | 140039/200000 [06:42<03:42, 269.29it/s]"
          ]
        },
        {
          "output_type": "stream",
          "name": "stdout",
          "text": [
            "\n",
            "Batch 140000, Loss is 2.0123543739318848\n"
          ]
        },
        {
          "output_type": "stream",
          "name": "stderr",
          "text": [
            " 80%|████████  | 160047/200000 [07:36<01:36, 415.85it/s]"
          ]
        },
        {
          "output_type": "stream",
          "name": "stdout",
          "text": [
            "\n",
            "Batch 160000, Loss is 1.956717610359192\n"
          ]
        },
        {
          "output_type": "stream",
          "name": "stderr",
          "text": [
            " 90%|█████████ | 180039/200000 [08:32<00:50, 395.10it/s]"
          ]
        },
        {
          "output_type": "stream",
          "name": "stdout",
          "text": [
            "\n",
            "Batch 180000, Loss is 1.8953185081481934\n"
          ]
        },
        {
          "output_type": "stream",
          "name": "stderr",
          "text": [
            "100%|██████████| 200000/200000 [09:27<00:00, 352.58it/s]\n"
          ]
        }
      ]
    },
    {
      "cell_type": "code",
      "source": [
        "window_size = 1000\n",
        "rolling_average = np.convolve(lossi, np.ones(window_size)/window_size, mode='valid')\n",
        "plt.plot(rolling_average)\n",
        "plt.yscale(\"log\")\n",
        "plt.title(f\"Average of loss over last {window_size} inputs\")\n",
        "plt.show()"
      ],
      "metadata": {
        "colab": {
          "base_uri": "https://localhost:8080/",
          "height": 452
        },
        "id": "ZBAYXZ_rdGIG",
        "outputId": "a2e1ae94-27ba-409b-ebdc-1669dcb6ce81"
      },
      "execution_count": 13,
      "outputs": [
        {
          "output_type": "display_data",
          "data": {
            "text/plain": [
              "<Figure size 640x480 with 1 Axes>"
            ],
            "image/png": "[encoded data removed]"
          },
          "metadata": {}
        }
      ]
    },
    {
      "cell_type": "code",
      "source": [
        "# training loss\n",
        "def loss(myX,myY):\n",
        "  emb = C[myX] # (32, 3, 2)\n",
        "  h = torch.tanh(emb.view(-1, block_size*embed_dim) @ W1 + b1) # (32, 100)\n",
        "  logits = h @ W2 + b2 # (32, 27)\n",
        "  loss = F.cross_entropy(logits, myY)\n",
        "  return loss\n",
        "\n",
        "print(f\"Training loss: {loss(Xtr,Ytr)}\")\n",
        "print(f\"Dev loss: {loss(Xdev,Ydev)}\")\n",
        "print(f\"Test loss: {loss(Xte,Yte)}\")"
      ],
      "metadata": {
        "colab": {
          "base_uri": "https://localhost:8080/"
        },
        "id": "ZlhYinNgdIVF",
        "outputId": "f5c448de-b8fe-40b8-da9c-7b0a1aee590c"
      },
      "execution_count": 14,
      "outputs": [
        {
          "output_type": "stream",
          "name": "stdout",
          "text": [
            "Training loss: 1.9257314205169678\n",
            "Dev loss: 2.3717129230499268\n",
            "Test loss: 2.42765474319458\n"
          ]
        }
      ]
    },
    {
      "cell_type": "code",
      "source": [
        "# visualize dimensions 0 and 1 of the embedding\n",
        "from sklearn.decomposition import PCA\n",
        "pca = PCA(n_components=2)\n",
        "pca.fit(C.detach().numpy())\n",
        "my_C = pca.transform(C.detach().numpy())\n",
        "\n",
        "plt.figure(figsize=(8,8))\n",
        "plt.scatter(my_C[:,0].data,my_C[:,1].data, s=200)\n",
        "plt.title(\"visualiztion of vector embeddings (top 2 PCA)\")\n",
        "for i in range(C.shape[0]):\n",
        "    my_color = 'white'\n",
        "    if itos[i] in ['a','e','i','o','u','.','y']:\n",
        "      my_color = 'yellow'\n",
        "    plt.text(my_C[i,0].item(), my_C[i,1].item(), itos[i], ha=\"center\", va=\"center\", color=my_color)\n",
        "plt.grid('minor')"
      ],
      "metadata": {
        "colab": {
          "base_uri": "https://localhost:8080/",
          "height": 699
        },
        "id": "CCWLYP9GdPP4",
        "outputId": "4d2e7821-bfd4-4a9f-9983-6bcfd6a4d1fc"
      },
      "execution_count": 15,
      "outputs": [
        {
          "output_type": "display_data",
          "data": {
            "text/plain": [
              "<Figure size 800x800 with 1 Axes>"
            ],
            "image/png": "[encoded data removed]"
          },
          "metadata": {}
        }
      ]
    },
    {
      "cell_type": "code",
      "source": [
        "# sample from the model\n",
        "g = torch.Generator().manual_seed(2147483647 + 10)\n",
        "\n",
        "for _ in range(50):\n",
        "\n",
        "    out = []\n",
        "    context = [0] * block_size # initialize with all ...\n",
        "    while True:\n",
        "      emb = C[torch.tensor([context])] # (1,block_size,d)\n",
        "      h = torch.tanh(emb.view(1, -1) @ W1 + b1)\n",
        "      logits = h @ W2 + b2\n",
        "      probs = F.softmax(logits, dim=1)\n",
        "      ix = torch.multinomial(probs, num_samples=1, generator=g).item()\n",
        "      context = context[1:] + [ix]\n",
        "      out.append(ix)\n",
        "      if ix == 0:\n",
        "        break\n",
        "\n",
        "    print(''.join(itos[i] for i in out))"
      ],
      "metadata": {
        "colab": {
          "base_uri": "https://localhost:8080/"
        },
        "id": "TQUMmgRrdRIA",
        "outputId": "da00991b-8846-4807-86ce-64fc8eb7b4b3"
      },
      "execution_count": 16,
      "outputs": [
        {
          "output_type": "stream",
          "name": "stdout",
          "text": [
            "montaymyah.\n",
            "seel.\n",
            "nihaham.\n",
            "remmadiendra.\n",
            "grace.\n",
            "kaitlin.\n",
            "shi.\n",
            "jenleigh.\n",
            "estanaraelyza.\n",
            "honelin.\n",
            "shubergiagrael.\n",
            "kinleen.\n",
            "jerenterian.\n",
            "brence.\n",
            "ryannalyen.\n",
            "yuma.\n",
            "myston.\n",
            "mahil.\n",
            "salynn.\n",
            "una.\n",
            "alel.\n",
            "julei.\n",
            "cre.\n",
            "kaveaong.\n",
            "pord.\n",
            "jahni.\n",
            "elessaphil.\n",
            "samuelyn.\n",
            "hunton.\n",
            "isa.\n",
            "iri.\n",
            "evon.\n",
            "walla.\n",
            "ortassi.\n",
            "tani.\n",
            "silvia.\n",
            "itan.\n",
            "debby.\n",
            "vivionni.\n",
            "keyanna.\n",
            "sparteud.\n",
            "jackenna.\n",
            "alin.\n",
            "audrie.\n",
            "bryshavirley.\n",
            "jayera.\n",
            "mooa.\n",
            "crictavica.\n",
            "jovon.\n",
            "ellahnny.\n"
          ]
        }
      ]
    }
  ]
}