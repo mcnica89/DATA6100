{
  "nbformat": 4,
  "nbformat_minor": 0,
  "metadata": {
    "colab": {
      "provenance": [],
      "authorship_tag": "ABX9TyMTMhmGE6Pa4vms5onuCG8y",
      "include_colab_link": true
    },
    "kernelspec": {
      "name": "python3",
      "display_name": "Python 3"
    },
    "language_info": {
      "name": "python"
    }
  },
  "cells": [
    {
      "cell_type": "markdown",
      "metadata": {
        "id": "view-in-github",
        "colab_type": "text"
      },
      "source": [
        "<a href=\"https://colab.research.google.com/github/mcnica89/DATA6100_F23/blob/main/pytorch_vs_jax_gradients_example.ipynb\" target=\"_parent\"><img src=\"https://colab.research.google.com/assets/colab-badge.svg\" alt=\"Open In Colab\"/></a>"
      ]
    },
    {
      "cell_type": "markdown",
      "source": [
        "\n",
        "# Gradient in Torch using the loss.backward() function\n",
        "\n"
      ],
      "metadata": {
        "id": "YbXk6qwTaq19"
      }
    },
    {
      "cell_type": "code",
      "execution_count": 1,
      "metadata": {
        "id": "50isXMKbOcA2"
      },
      "outputs": [],
      "source": [
        "import torch"
      ]
    },
    {
      "cell_type": "code",
      "source": [
        "x = torch.arange(5,dtype=float)\n",
        "print(f\"{x=}\")"
      ],
      "metadata": {
        "colab": {
          "base_uri": "https://localhost:8080/"
        },
        "id": "LuMSf_43Oc2d",
        "outputId": "192719d2-8f69-4153-e5f2-be54c7dfc9e7"
      },
      "execution_count": 2,
      "outputs": [
        {
          "output_type": "stream",
          "name": "stdout",
          "text": [
            "x=tensor([0., 1., 2., 3., 4.], dtype=torch.float64)\n"
          ]
        }
      ]
    },
    {
      "cell_type": "code",
      "source": [
        "x.requires_grad = True\n",
        "x.grad = None"
      ],
      "metadata": {
        "id": "AmzvTpMTbC5y"
      },
      "execution_count": 3,
      "outputs": []
    },
    {
      "cell_type": "code",
      "source": [
        "score = torch.sum(x**2)\n",
        "print(f\"{score=}\")"
      ],
      "metadata": {
        "colab": {
          "base_uri": "https://localhost:8080/"
        },
        "id": "yrSiyYliOhOm",
        "outputId": "99e342cb-a4d6-4c78-b2e8-70aeac1afd0c"
      },
      "execution_count": 4,
      "outputs": [
        {
          "output_type": "stream",
          "name": "stdout",
          "text": [
            "score=tensor(30., dtype=torch.float64, grad_fn=<SumBackward0>)\n"
          ]
        }
      ]
    },
    {
      "cell_type": "code",
      "source": [
        "score.backward()"
      ],
      "metadata": {
        "id": "ljlKTa9GOpI6"
      },
      "execution_count": 5,
      "outputs": []
    },
    {
      "cell_type": "code",
      "source": [
        "print(x.grad)"
      ],
      "metadata": {
        "id": "ZuUVqMgOOrXC",
        "colab": {
          "base_uri": "https://localhost:8080/"
        },
        "outputId": "4ca37b0b-b6b7-4a02-9efb-4ffb0976acf8"
      },
      "execution_count": 6,
      "outputs": [
        {
          "output_type": "stream",
          "name": "stdout",
          "text": [
            "tensor([0., 2., 4., 6., 8.], dtype=torch.float64)\n"
          ]
        }
      ]
    },
    {
      "cell_type": "markdown",
      "source": [
        "# Gradient in jax using jax.grad(loss)"
      ],
      "metadata": {
        "id": "OlXIwNbAavlh"
      }
    },
    {
      "cell_type": "code",
      "source": [
        "import jax.numpy as jnp\n",
        "import jax"
      ],
      "metadata": {
        "id": "w2Dq41Dya1bX"
      },
      "execution_count": 15,
      "outputs": []
    },
    {
      "cell_type": "code",
      "source": [
        "z = jnp.arange(5,dtype=float)\n",
        "print(f\"{z=}\")"
      ],
      "metadata": {
        "colab": {
          "base_uri": "https://localhost:8080/"
        },
        "id": "5DClahZna2EC",
        "outputId": "96eac686-0d51-4cd7-eefd-02f5867171fa"
      },
      "execution_count": 19,
      "outputs": [
        {
          "output_type": "stream",
          "name": "stdout",
          "text": [
            "z=Array([0., 1., 2., 3., 4.], dtype=float32)\n"
          ]
        }
      ]
    },
    {
      "cell_type": "code",
      "source": [
        "def loss(my_x):\n",
        "  return jnp.sum(my_x**2)\n",
        "\n",
        "my_loss = loss(z)\n",
        "print(f\"{my_loss=}\")"
      ],
      "metadata": {
        "colab": {
          "base_uri": "https://localhost:8080/"
        },
        "id": "p6uTPdvLa3j0",
        "outputId": "9453f888-e5ec-4a77-babe-f16c3ca98e61"
      },
      "execution_count": 20,
      "outputs": [
        {
          "output_type": "stream",
          "name": "stdout",
          "text": [
            "my_loss=Array(30., dtype=float32)\n"
          ]
        }
      ]
    },
    {
      "cell_type": "code",
      "source": [
        "my_grad = jax.grad(loss)(z)\n",
        "print(f\"{my_grad=}\")"
      ],
      "metadata": {
        "colab": {
          "base_uri": "https://localhost:8080/"
        },
        "id": "pE_BjpZSbaYV",
        "outputId": "9fc261cd-d6ce-4436-acef-8098648cdf94"
      },
      "execution_count": 22,
      "outputs": [
        {
          "output_type": "stream",
          "name": "stdout",
          "text": [
            "my_grad=Array([0., 2., 4., 6., 8.], dtype=float32)\n"
          ]
        }
      ]
    },
    {
      "cell_type": "code",
      "source": [],
      "metadata": {
        "id": "71CBe8egbkRd"
      },
      "execution_count": null,
      "outputs": []
    }
  ]
}